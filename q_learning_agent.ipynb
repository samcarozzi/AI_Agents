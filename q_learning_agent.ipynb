{
  "cells": [
    {
      "cell_type": "markdown",
      "metadata": {
        "id": "gKTBPBJy-MIp"
      },
      "source": [
        "# Instructions\n",
        "\n",
        "*Text Adventure Games* are games in which the player interacts with a rich world only through text. Text adventure games predate computers with graphics. However, in many ways they are more complex than conventional video games because they can involve complicated interactions (e.g., \"build a rope bridge\") that require a fair amount of imagination. Indeed, text adventure games are used as [research testbeds](https://arxiv.org/abs/1909.05398) for natural language processing agents.\n",
        "\n",
        "The canonical text adventure game is [Zork](https://en.wikipedia.org/wiki/Zork), in which the player discover an abandoned underworld realm full of treasure. You can find online playable versions.\n",
        "\n",
        "A text game is made up of individual locations--also called \"rooms\", though they need not be indoor enclosed spaces as the term might imply. The agent can move between rooms and interact with objects by typing in short commands like \"move north\" and \"take lamp\".\n",
        "\n",
        "In this assignment, we will use a special package that implements text worlds for testing agents: [TextWorld-Express](https://github.com/cognitiveailab/TextWorldExpress). Textworld-Express simplifies text worlds in a few ways: it uses a reduced set of text commands, and rooms laid out in a grid.\n",
        "TextWorld-Express also implements a few different game objectives, such as cooking, and searching for coins.\n",
        "TextWorld-Express generates world configurations, so we will need to implement algorithms that are able to complete different game objectives in different world configurations.\n",
        "\n",
        "In this assignment, our agents will play a custom game wherein the agent must locate a ghost that cannot be directly observed based on noises that can be perceived with some probabilistic uncertainty.\n",
        "\n",
        "**We will be implementing and using Bayesian Networks for this part of Assignment 3.**\n",
        "\n",
        "You are prohibited from using any python package that does not come default with Python, except `textworld-express`, `graphviz`, and `pydot`, which are loaded as part of this notebook.\n",
        "\n",
        "**Notes:**\n",
        "- If you break execution of a cell running the game engine, you may put TextWorld-Express in an un-recoverable state. If this happens, you will need to reset your kernel/runtime.\n",
        "- In the Map Reader game, you **can** use the map information.\n",
        "- ***DO NOT REMOVE ANY COMMENTS THAT HAVE `# export` IN THEM. THE GRADING SCRIPT USES THESE COMMENTS TO EVALUATE YOUR FUNCTIONS. WE WILL NOT AUDIT SUBMISSIONS TO ADD THESE. IF THE AUTOGRADER FAILS TO RUN DUE TO YOUR MODIFICATION OF THESE COMMENTS, YOU WILL NOT RECEIVE CREDIT.***\n"
      ]
    },
    {
      "cell_type": "markdown",
      "metadata": {
        "id": "NMJadvTO-O7z"
      },
      "source": [
        "# Install"
      ]
    },
    {
      "cell_type": "markdown",
      "metadata": {
        "id": "AdVL2D-B-qYC"
      },
      "source": [
        "Install the TextWorld-Express engine, and graphviz and pydot for visualization."
      ]
    },
    {
      "cell_type": "code",
      "execution_count": null,
      "metadata": {
        "colab": {
          "base_uri": "https://localhost:8080/"
        },
        "id": "Q_jkFnjg-C7N",
        "outputId": "e56effda-70bc-4989-da88-ad46c1a08106"
      },
      "outputs": [
        {
          "name": "stdout",
          "output_type": "stream",
          "text": [
            "Collecting gymnasium\n",
            "  Downloading gymnasium-1.0.0-py3-none-any.whl.metadata (9.5 kB)\n",
            "Requirement already satisfied: numpy>=1.21.0 in /usr/local/lib/python3.10/dist-packages (from gymnasium) (1.26.4)\n",
            "Requirement already satisfied: cloudpickle>=1.2.0 in /usr/local/lib/python3.10/dist-packages (from gymnasium) (2.2.1)\n",
            "Requirement already satisfied: typing-extensions>=4.3.0 in /usr/local/lib/python3.10/dist-packages (from gymnasium) (4.12.2)\n",
            "Collecting farama-notifications>=0.0.1 (from gymnasium)\n",
            "  Downloading Farama_Notifications-0.0.4-py3-none-any.whl.metadata (558 bytes)\n",
            "Downloading gymnasium-1.0.0-py3-none-any.whl (958 kB)\n",
            "\u001b[2K   \u001b[90m━━━━━━━━━━━━━━━━━━━━━━━━━━━━━━━━━━━━━━━━\u001b[0m \u001b[32m958.1/958.1 kB\u001b[0m \u001b[31m7.7 MB/s\u001b[0m eta \u001b[36m0:00:00\u001b[0m\n",
            "\u001b[?25hDownloading Farama_Notifications-0.0.4-py3-none-any.whl (2.5 kB)\n",
            "Installing collected packages: farama-notifications, gymnasium\n",
            "Successfully installed farama-notifications-0.0.4 gymnasium-1.0.0\n",
            "Collecting textworld-express\n",
            "  Downloading textworld_express-1.0.4-py3-none-any.whl.metadata (20 kB)\n",
            "Requirement already satisfied: py4j in /usr/local/lib/python3.10/dist-packages (from textworld-express) (0.10.9.7)\n",
            "Collecting orjson (from textworld-express)\n",
            "  Downloading orjson-3.10.7-cp310-cp310-manylinux_2_17_x86_64.manylinux2014_x86_64.whl.metadata (50 kB)\n",
            "\u001b[2K     \u001b[90m━━━━━━━━━━━━━━━━━━━━━━━━━━━━━━━━━━━━━━━━\u001b[0m \u001b[32m50.4/50.4 kB\u001b[0m \u001b[31m742.1 kB/s\u001b[0m eta \u001b[36m0:00:00\u001b[0m\n",
            "\u001b[?25hRequirement already satisfied: prompt-toolkit in /usr/local/lib/python3.10/dist-packages (from textworld-express) (3.0.48)\n",
            "Requirement already satisfied: wcwidth in /usr/local/lib/python3.10/dist-packages (from prompt-toolkit->textworld-express) (0.2.13)\n",
            "Downloading textworld_express-1.0.4-py3-none-any.whl (1.5 MB)\n",
            "\u001b[2K   \u001b[90m━━━━━━━━━━━━━━━━━━━━━━━━━━━━━━━━━━━━━━━━\u001b[0m \u001b[32m1.5/1.5 MB\u001b[0m \u001b[31m11.3 MB/s\u001b[0m eta \u001b[36m0:00:00\u001b[0m\n",
            "\u001b[?25hDownloading orjson-3.10.7-cp310-cp310-manylinux_2_17_x86_64.manylinux2014_x86_64.whl (141 kB)\n",
            "\u001b[2K   \u001b[90m━━━━━━━━━━━━━━━━━━━━━━━━━━━━━━━━━━━━━━━━\u001b[0m \u001b[32m141.9/141.9 kB\u001b[0m \u001b[31m10.0 MB/s\u001b[0m eta \u001b[36m0:00:00\u001b[0m\n",
            "\u001b[?25hInstalling collected packages: orjson, textworld-express\n",
            "Successfully installed orjson-3.10.7 textworld-express-1.0.4\n",
            "Requirement already satisfied: graphviz in /usr/local/lib/python3.10/dist-packages (0.20.3)\n",
            "Requirement already satisfied: pydot in /usr/local/lib/python3.10/dist-packages (3.0.2)\n",
            "Requirement already satisfied: pyparsing>=3.0.9 in /usr/local/lib/python3.10/dist-packages (from pydot) (3.1.4)\n"
          ]
        }
      ],
      "source": [
        "%pip install gymnasium\n",
        "%pip install textworld-express\n",
        "%pip install graphviz\n",
        "%pip install pydot"
      ]
    },
    {
      "cell_type": "markdown",
      "metadata": {
        "id": "f0GaE8xE-T6A"
      },
      "source": [
        "# Imports"
      ]
    },
    {
      "cell_type": "code",
      "execution_count": null,
      "metadata": {
        "id": "_ScAIKmf-Vmm"
      },
      "outputs": [],
      "source": [
        "# export\n",
        "# NOTE: DO NOT MODIFY ANY EXISTING IMPORTS. You are\n",
        "# allowed to ADD imports from the Python standard\n",
        "# library.\n",
        "\n",
        "from textworld_express import TextWorldExpressEnv\n",
        "import gymnasium\n",
        "import graphviz\n",
        "import pydot\n",
        "import numpy\n",
        "from IPython.display import Image\n",
        "from IPython.display import display\n",
        "import matplotlib.pyplot as plt\n",
        "from collections import namedtuple\n",
        "import re\n",
        "import os\n",
        "import copy\n",
        "import json\n",
        "import math\n",
        "import random\n",
        "import networkx as nx\n",
        "from itertools import combinations"
      ]
    },
    {
      "cell_type": "markdown",
      "metadata": {
        "id": "7U9ElZek-y5I"
      },
      "source": [
        "# Load a Game"
      ]
    },
    {
      "cell_type": "markdown",
      "metadata": {
        "id": "Rg_yOwlT_ByQ"
      },
      "source": [
        "Set the random seed for repeatablity"
      ]
    },
    {
      "cell_type": "code",
      "execution_count": null,
      "metadata": {
        "id": "cIGNj42d-93N"
      },
      "outputs": [],
      "source": [
        "SEED = 3"
      ]
    },
    {
      "cell_type": "markdown",
      "metadata": {
        "id": "_8_CqmGx_GOo"
      },
      "source": [
        "Initialize the game environment. `ENV` is a global that encapulates the environment."
      ]
    },
    {
      "cell_type": "code",
      "execution_count": null,
      "metadata": {
        "id": "CRwKCeqK_JOy"
      },
      "outputs": [],
      "source": [
        "ENV = TextWorldExpressEnv(envStepLimit=100)"
      ]
    },
    {
      "cell_type": "markdown",
      "metadata": {
        "id": "CtJDssBp_Kd_"
      },
      "source": [
        "Set the game generator to generate a particular game (coin game or map reader)"
      ]
    },
    {
      "cell_type": "code",
      "execution_count": null,
      "metadata": {
        "id": "piAle474_SPG"
      },
      "outputs": [],
      "source": [
        "GAME_TYPE = \"coin\"\n",
        "GAME_PARAMS = \"numLocations=5,includeDoors=0,numDistractorItems=0\"\n",
        "ENV.load(gameName=GAME_TYPE, gameParams=GAME_PARAMS)"
      ]
    },
    {
      "cell_type": "markdown",
      "metadata": {
        "id": "0cBfmUDG1XHk"
      },
      "source": [
        "# Ghost Hunting"
      ]
    },
    {
      "cell_type": "markdown",
      "metadata": {
        "id": "3aRVODRKppN1"
      },
      "source": [
        "This environment features a ghost that cannot be seen and might be inside a room or inside the walls (not in a room). However, you can \"hear\" the ghost make noise. Whenever an action is taken in the world, the agent will also receive information about how far away the ghost sounds. **Unfortunately, this perceived distance is noisy and sometimes it will sound farther away than it actually is, and sometimes it will sound closer than it actually is.**\n",
        "\n",
        "**Luckily, we also have another tool in our ghost hunting toolbelt**: We are given a special sensor that can give us the horizonal (X coordinate) distance of the ghost from the origin of our grid. The only problem is that this distance is noisy, and we can't see the reproted distance, only a distribution of the different distances.\n",
        "\n",
        "The agent's goal is to locate where the ghost is.\n",
        "\n",
        "The `infos` returned by the `env.step()` action returns three extra pieces of information:\n",
        "- `infos['ghost']` holds a distance (Manhattan distance) to the ghost. This is a \"noisy\" distance--it may not be the actual distance to the ghost.\n",
        "- `infos['distribution']` holds a distribution over possible noisy distance values, as a numpy array where the index is the number of units away (Manhattan distance). For example, if `infos['ghost'] = 6` then the distribution will tell you the probability that that value is accurate. If the distribution is:\n",
        "```\n",
        "[0.         0.0106383  0.0212766  0.04255319 0.08510638 0.17021277 0.34042553 0.17021277 0.08510638 0.04255319 0.0212766 ]\n",
        "```\n",
        "then there is ~34% probability that the ghost is actually 6 units away, but there is ~17% probability that the ghost is actually 5 units away.\n",
        "- `infos['x_dist_distribution']` holds the distribution of the noisy x distance (**absolute distance**) of the ghost from the origin, as a numpy array where the index is the number of units away (absolute x distance). This operates the same way as the distribution explained above, but for x distance rather than manhattan distance.\n",
        "- `infos['player']` holds the `(x, y)` position of the player/agent.\n",
        "\n",
        "**Important: The two sensors are independent. Please note this will effect how you incorporate the two sensors. We highly recommend drawing out the Bayes Diagram/Bayes Rule formula for the sitation as was done in class.**\n",
        "\n",
        "The agent must guess the `(x, y)` position of the ghost. Once it has a reliable guess, it can perform a special action, `'report'`, which is followed by two numbers separated by spaces that indicate the ghost's x and y position (e.g., `'report 3 4'` would indicate that the agent thought the ghost was in position x=3, y=4). If the guess is correct, the observation returned will be `'True'` and if it is wrong, the observation returned will be `'False'`. Once a report is made, the agent cannot perform any further actions."
      ]
    },
    {
      "cell_type": "code",
      "execution_count": null,
      "metadata": {
        "id": "GsQWZj0H1WeS"
      },
      "outputs": [],
      "source": [
        "class GhostTextWorldExpressEnv(TextWorldExpressEnv):\n",
        "\n",
        "  def __init__(self, serverPath=None, envStepLimit=100):\n",
        "    # Call the super constructor\n",
        "    super().__init__(serverPath, envStepLimit)\n",
        "    self.__ghost = None         # Ghost location - (x, y) - initially None\n",
        "    self.__player = (0, 0)      # Player location - (x, y)\n",
        "    self.__max_dist = 5         # Range the ghost is allowed to be in. Default is 5\n",
        "    self.__noise_values = None  # keep track of the +/- actual distance values, relative to the ghost\n",
        "    self.__noise_counts = None  # Probability (non-normalized) of noise values, relative to the ghost\n",
        "\n",
        "  ### Override for the environment load function\n",
        "  def load(self, gameName, gameParams):\n",
        "    # Call the super method\n",
        "    super().load(gameName, gameParams)\n",
        "    # Figure out how many locations are in the gameParams. This will set max_dist\n",
        "    m = re.search(r'numLocations\\=([0-9]+)', gameParams)\n",
        "    if m is not None and m.lastindex >= 1:\n",
        "      # numLocations found in gameParams\n",
        "      self.__max_dist = int(m[1]) + (1 if int(m[1])%2==0 else 0)\n",
        "    else:\n",
        "      # Relying on defaults\n",
        "      self.__max_dist = 5\n",
        "    # Initialize noise values and noise counts\n",
        "    self.__noise_values = numpy.array([i - self.__max_dist for i in range((self.__max_dist*2)+1)])\n",
        "    self.__noise_counts = numpy.array(list(map(lambda x:int(x), [2 ** (self.__max_dist-abs(v)) for v in self.__noise_values])))\n",
        "    self.__ghost = None\n",
        "    self.__player = (0, 0)\n",
        "\n",
        "  ### Override for the environment reset function\n",
        "  def reset(self, seed=None, gameFold=None, gameName=None, gameParams=None, generateGoldPath=False):\n",
        "    # Call the super method\n",
        "    obs, infos = super().reset(seed, gameFold, gameName, gameParams, generateGoldPath)\n",
        "    # Randomly choose the ghost's location\n",
        "    while self.__ghost is None or self.__ghost == (0, 0):\n",
        "        self.__ghost = (random.choice(list(map(lambda x: -1*x, list(range(1,self.__max_dist+1)))) + list(range(self.__max_dist+1))),\n",
        "                    random.choice(list(map(lambda x: -1*x, list(range(1,self.__max_dist+1)))) + list(range(self.__max_dist+1))))\n",
        "    # reset the player\n",
        "    self.__player = (0,0)\n",
        "    # Compute noisy distance to ghost\n",
        "    dist = abs(self.__player[0] - self.__ghost[0]) + abs(self.__ghost[1] - self.__player[1]) # Manhattan distance\n",
        "    noisy_distance = int(max(0, dist + numpy.random.choice(self.__noise_values, p = self.__noise_counts / self.__noise_counts.sum())))\n",
        "    noisy_distance = min(4 * self.__max_dist, noisy_distance)\n",
        "\n",
        "    x_dist = abs(0 - self.__ghost[0]) # X distance\n",
        "    noisy_distance_x = int(max(0, x_dist + numpy.random.choice(self.__noise_values, p = self.__noise_counts / self.__noise_counts.sum())))\n",
        "    noisy_distance_x = min(4 * self.__max_dist, noisy_distance_x)\n",
        "\n",
        "    # Make distribution\n",
        "    infos['distribution'] = self.__make_distribution(noisy_distance)\n",
        "    infos['x_dist_distribution'] = self.__make_distribution(noisy_distance_x)\n",
        "\n",
        "    # Add noisy ghost distance to infos\n",
        "    infos['ghost'] = noisy_distance\n",
        "    # Add player location to infos\n",
        "    infos['player'] = self.__player\n",
        "    # add the 'report' action to the valid actions\n",
        "    infos['validActions'] = infos['validActions']\n",
        "    # Add distance info to observation\n",
        "    if obs == infos['look']:\n",
        "      infos['look']  = self.__make_ghost_obs(infos['look'], noisy_distance)\n",
        "      infos['observation'] = infos['look']\n",
        "      obs = infos['look']\n",
        "    else:\n",
        "      infos['look']  = self.__make_ghost_obs(infos['look'], noisy_distance)\n",
        "    return obs, infos\n",
        "\n",
        "  def get_max_dist(self):\n",
        "    return self.__max_dist\n",
        "\n",
        "  def step(self, action:str):\n",
        "    # If ghost location is none, then the player cannot perform any actions\n",
        "    # Check to see if the action is a 'report'\n",
        "    if action[0:6] == 'report':\n",
        "      # Player is reporting\n",
        "      words = action.strip().split()\n",
        "      if len(words) >= 3:\n",
        "        x = int(words[1]) # x position being guessed\n",
        "        y = int(words[2]) # y position being guessed\n",
        "        if (x, y) == self.__ghost:\n",
        "          # Guess is correct, report True and terminate game\n",
        "          self.__ghost = None\n",
        "          return 'True', 1.0, True, {}\n",
        "        else:\n",
        "          # Guess is incorrect, report False and terminate game\n",
        "          self.__ghost = None\n",
        "          return 'False', -1.0, True, {}\n",
        "    # ASSERT: not reporting (or report is ill-formatted)\n",
        "    if self.__ghost is not None:\n",
        "      # Call the super method\n",
        "      observation, reward, isCompleted, infos = super().step(action)\n",
        "      if observation == infos['look']:\n",
        "        # when the observation is the same as infos[look], it is because of a location change\n",
        "        # Change player location (if at all)\n",
        "        self.__player = self.__change_coordinates(self.__player, action)\n",
        "      # Compute true distance and noisy distance\n",
        "      dist = abs(self.__player[0] - self.__ghost[0]) + abs(self.__ghost[1] - self.__player[1]) # Manhattan distance\n",
        "      noisy_distance = int(max(0, dist + numpy.random.choice(self.__noise_values, p = self.__noise_counts / self.__noise_counts.sum())))\n",
        "      noisy_distance = min(4 * self.__max_dist, noisy_distance)\n",
        "\n",
        "      x_dist = abs(0 - self.__ghost[0]) # X distance\n",
        "      noisy_distance_x = int(max(0, x_dist + numpy.random.choice(self.__noise_values, p = self.__noise_counts / self.__noise_counts.sum())))\n",
        "      noisy_distance_x = min(4 * self.__max_dist, noisy_distance_x)\n",
        "\n",
        "\n",
        "\n",
        "      # Make distribution\n",
        "      infos['distribution'] = self.__make_distribution(noisy_distance)\n",
        "      infos['x_dist_distribution'] = self.__make_distribution(noisy_distance_x)\n",
        "      # Add noisy distance to ghost to infos\n",
        "      infos['ghost'] = noisy_distance\n",
        "      # Add player location to infos\n",
        "      infos['player'] = self.__player\n",
        "      # Add 'report' to valid actions\n",
        "      infos['validActions'] = infos['validActions']\n",
        "      infos['observation'] = infos['look']\n",
        "      if observation == infos['look']:\n",
        "        # when the observation is the same as infos[look], it is because of a location change\n",
        "        infos['look'] = self.__make_ghost_obs(infos['look'], noisy_distance)\n",
        "        observation = infos['look']\n",
        "      else:\n",
        "        infos['look'] = self.__make_ghost_obs(infos['look'], noisy_distance)\n",
        "      # Return all the information\n",
        "      return observation, reward, isCompleted, infos\n",
        "    # ASSERT: ghost is not active, don't allow any action to be executed\n",
        "    return 'The game has ended.', 0.0, True, {}\n",
        "\n",
        "\n",
        "  ### Make a distribution to share with agent\n",
        "  def __make_distribution(self, noisy_distance):\n",
        "    distribution = numpy.zeros(4 * self.__max_dist + 1)\n",
        "    probs = self.__noise_counts / self.__noise_counts.sum()\n",
        "    shifted = probs[max(0, self.__max_dist - noisy_distance):min(len(probs), 5 * self.__max_dist - noisy_distance + 1)]\n",
        "    distribution[max(0, noisy_distance - self.__max_dist):len(shifted)+max(0, noisy_distance - self.__max_dist)] = shifted\n",
        "    return distribution\n",
        "\n",
        "  ### Make text about ghost distance to add to observation\n",
        "  def __make_ghost_obs(self, obs, distance):\n",
        "    return obs + '\\nYou hear a ghost ' + format(distance, \".2f\") + ' rooms away.'\n",
        "\n",
        "  ### Helper function to figure out how player's location changes\n",
        "  def __change_coordinates(self, coordinates, action):\n",
        "    if 'move' in action:\n",
        "      dir = action.split()[1]\n",
        "      if dir == 'north':\n",
        "        return (coordinates[0], coordinates[1]+1)\n",
        "      elif dir == 'south':\n",
        "        return (coordinates[0], coordinates[1]-1)\n",
        "      elif dir == 'east':\n",
        "        return (coordinates[0]+1, coordinates[1])\n",
        "      elif dir == 'west':\n",
        "        return (coordinates[0]-1, coordinates[1])\n",
        "    return coordinates\n"
      ]
    },
    {
      "cell_type": "markdown",
      "metadata": {
        "id": "lKV4lUC1agso"
      },
      "source": [
        "New environments must be registered through the Gymnasium API."
      ]
    },
    {
      "cell_type": "code",
      "execution_count": null,
      "metadata": {
        "id": "OFWWPDS35bMn"
      },
      "outputs": [],
      "source": [
        "gymnasium.register(id='TextWorldExpress-GhostTextWorldExpressEnv-v0',\n",
        "                   entry_point='__main__:GhostTextWorldExpressEnv')"
      ]
    },
    {
      "cell_type": "markdown",
      "metadata": {
        "id": "rvmTtxrwalKn"
      },
      "source": [
        "Create the new environment type."
      ]
    },
    {
      "cell_type": "code",
      "execution_count": null,
      "metadata": {
        "id": "7RMiGJoc62eI"
      },
      "outputs": [],
      "source": [
        "ENV = GhostTextWorldExpressEnv(envStepLimit=100)"
      ]
    },
    {
      "cell_type": "markdown",
      "metadata": {
        "id": "hbB48O0Eang4"
      },
      "source": [
        "Create a game with this environment type (same as before)"
      ]
    },
    {
      "cell_type": "code",
      "execution_count": null,
      "metadata": {
        "id": "yOkAnt267ETX"
      },
      "outputs": [],
      "source": [
        "GAME_TYPE = \"coin\"\n",
        "GAME_PARAMS = \"numLocations=5,includeDoors=0,numDistractorItems=0\"\n",
        "ENV.load(gameName=GAME_TYPE, gameParams=GAME_PARAMS)"
      ]
    },
    {
      "cell_type": "markdown",
      "metadata": {
        "id": "CmdycTPAataX"
      },
      "source": [
        "Rest the environment (same as before)."
      ]
    },
    {
      "cell_type": "code",
      "execution_count": null,
      "metadata": {
        "id": "hwt58q1_7OZ3"
      },
      "outputs": [],
      "source": [
        "obs, infos = ENV.reset(seed=SEED, gameFold=\"train\", generateGoldPath=True)\n",
        "print(obs)\n",
        "print('player:', infos['player'])\n",
        "print('ghost noisy distance:', infos['ghost'])\n",
        "print('distribution:', infos['distribution'])\n",
        "print('x distance distribution:', infos['x_dist_distribution'])"
      ]
    },
    {
      "cell_type": "markdown",
      "metadata": {
        "id": "M-4ZrEcXawLI"
      },
      "source": [
        "Execute a step."
      ]
    },
    {
      "cell_type": "code",
      "execution_count": null,
      "metadata": {
        "id": "dmVfoF3MI5vB"
      },
      "outputs": [],
      "source": [
        "obs, reward, done, infos = ENV.step('move south')\n",
        "print(obs)\n",
        "print('player:', infos['player'])\n",
        "print('ghost noisy distance:', infos['ghost'])\n",
        "print('manhattan distribution:', infos['distribution'])\n",
        "print('x distance distribution:', infos['x_dist_distribution'])"
      ]
    },
    {
      "cell_type": "markdown",
      "metadata": {
        "id": "OrDSuBpWvMyF"
      },
      "source": [
        "Report a guess (that will be wrong)"
      ]
    },
    {
      "cell_type": "code",
      "execution_count": null,
      "metadata": {
        "colab": {
          "base_uri": "https://localhost:8080/"
        },
        "id": "hnhDURcGXeaV",
        "outputId": "4406847f-fb64-42b3-b6b8-fdb11bde5858"
      },
      "outputs": [
        {
          "name": "stdout",
          "output_type": "stream",
          "text": [
            "False\n",
            "-1.0\n",
            "True\n",
            "{}\n"
          ]
        }
      ],
      "source": [
        "obs, reward, done, infos = ENV.step('report -4 5')\n",
        "print(obs)\n",
        "print(reward)\n",
        "print(done)\n",
        "print(infos)"
      ]
    },
    {
      "cell_type": "markdown",
      "metadata": {
        "id": "k2jnNPTRwPzm"
      },
      "source": [
        "## Implement Your Agent"
      ]
    },
    {
      "cell_type": "markdown",
      "metadata": {
        "id": "_nZ5uuFIwR3V"
      },
      "source": [
        "Implement your agent in the `run_agent()` function. The agent takes in an the environment `env` and an alpha value `alpha`. It returns a guess of the ghost's location, which should be the `(x, y)` location where x and y are integers. You will want to report when you have a confidence of at least `alpha`.\n",
        "\n",
        "The ghost will be located in the box (including the border) defined by the coordinates: (`d`, `d`), (`-d`, `d`), (`-d`, `-d`), (`d`, `-d`). `d` is the max_dist of the environment, which can be retrieved by calling `env.get_max_dist()`.\n",
        "\n",
        "\n",
        "\n",
        "Use the `env.step()` function to execute actions.\n",
        "\n",
        "**Do not read private data from the ENV variable, this will result in a 0.**\n",
        "\n",
        "Interact using only with calling the `env.step()` and `env.get_max_dist()` methods and the results returned from these method calls.\n",
        "\n",
        "Also, do not use `env.reset()` as this will change the ghost's location to a new, random location."
      ]
    },
    {
      "cell_type": "code",
      "execution_count": null,
      "metadata": {
        "id": "V5C9wSZZvRdh"
      },
      "outputs": [],
      "source": [
        "# export\n",
        "# ensure the \"export\" line is at the top of this cell before submission\n",
        "def run_agent(env, obs, infos, alpha=0.95):\n",
        "    d = env.get_max_dist()\n",
        "    manhattan_dist_distribution = infos['distribution']\n",
        "    x_dist_distribution = infos['x_dist_distribution']\n",
        "    player_x, player_y = infos['player']  # Current position of the player\n",
        "    best_prob = -1\n",
        "    guess_x, guess_y = 0, 0\n",
        "\n",
        "    # go thru all x and y\n",
        "    for x in range(-d, d + 1):\n",
        "        for y in range(-d, d + 1):\n",
        "            # get manhattan\n",
        "            manhattan_dist = abs(player_x - x) + abs(player_y - y)\n",
        "            # get abs x\n",
        "            x_dist = abs(x)\n",
        "            # if distances valid\n",
        "            if manhattan_dist < len(manhattan_dist_distribution) and x_dist < len(x_dist_distribution):\n",
        "                # get probability and combine \n",
        "                manhattan_prob = manhattan_dist_distribution[manhattan_dist]\n",
        "                x_prob = x_dist_distribution[x_dist]\n",
        "                combined_prob = manhattan_prob * x_prob\n",
        "                # update if this location has the highest probability\n",
        "                if combined_prob > best_prob:\n",
        "                    best_prob = combined_prob\n",
        "                    guess_x, guess_y = x, y\n",
        "\n",
        "    # if best probabiliy meets confidence level, guess\n",
        "    if best_prob >= alpha:\n",
        "        act = f\"report {guess_x} {guess_y}\"\n",
        "        obs, _, done, _ = env.step(act)\n",
        "        print(f\"Action: {act}, Observation: {obs}\")\n",
        "\n",
        "    # Return the guessed coordinates\n",
        "    return guess_x, guess_y\n",
        "\n"
      ]
    },
    {
      "cell_type": "markdown",
      "metadata": {
        "id": "RY8kxQbH4dah"
      },
      "source": [
        "## Testing Suite"
      ]
    },
    {
      "cell_type": "code",
      "execution_count": null,
      "metadata": {
        "id": "PLB-OJiT43K7"
      },
      "outputs": [],
      "source": [
        "seeds = list(range(5))\n",
        "environments = [GhostTextWorldExpressEnv(envStepLimit=100)]\n",
        "games = {'coin':      ['numLocations=5,includeDoors=1,numDistractorItems=0',\n",
        "                       'numLocations=6,includeDoors=1,numDistractorItems=0',\n",
        "                       'numLocations=7,includeDoors=1,numDistractorItems=0',\n",
        "                       'numLocations=10,includeDoors=1,numDistractorItems=0'],\n",
        "         'mapreader': ['numLocations=5,maxDistanceApart=3,includeDoors=0,maxDistractorItemsPerLocation=0',\n",
        "                       'numLocations=8,maxDistanceApart=4,includeDoors=0,maxDistractorItemsPerLocation=0',\n",
        "                       'numLocations=11,maxDistanceApart=5,includeDoors=0,maxDistractorItemsPerLocation=0',\n",
        "                       'numLocations=15,maxDistanceApart=8,includeDoors=0,maxDistractorItemsPerLocation=0']}"
      ]
    },
    {
      "cell_type": "code",
      "execution_count": null,
      "metadata": {
        "id": "85haJBTT4jPp"
      },
      "outputs": [],
      "source": [
        "def test_agent(env, guess_x, guess_y):\n",
        "  obs, _, _, _ = env.step('report ' + str(guess_x) + ' ' + str(guess_y))\n",
        "  return obs == 'True'\n",
        "\n",
        "def run_all(environments, games, seeds, alpha_param=0.95):\n",
        "  # Results will contain a key (env type, game type, game params, seed) and values will be plans and total_rewards\n",
        "  results = {}\n",
        "  # Iterate through all environments given\n",
        "  for env in environments:\n",
        "    # set global environment\n",
        "    ENV = env\n",
        "    # Iterate through all game types, the keys of the games dict\n",
        "    for game_type in games:\n",
        "      # Set the global game type\n",
        "      GAME_TYPE = game_type\n",
        "      # Iterate through all game parameters for the given game type in game dict\n",
        "      for params in games[game_type]:\n",
        "        # set the global game params\n",
        "        GAME_PARAMS = params\n",
        "        # load the environment\n",
        "        ENV.load(gameName=GAME_TYPE, gameParams=GAME_PARAMS)\n",
        "\n",
        "        # Iterate through all seeds\n",
        "        for seed in seeds:\n",
        "          # set the seed\n",
        "          obs, infos = ENV.reset(seed)\n",
        "          x, y = run_agent(ENV, obs, infos, alpha = alpha_param)\n",
        "\n",
        "          # Store the score in the results\n",
        "          results[(type(env), game_type, params, seed)] = test_agent(env, x, y)\n",
        "  return results"
      ]
    },
    {
      "cell_type": "code",
      "execution_count": null,
      "metadata": {
        "id": "mNY8NMwr6EkN"
      },
      "outputs": [],
      "source": [
        "final_results = run_all(environments, games, seeds, alpha_param=0.90)\n",
        "results = list(final_results.values())\n",
        "results.count(True) / len(results)"
      ]
    },
    {
      "cell_type": "markdown",
      "metadata": {
        "id": "uHmhWpvpE6W8"
      },
      "source": [
        "Your agent should get the correct answer on average at least `alpha` percent of the runs. So if alpha is 0.9, your agent should be getting the report correct (written as True in the dictionary `final_results`) on average 90% of the time. **This can be used to verify your solution is working as intended when testing.**"
      ]
    },
    {
      "cell_type": "markdown",
      "metadata": {
        "id": "-WaU8DGSXmJg"
      },
      "source": [
        "# Grading\n",
        "\n",
        "Your score for this part of the assignment will be out of **100 points**. We will base your grading based on the ability on your implemention to correctly identify the ghost based on the alpha parameters. We will test your code on hidden seeds and environments with various alpha values, and average your code over multiple different trials to ensure fairness.\n",
        "\n",
        "There will be a generous \"fudge\" built into the autograder to account for the randomness inherent in the environment. This ensures that a correct solution should not be penalized for randomness.\n",
        "\n",
        "Your final score on the hidden environments will be shown on Gradescope when grades are officially published. We will provide sanity checks on a different set of environments/seeds to allow you to verify that your code works as expected in the autograder - ***the sanity checks do not guarantee your code's performance on the hidden tests.***\n",
        "\n",
        "**We will have checks in place to prevent cheating/shortcuts taken to circumvent the autograder. Being flagged by these checks will lead to further review and a potential 0 on the assignment.**"
      ]
    },
    {
      "cell_type": "markdown",
      "metadata": {
        "id": "84P6oqI_XotR"
      },
      "source": [
        "# Submission\n",
        "\n",
        "**The due date for this assignment is Wednesday, November 6th, at 11:59 PM EDT.** Upload this notebook with the name `submission.ipynb` file to Gradescope. The autograder will only run successfully if your file is named this way. You must ensure that you have removed all print statements from **your** code, or the autograder may fail to run.\n",
        "\n",
        "We've added appropriate comments to the top of certain cells for the autograder to export (`# export`). You do NOT have to do anything (e.g. remove print statements) to cells we have provided - anything related to those have been handled for you. You are responsible for ensuring your own code has no syntax errors or unnecessary print statements. You ***CANNOT*** modify the export comments at the top of the cells, or the autograder will fail to run on your submission.\n",
        "\n",
        "You should ***not*** add any cells to the notebook when submitting. You're welcome to add any code as you need to extra cells when testing, but ***you must remove them when submitting.***\n",
        "\n",
        "If you identify an issue with the autograder, please feel free to reach out to us on Ed Discussion, or email ygupta46@gatech.edu / rsudhakar9@gatech.edu, with a subject line including \"CS 3600\"."
      ]
    }
  ],
  "metadata": {
    "colab": {
      "collapsed_sections": [
        "NMJadvTO-O7z"
      ],
      "provenance": [],
      "toc_visible": true
    },
    "kernelspec": {
      "display_name": "Python 3",
      "name": "python3"
    },
    "language_info": {
      "name": "python"
    }
  },
  "nbformat": 4,
  "nbformat_minor": 0
}
