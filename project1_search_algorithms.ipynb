{
  "cells": [
    {
      "cell_type": "markdown",
      "metadata": {
        "id": "gKTBPBJy-MIp"
      },
      "source": [
        "# Instructions\n",
        "\n",
        "*Text Adventure Games* are games in which the player interacts with a rich world only through text. Text adventure games predate computers with graphics. However, in many ways they are more complex than conventional video games because they can involve complicated interactions (e.g., \"build a rope bridge\") that require a fair amount of imagination. Indeed, text adventure games are used as [research testbeds](https://arxiv.org/abs/1909.05398) for natural language processing agents.\n",
        "\n",
        "The canonical text adventure game is [Zork](https://en.wikipedia.org/wiki/Zork), in which the player discover an abandoned underworld realm full of treasure. You can find online playable versions.\n",
        "\n",
        "A text game is made up of individual locations--also called \"rooms\", though they need not be indoor enclosed spaces as the term might imply. The agent can move between rooms and interact with objects by typing in short commands like \"move north\" and \"take lamp\".\n",
        "\n",
        "In this assignment, we will use a special package that implements text worlds for testing agents: [TextWorld-Express](https://github.com/cognitiveailab/TextWorldExpress). Textworld-Express simplifies text worlds in a few ways: it uses a reduced set of text commands, and rooms laid out in a grid.\n",
        "TextWorld-Express also implements a few different game objectives, such as cooking, and searching for coins.\n",
        "TextWorld-Express generates world configurations, so we will need to implement algorithms that are able to complete different game objectives in different world configurations.\n",
        "\n",
        "In this assignment, our agents will play two different games:\n",
        "- Coin Game: a  game in which the agent must search for and pick up a single coin.\n",
        "- Map Reader: a game in which the agent must find a coin and return it to a box at the starting location.\n",
        "\n",
        "We will be implementing three different agent algorithms: breadth-first search (BFS), depth-first search (DFS), and A*.\n",
        "\n",
        "You are only allowed to use a restricted set of libraries for this assignment. All packages that come with the default Python installation are permitted, as well as textworld-express, graphviz, and pydot, which are loaded as part of this notebook.\n",
        "\n",
        "**Notes:**\n",
        "- If you break execution of a cell running the game engine, you may put TextWorld-Express in an un-recoverable state. If this happens, you will need to reset your kernel/runtime.\n",
        "- In the Map Reader game, you must use a single search loop (you cannot run a search to the coin and then a separate search to the box). You cannot write specialized code for handling the Map Reader game. You cannot memorize the path to the coin and then reverse it.\n",
        "- In the Map Reader game, you cannot use the map information (it isn't really helpful anyway).\n",
        "- You cannot filter any actions. We've already filtered out the actions that we don't want your agent to have to consider. For example, the \"take map\" action is never helpful, but you must explore it. Your implementations should quickly realize that that action creates a state self-loop and disregard it as part of the basic BFS, DFS, and A* search algorithms.\n",
        "- Do not change the data within the global variables containing environment data that are loaded from file."
      ]
    },
    {
      "cell_type": "markdown",
      "metadata": {
        "id": "NMJadvTO-O7z"
      },
      "source": [
        "# Install"
      ]
    },
    {
      "cell_type": "markdown",
      "metadata": {
        "id": "AdVL2D-B-qYC"
      },
      "source": [
        "Install the TextWorld-Express engine, and graphviz and pydot for visualization."
      ]
    },
    {
      "cell_type": "code",
      "execution_count": 3,
      "metadata": {
        "colab": {
          "base_uri": "https://localhost:8080/"
        },
        "id": "Q_jkFnjg-C7N",
        "outputId": "b969eb64-834b-4004-a91f-6e4da7940c75",
        "tags": [
          "active-ipynb"
        ]
      },
      "outputs": [
        {
          "name": "stdout",
          "output_type": "stream",
          "text": [
            "Collecting textworld-express\n",
            "  Downloading textworld_express-1.0.4-py3-none-any.whl.metadata (20 kB)\n",
            "Requirement already satisfied: py4j in /usr/local/lib/python3.10/dist-packages (from textworld-express) (0.10.9.7)\n",
            "Collecting orjson (from textworld-express)\n",
            "  Downloading orjson-3.10.7-cp310-cp310-manylinux_2_17_x86_64.manylinux2014_x86_64.whl.metadata (50 kB)\n",
            "\u001b[2K     \u001b[90m━━━━━━━━━━━━━━━━━━━━━━━━━━━━━━━━━━━━━━━━\u001b[0m \u001b[32m50.4/50.4 kB\u001b[0m \u001b[31m2.1 MB/s\u001b[0m eta \u001b[36m0:00:00\u001b[0m\n",
            "\u001b[?25hRequirement already satisfied: prompt-toolkit in /usr/local/lib/python3.10/dist-packages (from textworld-express) (3.0.47)\n",
            "Requirement already satisfied: wcwidth in /usr/local/lib/python3.10/dist-packages (from prompt-toolkit->textworld-express) (0.2.13)\n",
            "Downloading textworld_express-1.0.4-py3-none-any.whl (1.5 MB)\n",
            "\u001b[2K   \u001b[90m━━━━━━━━━━━━━━━━━━━━━━━━━━━━━━━━━━━━━━━━\u001b[0m \u001b[32m1.5/1.5 MB\u001b[0m \u001b[31m22.0 MB/s\u001b[0m eta \u001b[36m0:00:00\u001b[0m\n",
            "\u001b[?25hDownloading orjson-3.10.7-cp310-cp310-manylinux_2_17_x86_64.manylinux2014_x86_64.whl (141 kB)\n",
            "\u001b[2K   \u001b[90m━━━━━━━━━━━━━━━━━━━━━━━━━━━━━━━━━━━━━━━━\u001b[0m \u001b[32m141.9/141.9 kB\u001b[0m \u001b[31m8.4 MB/s\u001b[0m eta \u001b[36m0:00:00\u001b[0m\n",
            "\u001b[?25hInstalling collected packages: orjson, textworld-express\n",
            "Successfully installed orjson-3.10.7 textworld-express-1.0.4\n",
            "Requirement already satisfied: graphviz in /usr/local/lib/python3.10/dist-packages (0.20.3)\n",
            "Requirement already satisfied: pydot in /usr/local/lib/python3.10/dist-packages (3.0.1)\n",
            "Requirement already satisfied: pyparsing>=3.0.9 in /usr/local/lib/python3.10/dist-packages (from pydot) (3.1.4)\n"
          ]
        }
      ],
      "source": [
        "%pip install textworld-express\n",
        "%pip install graphviz\n",
        "%pip install pydot"
      ]
    },
    {
      "cell_type": "markdown",
      "metadata": {
        "id": "f0GaE8xE-T6A"
      },
      "source": [
        "# Imports"
      ]
    },
    {
      "cell_type": "code",
      "execution_count": 4,
      "metadata": {
        "id": "_ScAIKmf-Vmm"
      },
      "outputs": [],
      "source": [
        "from textworld_express import TextWorldExpressEnv\n",
        "import graphviz\n",
        "import pydot\n",
        "from IPython.display import Image\n",
        "from IPython.display import display\n",
        "import matplotlib.pyplot as plt\n",
        "from collections import namedtuple\n",
        "import re\n",
        "import os\n",
        "import copy\n",
        "import json\n",
        "import math\n",
        "import random\n",
        "import networkx as nx\n",
        "from itertools import combinations\n",
        "from collections import deque\n",
        "import heapq"
      ]
    },
    {
      "cell_type": "markdown",
      "metadata": {
        "id": "WJE4GqNExLVi"
      },
      "source": [
        "**NOTE:** You should not modify the below cell in any way whatsoever. You do not need to run this cell for the assignment. It is solely for the autograder. Modifying this cell in any way will impact your score for the assignment."
      ]
    },
    {
      "cell_type": "code",
      "execution_count": 5,
      "metadata": {
        "id": "tjYLo_QSxLVi"
      },
      "outputs": [],
      "source": [
        "from utils import SEED, ENV, GAME_TYPE, GAME_PARAMS\n",
        "from utils import GRAPH, WORLD_STATE_HASH, WORLD_OBSERVATION_HASH, WORLD_MAP, WORLD_MAP_OBSERVATIONS, COORDINATES"
      ]
    },
    {
      "cell_type": "markdown",
      "metadata": {
        "id": "7U9ElZek-y5I"
      },
      "source": [
        "# Load a Game"
      ]
    },
    {
      "cell_type": "markdown",
      "metadata": {
        "id": "Rg_yOwlT_ByQ"
      },
      "source": [
        "Set the random seed for repeatablity"
      ]
    },
    {
      "cell_type": "code",
      "execution_count": 6,
      "metadata": {
        "id": "cIGNj42d-93N",
        "tags": [
          "active-ipynb"
        ]
      },
      "outputs": [],
      "source": [
        "SEED = 3"
      ]
    },
    {
      "cell_type": "markdown",
      "metadata": {
        "id": "_8_CqmGx_GOo"
      },
      "source": [
        "Initialize the game environment. `ENV` is a global that encapulates the environment."
      ]
    },
    {
      "cell_type": "code",
      "execution_count": 7,
      "metadata": {
        "id": "CRwKCeqK_JOy",
        "tags": [
          "active-ipynb"
        ]
      },
      "outputs": [],
      "source": [
        "ENV = TextWorldExpressEnv(envStepLimit=100)"
      ]
    },
    {
      "cell_type": "markdown",
      "metadata": {
        "id": "CtJDssBp_Kd_"
      },
      "source": [
        "Set the game generator to generate a particular game (coin game or map reader)"
      ]
    },
    {
      "cell_type": "code",
      "execution_count": 8,
      "metadata": {
        "id": "piAle474_SPG",
        "tags": [
          "active-ipynb"
        ]
      },
      "outputs": [],
      "source": [
        "GAME_TYPE = \"coin\"\n",
        "GAME_PARAMS = \"numLocations=5,includeDoors=1,numDistractorItems=0\"\n",
        "ENV.load(gameName=GAME_TYPE, gameParams=GAME_PARAMS)"
      ]
    },
    {
      "cell_type": "markdown",
      "metadata": {
        "id": "aG_y6anfARuO"
      },
      "source": [
        "# TextWorld API Primer"
      ]
    },
    {
      "cell_type": "markdown",
      "metadata": {
        "id": "aQqFwDKiAVT4"
      },
      "source": [
        "This section gives the basics of the TextWorld API."
      ]
    },
    {
      "cell_type": "markdown",
      "metadata": {
        "id": "Nzxh1WVd_eRs"
      },
      "source": [
        "**Reset the game engine.** `ENV.reset()` provides an observation, the text of the current local world, and a data structure called `infos`, which contains a variety of additional information about the current local world."
      ]
    },
    {
      "cell_type": "code",
      "execution_count": 9,
      "metadata": {
        "colab": {
          "base_uri": "https://localhost:8080/"
        },
        "id": "j9o50bHS_m5h",
        "outputId": "52b248b3-4b36-4649-fd3a-cdade64fde2b",
        "tags": [
          "active-ipynb"
        ]
      },
      "outputs": [
        {
          "name": "stdout",
          "output_type": "stream",
          "text": [
            "You are in the kitchen. In one part of the room you see a stove. There is also an oven. You also see a fridge that is closed. In another part of the room you see a counter, that has nothing on it. In one part of the room you see a kitchen cupboard that is closed. There is also a cutlery drawer that is closed. You also see a trash can that is closed. In another part of the room you see a dishwasher that is closed. In one part of the room you see a dining chair, that has nothing on it. \n",
            "To the South you see a closed sliding patio door. To the West you see a closed frosted-glass door. \n",
            "{'observation': 'You are in the kitchen. In one part of the room you see a stove. There is also an oven. You also see a fridge that is closed. In another part of the room you see a counter, that has nothing on it. In one part of the room you see a kitchen cupboard that is closed. There is also a cutlery drawer that is closed. You also see a trash can that is closed. In another part of the room you see a dishwasher that is closed. In one part of the room you see a dining chair, that has nothing on it. \\nTo the South you see a closed sliding patio door. To the West you see a closed frosted-glass door. ', 'look': 'You are in the kitchen. In one part of the room you see a stove. There is also an oven. You also see a fridge that is closed. In another part of the room you see a counter, that has nothing on it. In one part of the room you see a kitchen cupboard that is closed. There is also a cutlery drawer that is closed. You also see a trash can that is closed. In another part of the room you see a dishwasher that is closed. In one part of the room you see a dining chair, that has nothing on it. \\nTo the South you see a closed sliding patio door. To the West you see a closed frosted-glass door. ', 'inventory': 'Inventory (maximum capacity is 2 items): \\n  Your inventory is currently empty.\\n', 'validActions': ['look around', 'close door to west', 'move west', 'open door to south', 'open door to west', 'inventory', 'move south', 'close door to south'], 'scoreRaw': 0.0, 'score': 0.0, 'tasksuccess': False, 'taskfailure': False, 'reward': 0, 'done': False, 'numMoves': 0, 'taskDescription': 'Your task is to search the environment and find the coin.  Once you find the coin, take it.'}\n"
          ]
        }
      ],
      "source": [
        "obs, infos = ENV.reset(seed=SEED, gameFold=\"train\", generateGoldPath=True)\n",
        "print(obs)\n",
        "print(infos)"
      ]
    },
    {
      "cell_type": "markdown",
      "metadata": {
        "id": "TLUOiFkjApoW"
      },
      "source": [
        "**Valid actions.** The actions that an agent can perform are part of the `infos` dictionary."
      ]
    },
    {
      "cell_type": "code",
      "execution_count": 10,
      "metadata": {
        "colab": {
          "base_uri": "https://localhost:8080/"
        },
        "id": "9-6Gvk_EAhtW",
        "outputId": "90a54a52-0069-44ea-fe29-88b1eeaaab3b",
        "tags": [
          "active-ipynb"
        ]
      },
      "outputs": [
        {
          "data": {
            "text/plain": [
              "['look around',\n",
              " 'close door to west',\n",
              " 'move west',\n",
              " 'open door to south',\n",
              " 'open door to west',\n",
              " 'inventory',\n",
              " 'move south',\n",
              " 'close door to south']"
            ]
          },
          "execution_count": 10,
          "metadata": {},
          "output_type": "execute_result"
        }
      ],
      "source": [
        "infos['validActions']"
      ]
    },
    {
      "cell_type": "markdown",
      "metadata": {
        "id": "aCcPnYUcA15B"
      },
      "source": [
        "**Execute an action.** Actions are executed using `ENV.step()`, which returns the new observation for the agent's new state, a reward value, a boolean indicating if the agent has reached the end of the game, and the `infos` for the current state. Here is the code to choose a random valid action and execute it."
      ]
    },
    {
      "cell_type": "code",
      "execution_count": 11,
      "metadata": {
        "colab": {
          "base_uri": "https://localhost:8080/"
        },
        "id": "FdKDNjCnBSkb",
        "outputId": "93886e0e-1b48-4c58-8a40-1a8bb7eb4416",
        "tags": [
          "active-ipynb"
        ]
      },
      "outputs": [
        {
          "name": "stdout",
          "output_type": "stream",
          "text": [
            "action: move south\n",
            "You can't move there, the door is closed. \n",
            "reward: 0.0\n",
            "done? False\n",
            "infos: {'observation': \"You can't move there, the door is closed. \", 'look': 'You are in the kitchen. In one part of the room you see a stove. There is also an oven. You also see a fridge that is closed. In another part of the room you see a counter, that has nothing on it. In one part of the room you see a kitchen cupboard that is closed. There is also a cutlery drawer that is closed. You also see a trash can that is closed. In another part of the room you see a dishwasher that is closed. In one part of the room you see a dining chair, that has nothing on it. \\nTo the South you see a closed sliding patio door. To the West you see a closed frosted-glass door. ', 'inventory': 'Inventory (maximum capacity is 2 items): \\n  Your inventory is currently empty.\\n', 'validActions': ['close door to west', 'move west', 'open door to south', 'inventory', 'close door to south', 'move south', 'open door to west', 'look around'], 'scoreRaw': 0.0, 'score': 0.0, 'tasksuccess': False, 'taskfailure': False, 'reward': 0.0, 'done': False, 'numMoves': 1, 'taskDescription': 'Your task is to search the environment and find the coin.  Once you find the coin, take it.', 'lastActionStr': 'move south'}\n"
          ]
        }
      ],
      "source": [
        "# Pick a random action\n",
        "random_action = random.choice(infos['validActions'])\n",
        "print(\"action:\", random_action)\n",
        "# Execute the action\n",
        "obs, reward, done, infos = ENV.step(random_action)\n",
        "print(obs)\n",
        "print(\"reward:\", reward)\n",
        "print(\"done?\", done)\n",
        "print(\"infos:\", infos)"
      ]
    },
    {
      "cell_type": "markdown",
      "metadata": {
        "id": "2fYCCeL_Bupb"
      },
      "source": [
        "The environment knows the \"gold path\", which is the solution sequent of actions. This in not guaranteed to be optimal. *You are prohibited from calling this function as part of your code solutions to the homework problems.*"
      ]
    },
    {
      "cell_type": "code",
      "execution_count": 12,
      "metadata": {
        "colab": {
          "base_uri": "https://localhost:8080/"
        },
        "id": "-ZcaZ5frCI1r",
        "outputId": "7a0698fb-1a75-476f-924d-79feaaae83be",
        "tags": [
          "active-ipynb"
        ]
      },
      "outputs": [
        {
          "data": {
            "text/plain": [
              "['look around',\n",
              " 'open door to south',\n",
              " 'open door to west',\n",
              " 'move west',\n",
              " 'move east',\n",
              " 'move south',\n",
              " 'open door to east',\n",
              " 'move east',\n",
              " 'take coin']"
            ]
          },
          "execution_count": 12,
          "metadata": {},
          "output_type": "execute_result"
        }
      ],
      "source": [
        "ENV.getGoldActionSequence()"
      ]
    },
    {
      "cell_type": "markdown",
      "metadata": {
        "id": "c9z6aZSrCTIi"
      },
      "source": [
        "# Load Data for Assignments"
      ]
    },
    {
      "cell_type": "markdown",
      "metadata": {
        "id": "fGWoBDPCCX-9"
      },
      "source": [
        "For this assignment, we provide data for several combinations of game type, seed, and game parameters. You can use this data to test your agent. It includes several ways of achieving full-observability in an otherwise partially observable environment. Each unique combination of game type, seed, and game parameters is stored in a file with filename `gametype+parameters+seed.json`. For example: \"mapreader+numLocations=5,maxDistanceApart=3,includeDoors=0,maxDistractorItemsPerLocation=0+seed=3.json\"."
      ]
    },
    {
      "cell_type": "markdown",
      "metadata": {
        "id": "3jbVt876DfhX"
      },
      "source": [
        "A function to read in a file that describes the environment for a game type, set of parametes, and a seed. This function assumes that an appropriately named file is available in the filesystem."
      ]
    },
    {
      "cell_type": "code",
      "execution_count": 13,
      "metadata": {
        "id": "b7MDQ81YCSXI",
        "tags": [
          "active-ipynb"
        ]
      },
      "outputs": [],
      "source": [
        "def read_environment_file(game_type, game_params, seed):\n",
        "  # Open file\n",
        "  with open(game_type + '+' + game_params + '+seed=' + str(seed) + '.json', 'r') as f:\n",
        "    # Read file\n",
        "    data = json.load(f)\n",
        "    # Grab each part of the json file and make sure it is formatted properly\n",
        "    graph = [tuple(x) for x in data['graph']]\n",
        "    world_state_hash = data['world states']\n",
        "    world_map = [tuple(x) for x in data['world map']]\n",
        "    world_observation_hash = data['world state observations']\n",
        "    world_map_observations = data['world map observations']\n",
        "    coordinates = data['coordinates']\n",
        "    return graph, world_state_hash, world_observation_hash, world_map, world_map_observations, coordinates"
      ]
    },
    {
      "cell_type": "markdown",
      "metadata": {
        "id": "H_AaU2lizYXM"
      },
      "source": [
        "Download and extract a bunch of files describing different environments.\n",
        "\n",
        "**Note:** You may run into issues with this cell, specifically running the `wget` command. If this is the case, try uncommenting the code block directly below it which uses a `cURL` command to load the data.\n",
        "\n",
        "If neither of these options work for you to load the data, you can manually navigate to the Dropbox links, download the files to your current working directory, and run the `tar` command only."
      ]
    },
    {
      "cell_type": "code",
      "execution_count": 14,
      "metadata": {
        "colab": {
          "base_uri": "https://localhost:8080/"
        },
        "id": "yEwsdOtzunTQ",
        "outputId": "4a5c3d6f-cb6d-424a-baa5-ed2bda94e95a",
        "tags": [
          "active-ipynb"
        ]
      },
      "outputs": [
        {
          "name": "stdout",
          "output_type": "stream",
          "text": [
            "--2024-09-23 20:25:14--  https://www.dropbox.com/scl/fi/h3lxykcawrwjbs4fn46if/coin.tar.gz?rlkey=xofjqe78btipho9szyvqmp9xp&dl=0\n",
            "Resolving www.dropbox.com (www.dropbox.com)... 162.125.5.18, 2620:100:601d:18::a27d:512\n",
            "Connecting to www.dropbox.com (www.dropbox.com)|162.125.5.18|:443... connected.\n",
            "HTTP request sent, awaiting response... 302 Found\n",
            "Location: https://uc9c0163900b2bd6ae9563958264.dl.dropboxusercontent.com/cd/0/inline/CbLBlBOJ_hL_rrBGzTcO3UegS6Ev8DcZznXWIjrcxaCjjU-pqdd_sZcs6GEyhh9D8CyQ484FI82G0m8mfvu8PcmRtwksFEBm6zkBiMak8YdYWynNcR7mNyGgVQL6gCs1M_EE8sPJLxCak-H_Zv7JZQ3Z/file# [following]\n",
            "--2024-09-23 20:25:15--  https://uc9c0163900b2bd6ae9563958264.dl.dropboxusercontent.com/cd/0/inline/CbLBlBOJ_hL_rrBGzTcO3UegS6Ev8DcZznXWIjrcxaCjjU-pqdd_sZcs6GEyhh9D8CyQ484FI82G0m8mfvu8PcmRtwksFEBm6zkBiMak8YdYWynNcR7mNyGgVQL6gCs1M_EE8sPJLxCak-H_Zv7JZQ3Z/file\n",
            "Resolving uc9c0163900b2bd6ae9563958264.dl.dropboxusercontent.com (uc9c0163900b2bd6ae9563958264.dl.dropboxusercontent.com)... 162.125.5.15, 2620:100:601d:15::a27d:50f\n",
            "Connecting to uc9c0163900b2bd6ae9563958264.dl.dropboxusercontent.com (uc9c0163900b2bd6ae9563958264.dl.dropboxusercontent.com)|162.125.5.15|:443... connected.\n",
            "HTTP request sent, awaiting response... 302 Found\n",
            "Location: /cd/0/inline2/CbKajyT5kXq9mGtUho3E6Z687vYDNj-Z6XvL9Ipdwz3rgPKqg0spmbOshq_z0eTBAgtHZX8pe89QDZeXl4-gFTVEt0O74U9MggLzteHkLLjnm5UPkceNFIkDcQQg-02juzSLIMU6aEpwtSFvE3Xc9Ac7FUiXFlJGg6kFpXFe1qbwTw-lF3LBozXuceiPhXdy8xOiwX2p9GvkrgG5CEiw4_uTtf9KNbDRsNtdK6dNuO4CCcflcFi53ZDBBycSB0JCsP1oEPZTaVOHM42IIfaEM_yP5kVlc-Gk3URhxVdRoM7hn-FPsnKvxyQiNmB9pT3g44KnW3n9oUbJS8KFlR1kvGAZhWn84k6QSaGAe56RhVrskCIqx598yZtczJVEKB92s4g/file [following]\n",
            "--2024-09-23 20:25:16--  https://uc9c0163900b2bd6ae9563958264.dl.dropboxusercontent.com/cd/0/inline2/CbKajyT5kXq9mGtUho3E6Z687vYDNj-Z6XvL9Ipdwz3rgPKqg0spmbOshq_z0eTBAgtHZX8pe89QDZeXl4-gFTVEt0O74U9MggLzteHkLLjnm5UPkceNFIkDcQQg-02juzSLIMU6aEpwtSFvE3Xc9Ac7FUiXFlJGg6kFpXFe1qbwTw-lF3LBozXuceiPhXdy8xOiwX2p9GvkrgG5CEiw4_uTtf9KNbDRsNtdK6dNuO4CCcflcFi53ZDBBycSB0JCsP1oEPZTaVOHM42IIfaEM_yP5kVlc-Gk3URhxVdRoM7hn-FPsnKvxyQiNmB9pT3g44KnW3n9oUbJS8KFlR1kvGAZhWn84k6QSaGAe56RhVrskCIqx598yZtczJVEKB92s4g/file\n",
            "Reusing existing connection to uc9c0163900b2bd6ae9563958264.dl.dropboxusercontent.com:443.\n",
            "HTTP request sent, awaiting response... 200 OK\n",
            "Length: 63826098 (61M) [application/octet-stream]\n",
            "Saving to: ‘coin.tar.gz’\n",
            "\n",
            "coin.tar.gz         100%[===================>]  60.87M  57.0MB/s    in 1.1s    \n",
            "\n",
            "2024-09-23 20:25:17 (57.0 MB/s) - ‘coin.tar.gz’ saved [63826098/63826098]\n",
            "\n",
            "coin+numLocations=10,includeDoors=1,numDistractorItems=0+seed=0.json\n",
            "coin+numLocations=10,includeDoors=1,numDistractorItems=0+seed=1.json\n",
            "coin+numLocations=10,includeDoors=1,numDistractorItems=0+seed=2.json\n",
            "coin+numLocations=10,includeDoors=1,numDistractorItems=0+seed=3.json\n",
            "coin+numLocations=10,includeDoors=1,numDistractorItems=0+seed=4.json\n",
            "coin+numLocations=5,includeDoors=1,numDistractorItems=0+seed=0.json\n",
            "coin+numLocations=5,includeDoors=1,numDistractorItems=0+seed=1.json\n",
            "coin+numLocations=5,includeDoors=1,numDistractorItems=0+seed=2.json\n",
            "coin+numLocations=5,includeDoors=1,numDistractorItems=0+seed=3.json\n",
            "coin+numLocations=5,includeDoors=1,numDistractorItems=0+seed=4.json\n",
            "coin+numLocations=6,includeDoors=1,numDistractorItems=0+seed=0.json\n",
            "coin+numLocations=6,includeDoors=1,numDistractorItems=0+seed=1.json\n",
            "coin+numLocations=6,includeDoors=1,numDistractorItems=0+seed=2.json\n",
            "coin+numLocations=6,includeDoors=1,numDistractorItems=0+seed=3.json\n",
            "coin+numLocations=6,includeDoors=1,numDistractorItems=0+seed=4.json\n",
            "coin+numLocations=7,includeDoors=1,numDistractorItems=0+seed=0.json\n",
            "coin+numLocations=7,includeDoors=1,numDistractorItems=0+seed=1.json\n",
            "coin+numLocations=7,includeDoors=1,numDistractorItems=0+seed=2.json\n",
            "coin+numLocations=7,includeDoors=1,numDistractorItems=0+seed=3.json\n",
            "coin+numLocations=7,includeDoors=1,numDistractorItems=0+seed=4.json\n",
            "--2024-09-23 20:25:40--  https://www.dropbox.com/scl/fi/kxvyxhr5g901ln7yd12u3/mapreader.tar.gz?rlkey=x65hlidwifegd8mslp7cfvb4e&dl=0\n",
            "Resolving www.dropbox.com (www.dropbox.com)... 162.125.5.18, 2620:100:601d:18::a27d:512\n",
            "Connecting to www.dropbox.com (www.dropbox.com)|162.125.5.18|:443... connected.\n",
            "HTTP request sent, awaiting response... 302 Found\n",
            "Location: https://uc7c35079a5c89034dffae14fdc3.dl.dropboxusercontent.com/cd/0/inline/CbL5UyYHG5Dua_Qo115yWJ4rtKr2QoEbvJy8xE7nYrnMPOF6Zq92AWVQmdXziFTgCO7PHsIOQRDiRgVXfiuc4rfWFgJBq-VJW7ZAAa5CpfkROGuacdNm_URAbeGPj_8yDAOpj76Vqt8tr2uVQLDRbQAM/file# [following]\n",
            "--2024-09-23 20:25:41--  https://uc7c35079a5c89034dffae14fdc3.dl.dropboxusercontent.com/cd/0/inline/CbL5UyYHG5Dua_Qo115yWJ4rtKr2QoEbvJy8xE7nYrnMPOF6Zq92AWVQmdXziFTgCO7PHsIOQRDiRgVXfiuc4rfWFgJBq-VJW7ZAAa5CpfkROGuacdNm_URAbeGPj_8yDAOpj76Vqt8tr2uVQLDRbQAM/file\n",
            "Resolving uc7c35079a5c89034dffae14fdc3.dl.dropboxusercontent.com (uc7c35079a5c89034dffae14fdc3.dl.dropboxusercontent.com)... 162.125.5.15, 2620:100:601d:15::a27d:50f\n",
            "Connecting to uc7c35079a5c89034dffae14fdc3.dl.dropboxusercontent.com (uc7c35079a5c89034dffae14fdc3.dl.dropboxusercontent.com)|162.125.5.15|:443... connected.\n",
            "HTTP request sent, awaiting response... 302 Found\n",
            "Location: /cd/0/inline2/CbL8GI4t0QL_P1j8TnCz_4CmmNQkqKNfn01iyBAW2j419CjdUtXMOoIjeap_fvcgEoolsLlQl2out3KveklCmQRl1_Rw1XEXNMPvdAqgtPMFYFBvS1PjuL6XwKJQEkLOuCo8o7_XmbR7kWgkX5rA03gAtyUQfReVtn0JUDwM7v3DEm9pkO3StNK4_betLKX06WoZNyDwdniNxVz97nVbzMG1uBFSQAxQHvlnVrPXv18Y8iv5bW2i6eUidzYOc-wdkb00gZpr-8LmtVrbBzw4h_mP1SaYnV608C2AJjftqtEQV7ePHf567ervvE-zHn_oKGKNnB1eHIuhSKVQUEudVTN3gEDXTw0xnX0cXnZYlo2J8C8LJbo09YdCtxr6XGMcgjc/file [following]\n",
            "--2024-09-23 20:25:42--  https://uc7c35079a5c89034dffae14fdc3.dl.dropboxusercontent.com/cd/0/inline2/CbL8GI4t0QL_P1j8TnCz_4CmmNQkqKNfn01iyBAW2j419CjdUtXMOoIjeap_fvcgEoolsLlQl2out3KveklCmQRl1_Rw1XEXNMPvdAqgtPMFYFBvS1PjuL6XwKJQEkLOuCo8o7_XmbR7kWgkX5rA03gAtyUQfReVtn0JUDwM7v3DEm9pkO3StNK4_betLKX06WoZNyDwdniNxVz97nVbzMG1uBFSQAxQHvlnVrPXv18Y8iv5bW2i6eUidzYOc-wdkb00gZpr-8LmtVrbBzw4h_mP1SaYnV608C2AJjftqtEQV7ePHf567ervvE-zHn_oKGKNnB1eHIuhSKVQUEudVTN3gEDXTw0xnX0cXnZYlo2J8C8LJbo09YdCtxr6XGMcgjc/file\n",
            "Reusing existing connection to uc7c35079a5c89034dffae14fdc3.dl.dropboxusercontent.com:443.\n",
            "HTTP request sent, awaiting response... 200 OK\n",
            "Length: 108809 (106K) [application/octet-stream]\n",
            "Saving to: ‘mapreader.tar.gz’\n",
            "\n",
            "mapreader.tar.gz    100%[===================>] 106.26K  --.-KB/s    in 0.05s   \n",
            "\n",
            "2024-09-23 20:25:42 (2.28 MB/s) - ‘mapreader.tar.gz’ saved [108809/108809]\n",
            "\n",
            "mapreader+numLocations=11,maxDistanceApart=5,includeDoors=0,maxDistractorItemsPerLocation=0+seed=0.json\n",
            "mapreader+numLocations=11,maxDistanceApart=5,includeDoors=0,maxDistractorItemsPerLocation=0+seed=1.json\n",
            "mapreader+numLocations=11,maxDistanceApart=5,includeDoors=0,maxDistractorItemsPerLocation=0+seed=2.json\n",
            "mapreader+numLocations=11,maxDistanceApart=5,includeDoors=0,maxDistractorItemsPerLocation=0+seed=3.json\n",
            "mapreader+numLocations=11,maxDistanceApart=5,includeDoors=0,maxDistractorItemsPerLocation=0+seed=4.json\n",
            "mapreader+numLocations=15,maxDistanceApart=8,includeDoors=0,maxDistractorItemsPerLocation=0+seed=0.json\n",
            "mapreader+numLocations=15,maxDistanceApart=8,includeDoors=0,maxDistractorItemsPerLocation=0+seed=1.json\n",
            "mapreader+numLocations=15,maxDistanceApart=8,includeDoors=0,maxDistractorItemsPerLocation=0+seed=2.json\n",
            "mapreader+numLocations=15,maxDistanceApart=8,includeDoors=0,maxDistractorItemsPerLocation=0+seed=3.json\n",
            "mapreader+numLocations=15,maxDistanceApart=8,includeDoors=0,maxDistractorItemsPerLocation=0+seed=4.json\n",
            "mapreader+numLocations=5,maxDistanceApart=3,includeDoors=0,maxDistractorItemsPerLocation=0+seed=0.json\n",
            "mapreader+numLocations=5,maxDistanceApart=3,includeDoors=0,maxDistractorItemsPerLocation=0+seed=1.json\n",
            "mapreader+numLocations=5,maxDistanceApart=3,includeDoors=0,maxDistractorItemsPerLocation=0+seed=2.json\n",
            "mapreader+numLocations=5,maxDistanceApart=3,includeDoors=0,maxDistractorItemsPerLocation=0+seed=3.json\n",
            "mapreader+numLocations=5,maxDistanceApart=3,includeDoors=0,maxDistractorItemsPerLocation=0+seed=4.json\n",
            "mapreader+numLocations=8,maxDistanceApart=4,includeDoors=0,maxDistractorItemsPerLocation=0+seed=0.json\n",
            "mapreader+numLocations=8,maxDistanceApart=4,includeDoors=0,maxDistractorItemsPerLocation=0+seed=1.json\n",
            "mapreader+numLocations=8,maxDistanceApart=4,includeDoors=0,maxDistractorItemsPerLocation=0+seed=2.json\n",
            "mapreader+numLocations=8,maxDistanceApart=4,includeDoors=0,maxDistractorItemsPerLocation=0+seed=3.json\n",
            "mapreader+numLocations=8,maxDistanceApart=4,includeDoors=0,maxDistractorItemsPerLocation=0+seed=4.json\n"
          ]
        }
      ],
      "source": [
        "if not os.path.isfile('coin.tar.gz'):\n",
        "  !wget -O coin.tar.gz 'https://www.dropbox.com/scl/fi/h3lxykcawrwjbs4fn46if/coin.tar.gz?rlkey=xofjqe78btipho9szyvqmp9xp&dl=0'\n",
        "  !tar -xzvf coin.tar.gz\n",
        "if not os.path.isfile('mapreader.tar.gz'):\n",
        "  !wget -O mapreader.tar.gz 'https://www.dropbox.com/scl/fi/kxvyxhr5g901ln7yd12u3/mapreader.tar.gz?rlkey=x65hlidwifegd8mslp7cfvb4e&dl=0'\n",
        "  !tar -xzvf mapreader.tar.gz\n",
        "\n",
        "# NOTE: UNCOMMENT THE BELOW BLOCK IF RUNNING THE WGET COMMANDS FAIL\n",
        "# if not os.path.isfile('coin.tar.gz'):\n",
        "#   !curl -L -o coin.tar.gz 'https://www.dropbox.com/scl/fi/h3lxykcawrwjbs4fn46if/coin.tar.gz?rlkey=xofjqe78btipho9szyvqmp9xp&dl=0'\n",
        "#   !tar -xzvf coin.tar.gz\n",
        "# if not os.path.isfile('mapreader.tar.gz'):\n",
        "#   !curl -L -o mapreader.tar.gz 'https://www.dropbox.com/scl/fi/kxvyxhr5g901ln7yd12u3/mapreader.tar.gz?rlkey=x65hlidwifegd8mslp7cfvb4e&dl=0'\n",
        "#   !tar -xzvf mapreader.tar.gz"
      ]
    },
    {
      "cell_type": "markdown",
      "metadata": {
        "id": "LD9oN1pug2Or"
      },
      "source": [
        "Set the game type and game parameters."
      ]
    },
    {
      "cell_type": "code",
      "execution_count": 15,
      "metadata": {
        "id": "d8m95oCXEHVi",
        "tags": [
          "active-ipynb"
        ]
      },
      "outputs": [],
      "source": [
        "# NOTE: THIS CODE IS USED TO SET UP A COIN ENVIRONMENT FOR TESTING.\n",
        "GAME_TYPE = \"coin\"\n",
        "GAME_PARAMS = \"numLocations=5,includeDoors=1,numDistractorItems=0\"\n",
        "\n",
        "# NOTE: UNCOMMENT THIS CODE TO USE THE MAPREADER ENVIRONMENT FOR TESTING.\n",
        "#GAME_TYPE=\"mapreader\"\n",
        "#GAME_PARAMS=\"numLocations=5,maxDistanceApart=3,includeDoors=0,maxDistractorItemsPerLocation=0\"\n",
        "\n",
        "SEED = 3"
      ]
    },
    {
      "cell_type": "markdown",
      "metadata": {
        "id": "jfdxrV4Lg5Qs"
      },
      "source": [
        "Load all the environment information into global variables (global variables described below)."
      ]
    },
    {
      "cell_type": "code",
      "execution_count": 16,
      "metadata": {
        "id": "TcrMvZVoRUj9",
        "tags": [
          "active-ipynb"
        ]
      },
      "outputs": [],
      "source": [
        "GRAPH, WORLD_STATE_HASH, WORLD_OBSERVATION_HASH, WORLD_MAP, WORLD_MAP_OBSERVATIONS, COORDINATES =  read_environment_file(GAME_TYPE, GAME_PARAMS, SEED)\n",
        "ENV.load(gameName=GAME_TYPE, gameParams=GAME_PARAMS)"
      ]
    },
    {
      "cell_type": "markdown",
      "metadata": {
        "id": "RacIrTTCFmLJ"
      },
      "source": [
        "## Data Structures Information"
      ]
    },
    {
      "cell_type": "markdown",
      "metadata": {
        "id": "LP_Rc4H-C-u5"
      },
      "source": [
        "**Map Information:**\n",
        "\n",
        "```WORLD_MAP``` is a list of transitions of the form ```(loc1, 'move x', loc2)```\n",
        "For example\n",
        "```\n",
        "[('kitchen', 'move west', 'pantry'),\n",
        " ('pantry', 'move east', 'kitchen'),\n",
        " ('kitchen', 'move south', 'backyard'),\n",
        " ('backyard', 'move north', 'kitchen'),\n",
        " ('backyard', 'move east', 'corridor'),\n",
        " ('corridor', 'move west', 'backyard'),\n",
        " ('corridor', 'move north', 'bedroom'),\n",
        " ('bedroom', 'move south', 'corridor')]\n",
        " ```\n",
        "\n",
        "```WORLD_MAP_OBSERVATIONS``` is a hash that maps location name to observation text. This is per location and the observation is the one that is seen the first time a location is encountered (it could be changed by the agent).\n",
        "\n",
        "For example:\n",
        "```\n",
        " {'kitchen': 'You are in the kitchen. In one part of the room you see a stove. There is also an oven. You also see a fridge that is closed. In another part of the room you see a counter, that has nothing on it. In one part of the room you see a kitchen cupboard that is closed. There is also a cutlery drawer that is closed. You also see a trash can that is closed. In another part of the room you see a dishwasher that is closed. In one part of the room you see a dining chair, that has nothing on it. \\nTo the South you see a closed sliding patio door. To the West you see a closed frosted-glass door. \\nempty'}\n",
        " ```\n",
        "\n",
        " ```COORDINATES``` is a hash that maps location name to ```(x, y)``` coordinates.\n",
        "\n",
        " For example:\n",
        " ```\n",
        " {'kitchen': (0, 0),\n",
        " 'pantry': (-1, 0),\n",
        " 'backyard': (0, -1),\n",
        " 'corridor': (1, -1),\n",
        " 'bedroom': (1, 0)}\n",
        " ```"
      ]
    },
    {
      "cell_type": "markdown",
      "metadata": {
        "id": "8oTEcm20izFK"
      },
      "source": [
        " **State Graph information:**\n",
        "\n",
        " Each state has a unique id string (e.g., `'8289070664768900319'`).\n",
        "\n",
        "```GRAPH``` is a list of tuples in the form of ```(state_hash1, state_hash2, action)```. This gives all the possible state-to-state transitions.\n",
        "\n",
        "For example:\n",
        "```\n",
        "[('3879096835221616523', '3879096835221616523', 'close door to west'),\n",
        " ('3879096835221616523', '3879096835221616523', 'move west'),\n",
        " ('3879096835221616523', '8289070664768900319', 'open door to south'),\n",
        " ('3879096835221616523', '5409443512146995218', 'open door to west'),\n",
        " ('3879096835221616523', '3879096835221616523', 'move south'),\n",
        " ('3879096835221616523, '3879096835221616523', 'close door to south')]\n",
        " ```\n",
        "\n",
        " ```WORLD_STATE_HASH``` maps a unique state id to a dictionary containing information about location, inventory, information about each room in the environment, and information about all the doors in the environment.\n",
        "\n",
        " Room information contains the objects in the room. If the object is a string (e.g., `'a box'`). If the object has an attribute, then the object is given as a tuple with the first element being the name of the object and the second element being the attribute (e.g., `('a box', 'contains a coin')`).\n",
        "\n",
        " Doors can be `'open'` or `'closed'`.\n",
        "\n",
        " For example:\n",
        " ```\n",
        " {'3879096835221616523':\n",
        "   {'location': 'kitchen',\n",
        "    'inventory': 'empty',\n",
        "    'rooms': {'backyard': {'things': [('a garden', 'has nothing on it'),\n",
        "                                      'barbeque',\n",
        "                                      ('patio table', 'has nothing on it')]},\n",
        "              'bedroom': {'things': [('a desk chair', 'has nothing on it'),\n",
        "                                     ('wardrobe', 'is closed')]},\n",
        "              'corridor': {'things': ['a coin',\n",
        "                                      ('umbrella stand', 'has nothing on it')]}},\n",
        "    'doors': {'frosted-glass door': 'closed',\n",
        "              'screen door': 'closed',\n",
        "              'sliding patio door': 'closed',\n",
        "              'wood door': 'closed'}}}\n",
        "```\n",
        "\n",
        "You can get the number of unique states in the environment with `len(WORLD_STATE_HASH)`.\n",
        "\n",
        "```WORLD_OBSERVATION_HASH``` maps unique state ids to observations.\n",
        "\n",
        "For example:\n",
        "```\n",
        "{'3879096835221616523': 'You are in the kitchen. In one part of the room you see a stove. There is also an oven. You also see a fridge that is closed. In another part of the room you see a counter, that has nothing on it. In one part of the room you see a kitchen cupboard that is closed. There is also a cutlery drawer that is closed. You also see a trash can that is closed. In another part of the room you see a dishwasher that is closed. In one part of the room you see a dining chair, that has nothing on it. \\nTo the South you see a closed sliding patio door. To the West you see a closed frosted-glass door. \\nInventory (maximum capacity is 2 items): \\n  Your inventory is currently empty.\\n'}\n",
        "```"
      ]
    },
    {
      "cell_type": "markdown",
      "metadata": {
        "id": "DkJydtuTEhoK"
      },
      "source": [
        "# Helper Functions"
      ]
    },
    {
      "cell_type": "code",
      "execution_count": 17,
      "metadata": {
        "id": "rnfFStcGEkWG"
      },
      "outputs": [],
      "source": [
        "### Add the inventory to the world observation text.\n",
        "### This gives a more complete text observation.\n",
        "# def obs_with_inventory(obs, env):\n",
        "#   return obs + '\\n' + look_at_inventory(env)\n",
        "def obs_with_inventory(obs, inv):\n",
        "  return obs + '\\n' + inv\n",
        "\n",
        "### Pull the inventory items out of the observation text that includes\n",
        "### the inventory (from obs_with_inventory())\n",
        "def parse_inventory(obs):\n",
        "  # Search for the inventory in the observation\n",
        "  m = re.search(r'Inventory[a-zA-Z0-9 \\(\\)]*:\\s*([a-zA-Z0-9 \\.\\n]+)', obs)\n",
        "  if m is not None:\n",
        "    # See if there is something there other than \"empty\"\n",
        "    if 'empty' not in m.group(1):\n",
        "      return m.group(1).replace('\\n', '')\n",
        "  return 'empty'\n",
        "\n",
        "### Pull the location out of the observation text.\n",
        "def obs_location(obs):\n",
        "  first_sentence = obs.split('.')[0].split(' ')\n",
        "  start = first_sentence.index('the') + 1\n",
        "  return ' '.join(first_sentence[start:])\n",
        "\n",
        "### Produces an identifier for a state dictionary.\n",
        "### (Not guaranteed to be unique because of the abs, but shouldn't be a problem)\n",
        "def hash_state(state):\n",
        "  return str(abs(hash(json.dumps(state))))\n",
        "\n",
        "### Parse the objects out of an observation\n",
        "def parse_things(obs):\n",
        "  things1 = re.findall(r'[yY]ou \\w*\\s*see [aA]? ([a-zA-Z0-9\\- ]+)\\,? that ([a-zA-Z0-9\\-, ]+).', obs)\n",
        "  things2 = re.findall(r'[tT]here is \\w*\\s*([a-zA-Z0-9\\- ]+)\\,? that ([a-zA-Z0-9\\-, ]+).', obs)\n",
        "  things3 = re.findall(r'[tT]here is \\w*\\s*([a-zA-Z0-9\\- ]+)\\.', obs)\n",
        "  things3 = list(filter(lambda s:'that' not in s, things3))\n",
        "  things4 = re.findall(r'[yY]ou \\w*\\s*see a ([a-zA-Z0-9\\- ]+)\\.', obs)\n",
        "  things4 = list(filter(lambda s:'door' not in s and 'that' not in s, things4))\n",
        "  return list(map(lambda x: list(x) if type(x) is tuple else x,\n",
        "                  things1 + things2 + things3 + things4))\n",
        "\n",
        "### Parse doors out of an observation\n",
        "def parse_doors(obs, location):\n",
        "  # Split the sentences in the observation\n",
        "  sentences = obs.split('.')\n",
        "  doors = [] # Collect the doors here\n",
        "  # The directions one can move on a grid\n",
        "  dirs = re.compile('west|east|south|north')\n",
        "  # Look at each sentence for reference to an open door or a closed door\n",
        "  for sentence in sentences:\n",
        "    # Regular expression to find open and closed doors\n",
        "    m_open = re.search(r'open ([a-z\\- ]*door)', sentence)\n",
        "    m_closed = re.search(r'closed ([a-z\\- ]*door)', sentence)\n",
        "    # The sentence also needs to reference a direction\n",
        "    dir = dirs.search(sentence.lower())\n",
        "    # Do we find a sentence that meets the criteria? If so, we have a door\n",
        "    if dir is not None:\n",
        "      if m_open is not None:\n",
        "        doors.append((m_open[1] + ' (' + location + ') ' + dir[0], 'open'))\n",
        "      elif m_closed is not None:\n",
        "        doors.append((m_closed[1] + ' (' + location + ') ' + dir[0], 'closed'))\n",
        "  return doors\n",
        "\n",
        "### Parse room information\n",
        "def parse_room(obs):\n",
        "  things = sorted(parse_things(obs), key=lambda x: x[0] if type(x) is list else x)\n",
        "  return {'things': things}\n",
        "\n",
        "### Make a world state dictionary from an observation and inventory and world map hash.\n",
        "### To do this, we need to go through all the states because we need to know\n",
        "### all the rooms and doors that exist, and we will assume nothing changes with\n",
        "### respect to any rooms that we are not currently observing.\n",
        "def make_world_state(observation, inventory, world_map_hash_table):\n",
        "  # Get all the rooms\n",
        "  rooms = list(world_map_hash_table.keys())\n",
        "  # Build an empty state dictionary\n",
        "  world_state = {'location': obs_location(observation),\n",
        "                 'inventory': inventory,\n",
        "                 'rooms': {},\n",
        "                 'doors': {}}\n",
        "  all_doors = [] # Store all doors\n",
        "  rooms_hash = {} # A dictionary holding information about each room\n",
        "  # Iterate through all rooms, sorted so they are always in the same order\n",
        "  for room in sorted(rooms):\n",
        "    # Get the room observation\n",
        "    room_obs = world_map_hash_table[room]\n",
        "    # Parse out all the objects in the room\n",
        "    rooms_hash[room] = parse_room(room_obs)\n",
        "    # Get all the doors in the room, avoid duplicates\n",
        "    all_doors = list(set(all_doors + parse_doors(room_obs, room)))\n",
        "  # Add the rooms to the state dictionary\n",
        "  world_state['rooms'] = rooms_hash\n",
        "  # Add all the doors and their statuses to the state dictionary\n",
        "  for door, status in sorted(all_doors, key=lambda x:x[0]):\n",
        "    world_state['doors'][door] = status\n",
        "  # Return the state dictionary\n",
        "  return world_state"
      ]
    },
    {
      "cell_type": "markdown",
      "metadata": {
        "id": "4MOKXe0N8UcO"
      },
      "source": [
        "Functions for parsing world state observations."
      ]
    },
    {
      "cell_type": "markdown",
      "metadata": {
        "id": "u6DW9kwn7lEK"
      },
      "source": [
        "`world_state_to_string()` is a function for printing a world state dictionary in a reader-friendly (pretty) fashion. It takes a world state dictionary object (described below). There is an optional input, `ignore_keys` to tell the function to not print certain keys in any part of the world state dictionary."
      ]
    },
    {
      "cell_type": "code",
      "execution_count": 18,
      "metadata": {
        "id": "KxorXnQL7jll"
      },
      "outputs": [],
      "source": [
        "### Turn a list into a nice looking string\n",
        "def list_to_pretty_string(lst, indent=0):\n",
        "  out = ''\n",
        "  indent_str = ' '*indent\n",
        "  for item in lst:\n",
        "    out = out + indent_str + '- ' + str(item) + '\\n'\n",
        "  return out\n",
        "\n",
        "### Turn a dictionary into a nice looking string\n",
        "### ignore_keys is a list of keys to bypass so they are not printed out.\n",
        "def dict_to_pretty_string(d, indent = 0, ignore_keys = []):\n",
        "  out = '' # The output\n",
        "  # Append whitespace to front of string based on how many recursive levels deep\n",
        "  indent_str = ' '*indent\n",
        "  # Iterate through dictionary keys\n",
        "  for n, key in enumerate(d):\n",
        "    # Check for keys to ignore\n",
        "    if key not in ignore_keys:\n",
        "      # Get the value for the key\n",
        "      value = d[key]\n",
        "      # Produce output string information starting with the key\n",
        "      out = out + indent_str + key + ': '\n",
        "      if type(value) is dict:\n",
        "        # If the value is a dictionary, recurse\n",
        "        out = out + '\\n' + dict_to_pretty_string(value, indent = indent+1, ignore_keys = ignore_keys)\n",
        "      elif type(value) is list:\n",
        "        # If the value is a list, convert list to string\n",
        "        out = out + '\\n' + list_to_pretty_string(value, indent = indent+1)\n",
        "      else:\n",
        "        # Just print the value as a string and put a newline\n",
        "        end = '\\n' if n < len(d)-1 else ''\n",
        "        out = out + str(value) + end\n",
        "  return out\n",
        "\n",
        "### Take a world state dictionary and make it a nice-looking string\n",
        "### ignore_keys is a list of keys to bypass so they are not printed out.\n",
        "def world_state_to_string(world_state, ignore_keys = []):\n",
        "  out = dict_to_pretty_string(world_state, ignore_keys = ignore_keys)\n",
        "  return out"
      ]
    },
    {
      "cell_type": "markdown",
      "metadata": {
        "id": "YX-FFPAlgGFU"
      },
      "source": [
        "Code for rendering a map of the environment."
      ]
    },
    {
      "cell_type": "code",
      "execution_count": 19,
      "metadata": {
        "id": "AA8gD2UdEfHd"
      },
      "outputs": [],
      "source": [
        "def render_map(world_map, world_map_observations, coordinates, filename = 'map'):\n",
        "  # Create graphviz root container\n",
        "  dot = graphviz.Digraph()\n",
        "  names = [] # These are the locations we have added to the graph\n",
        "  # Iterate through all the arcs in the world map\n",
        "  for arc in world_map:\n",
        "    # Make a node for the source of the arc\n",
        "    if arc[0] not in names:\n",
        "      dot.node(name=str(arc[0]), label=obs_location(world_map_observations[arc[0]]) + ' ' + str(coordinates[arc[0]]))\n",
        "      names.append(arc[0])\n",
        "    # Make a node for the target of the arc\n",
        "    if arc[2] not in names:\n",
        "      dot.node(name=str(arc[2]), label=obs_location(world_map_observations[arc[2]]) + ' ' + str(coordinates[arc[2]]))\n",
        "      names.append(arc[2])\n",
        "    # Make an edge\n",
        "    dot.edge(str(arc[0]), str(arc[2]), label=arc[1].split(' ')[1])\n",
        "  # Render to file\n",
        "  dot.render(filename + '.gv', view=False)\n",
        "  (graph,) = pydot.graph_from_dot_file(filename + '.gv')\n",
        "  graph.write_png(filename + '.png')\n",
        "  return Image(filename + '.png')"
      ]
    },
    {
      "cell_type": "markdown",
      "metadata": {
        "id": "HwZEc4trgKYY"
      },
      "source": [
        "Code to render the state space."
      ]
    },
    {
      "cell_type": "code",
      "execution_count": 20,
      "metadata": {
        "id": "ZHWoR-VFF35G"
      },
      "outputs": [],
      "source": [
        "def render_state_space(graph, world_state_hash, ignore_keys = [], filename = 'space'):\n",
        "  # Create graphviz root container\n",
        "  dot = graphviz.Digraph()\n",
        "  nodes = []\n",
        "  edges = []\n",
        "  for arc in graph:\n",
        "    parent, child, act = arc\n",
        "    parent_name = parent\n",
        "    child_name = child\n",
        "    if child not in nodes:\n",
        "      dot.node(name=child_name, label=world_state_to_string(world_state_hash[child], ignore_keys = ignore_keys))\n",
        "      nodes.append(child)\n",
        "    if parent not in nodes:\n",
        "      dot.node(name=parent_name, label=world_state_to_string(world_state_hash[parent], ignore_keys = ignore_keys))\n",
        "      nodes.append(parent)\n",
        "    if (parent, child, act) not in edges:\n",
        "      dot.edge(parent_name, child_name, label=act)\n",
        "      edges.append((parent, child, act))\n",
        "  # Render to file\n",
        "  dot.render(filename + '.gv', view=False)\n",
        "  (graph,) = pydot.graph_from_dot_file(filename + '.gv')\n",
        "  graph.write_png(filename + '.png')\n",
        "  return Image(filename + '.png')"
      ]
    },
    {
      "cell_type": "markdown",
      "metadata": {
        "id": "sGA_Rxt7EQOR"
      },
      "source": [
        "## Render the map"
      ]
    },
    {
      "cell_type": "markdown",
      "metadata": {
        "id": "3-vZMRQnjCfy"
      },
      "source": [
        "This map is rendered to file (by default \"map.png\" and \"map.gv.pdf\") and also displayed in the cell below."
      ]
    },
    {
      "cell_type": "code",
      "execution_count": 21,
      "metadata": {
        "colab": {
          "base_uri": "https://localhost:8080/",
          "height": 424
        },
        "id": "__S1MG5SEBQP",
        "outputId": "dca5730d-a840-48f4-9333-123cff79d1a8",
        "tags": [
          "active-ipynb"
        ]
      },
      "outputs": [
        {
          "data": {
            "image/png": "[encoded data removed]",
            "text/plain": [
              "<IPython.core.display.Image object>"
            ]
          },
          "execution_count": 21,
          "metadata": {},
          "output_type": "execute_result"
        }
      ],
      "source": [
        "render_map(WORLD_MAP, WORLD_MAP_OBSERVATIONS, COORDINATES)"
      ]
    },
    {
      "cell_type": "markdown",
      "metadata": {
        "id": "nz8w9KV0FtMX"
      },
      "source": [
        "## Render the State Space"
      ]
    },
    {
      "cell_type": "markdown",
      "metadata": {
        "id": "FVNKJy8ajdir"
      },
      "source": [
        "This graph is rendered to file (by default \"space.png\" and \"space.gv.pdf\") and also displayed in the cell below.\n",
        "\n",
        "Set `render=True` to render the state space graph\n",
        "\n",
        "**This method takes a while to run**"
      ]
    },
    {
      "cell_type": "code",
      "execution_count": 22,
      "metadata": {
        "id": "IxkrWAjnFvxL",
        "tags": [
          "active-ipynb"
        ]
      },
      "outputs": [],
      "source": [
        "render = False\n",
        "if render:\n",
        "    render_state_space(GRAPH, WORLD_STATE_HASH)"
      ]
    },
    {
      "cell_type": "markdown",
      "metadata": {
        "id": "9idDEzGTV-PQ"
      },
      "source": [
        "# State Space Search Helper Functions"
      ]
    },
    {
      "cell_type": "markdown",
      "metadata": {
        "id": "kD5zzIrcMP8N"
      },
      "source": [
        "These functions are useful for BFS, DFS, and A*.\n",
        "\n",
        "In particular, `make_world_state()` takes a text observation and inventory information and constructs a state dictionary. `update_world_state()` takes a state dictionary and new observation text and new inventory text and returns an updated state dictionary."
      ]
    },
    {
      "cell_type": "code",
      "execution_count": 23,
      "metadata": {
        "id": "LzMLcbJwMJhx"
      },
      "outputs": [],
      "source": [
        "### Take an existing state dictionary and update it with new observation and\n",
        "### inventory data. Assume nothing changes other than with the new observation\n",
        "### and inventory.\n",
        "def update_world_state(old_world_state, new_observation, new_inventory):\n",
        "  # Get the new location\n",
        "  new_location = obs_location(new_observation)\n",
        "  # Make a deep copy of the old state dictionary\n",
        "  new_world_state = copy.deepcopy(old_world_state)\n",
        "  # Set the new location\n",
        "  new_world_state['location'] = new_location\n",
        "  # Set the new inventory\n",
        "  new_world_state['inventory'] = new_inventory\n",
        "  # Parse the current room and swap it into the state dictionary\n",
        "  new_world_state['rooms'][new_location] = parse_room(new_observation)\n",
        "  # Get the doors in this location and their statuses\n",
        "  doors = parse_doors(new_observation, new_location)\n",
        "  # Add new door information to the state dictionary\n",
        "  for door, status in doors:\n",
        "    new_world_state['doors'][door] = status\n",
        "  # Return the state dictionary\n",
        "  return new_world_state"
      ]
    },
    {
      "cell_type": "markdown",
      "metadata": {
        "id": "UUw9LxFmMj4x"
      },
      "source": [
        "The following are custom functions for resetting the environment and executing actions during state space search. Use these instead of `ENV.step()` and `ENV.reset()`.\n",
        "\n",
        "`do_action_state_search()` is a wrapper for `ENV.step()` that processes the output into a state dictionary. Pass in the string indicating the action (e.g., `'move north'`), and a reference to the environment object. This function returns a dictionary containing: state id, state observation, agent inventory, and list of valid actions.\n",
        "\n",
        "`reset_state_search()` is a wrapper for `ENV.reset()` that processes the output into a state dictionary. Pass in the environment object. This function returns\n",
        "a dictionary containing: state id, state observation, inventory, list of valid actions, and a state dictionary."
      ]
    },
    {
      "cell_type": "code",
      "execution_count": 24,
      "metadata": {
        "id": "JcsmIZwmMFIw"
      },
      "outputs": [],
      "source": [
        "### Do the action for state space search.\n",
        "### This function returns the id of the new state, an observation, inventory,\n",
        "### and list of valid actions.\n",
        "def do_action_state_search(action, env):\n",
        "  # Execute the action\n",
        "  obs, reward, done, infos = env.step(action)\n",
        "  # Execute the look action to get observation text\n",
        "  # Make the modified observation with inventory added\n",
        "  inv = infos['inventory']\n",
        "  modified_obs = obs_with_inventory(infos['look'], inv)\n",
        "  # Get the valid actions, except for 'inventory' and 'look'\n",
        "  valid_actions = infos['validActions']\n",
        "  valid_actions.remove('inventory')\n",
        "  valid_actions.remove('look around')\n",
        "  return {'id': hash_state(modified_obs),\n",
        "          'observation': modified_obs,\n",
        "          'inventory': parse_inventory(inv),\n",
        "          'valid actions': valid_actions}\n",
        "\n",
        "### Helper function to convert a state dictionary to an id\n",
        "def state_dict_to_id(state):\n",
        "  return list(WORLD_STATE_HASH.keys())[list(WORLD_STATE_HASH.values()).index(state)]\n",
        "\n",
        "### Reset environment for state space. This function returns initial state\n",
        "### information as a dictionary containing, state id, observation, inventory,\n",
        "### valid actions, and state dictionary.\n",
        "def reset_state_search(env, world_map_observations):\n",
        "  # Reset environment\n",
        "  obs, infos = env.reset(seed=SEED, gameFold=\"train\", generateGoldPath=True)\n",
        "  # Get modified observation text with inventory included\n",
        "  inv = infos['inventory']\n",
        "  modified_obs = obs_with_inventory(infos['look'], inv)\n",
        "  # Get the valid actions, except for 'inventory' and 'look'\n",
        "  valid_actions = infos['validActions']\n",
        "  valid_actions.remove('inventory')\n",
        "  valid_actions.remove('look around')\n",
        "  # Create the world state dictionary\n",
        "  init_world_state = make_world_state(modified_obs,\n",
        "                                      parse_inventory(inv),\n",
        "                                      world_map_observations)\n",
        "  # Figure out the id of this state dictionary\n",
        "  id = state_dict_to_id(init_world_state)\n",
        "  return {'id': id,\n",
        "          'observation': modified_obs,\n",
        "          'inventory': parse_inventory(inv),\n",
        "          'valid actions': valid_actions,\n",
        "          'state': init_world_state}"
      ]
    },
    {
      "cell_type": "markdown",
      "metadata": {
        "id": "I8XP4yJiZLL-"
      },
      "source": [
        "# Implement Goal State Function"
      ]
    },
    {
      "cell_type": "markdown",
      "metadata": {
        "id": "xJNp-2vf4nN0"
      },
      "source": []
    },
    {
      "cell_type": "markdown",
      "metadata": {
        "id": "7o7DfXXL-T5R"
      },
      "source": []
    },
    {
      "cell_type": "markdown",
      "metadata": {
        "id": "Y9-f6VHR4m4e"
      },
      "source": []
    },
    {
      "cell_type": "markdown",
      "metadata": {
        "id": "Tr_ZcPtjH0qj"
      },
      "source": [
        "**Step 1:** Implement the `is_goal()` function for the Coin Game and Map Reader games. The `is_goal()` functions take in a state. This can be whatever you want. These methods are only going to be used in your own solution code below, and we will not be checking this function for correctness\n",
        " (though if it is incorrect it will cause your solutions to fail!).  Possibilities include the hash ID of a state, or a state dictionary (see the description of `WORLD_STATE_HASH` above). You are allowed to access global variables."
      ]
    },
    {
      "cell_type": "code",
      "execution_count": 25,
      "metadata": {
        "id": "yPv380CLH9xZ"
      },
      "outputs": [],
      "source": [
        "def is_goal_coin(state):\n",
        "  is_goal = False\n",
        "  ### YOUR CODE BELOW HERE ###\n",
        "  #state is a key to the dictionary\n",
        "  new_state = WORLD_STATE_HASH[state]\n",
        "  if 'coin' in new_state['inventory']:\n",
        "    is_goal = True\n",
        "  ### YOUR CODE ABOVE HERE ###\n",
        "  return is_goal"
      ]
    },
    {
      "cell_type": "code",
      "execution_count": 26,
      "metadata": {
        "id": "3tlhrFh6H_R_"
      },
      "outputs": [],
      "source": [
        "def is_goal_mapreader(state):\n",
        "  is_goal = False\n",
        "  ### YOUR CODE BELOW HERE ###\n",
        "  items = WORLD_STATE_HASH[state]\n",
        "  for room in items['rooms']:\n",
        "    if 'box' in str(items['rooms'][room]['things']) and 'coin' in str(items['rooms'][room]['things']):\n",
        "      is_goal = True\n",
        "\n",
        "\n",
        "\n",
        "  ### YOUR CODE ABOVE HERE ###\n",
        "  return is_goal"
      ]
    },
    {
      "cell_type": "markdown",
      "metadata": {
        "id": "yYUz6tStZQ64"
      },
      "source": [
        "# Implement Successor Function"
      ]
    },
    {
      "cell_type": "markdown",
      "metadata": {
        "id": "Hfcklog6KCu9"
      },
      "source": [
        "**Step 2.** Implement `get_successors()`. The function takes a state, however you wish to represent it. You should look up the state in `GRAPH`. You are allowed to access global variables."
      ]
    },
    {
      "cell_type": "code",
      "execution_count": 28,
      "metadata": {
        "id": "HBS9iZtPKccQ"
      },
      "outputs": [],
      "source": [
        "def get_successors(state):\n",
        "  successors = []\n",
        "  ### YOUR CODE BELOW HERE ###\n",
        "  for current_state, next_state, action in GRAPH:\n",
        "    if current_state == state:\n",
        "      successors.append((next_state, action))\n",
        "\n",
        "  ### YOUR CODE ABOVE HERE ###\n",
        "  return successors"
      ]
    },
    {
      "cell_type": "markdown",
      "metadata": {
        "id": "q88Q1uEbHlrd"
      },
      "source": [
        "# Breadth-First Search (BFS)"
      ]
    },
    {
      "cell_type": "markdown",
      "metadata": {
        "id": "9Zi0QiT3Oucs"
      },
      "source": [
        "**Step 3.** Implement BFS. The function takes the following parameters:\n",
        "\n",
        "- init_state_info: the structure given by `reset_state_search()` containing state id, state dictionary, initial observation, initial inventory, and valid actions. This is provided by `reset_state_search()`, for example:\n",
        "```\n",
        "{'id': '8289070664768900319',\n",
        " 'observation': 'You are in...',\n",
        " 'inventory': 'a coin',\n",
        " 'valid actions': ['move north', 'move south', ...],\n",
        " 'state': {'location': 'kitchen',\n",
        "           'inventory': 'a coin',\n",
        "           'rooms': {'living room': {'things': ['a box']},\n",
        "                     'kitchen': {'things': []}}\n",
        "          }\n",
        "}\n",
        "```\n",
        "- graph: a list of state transitions (i.e., `GRAPH`)\n",
        "- world_state_hash: a dictionary that maps world state ids to state dictionaries (i.e., `WORLD_STATE_HASH`)\n",
        "- is_goal: a function that takes a state and returns True or False whether that state is a goal state (i.e., `is_goal_coin_game` or `is_goal_map_reader`).\n",
        "- extras: not used\n",
        "\n",
        "The function should return two values:\n",
        "- The plan: a list of actions, e.g. `[action_string_1, action_string_2, ..., action_string_n]`\n",
        "- A list of all states visited during the search, e.g., `[state_1, state_2, ..., state_n]`. The states should be represented as state ids."
      ]
    },
    {
      "cell_type": "code",
      "execution_count": 29,
      "metadata": {
        "id": "qMySxLoRPMG_"
      },
      "outputs": [],
      "source": [
        "def bfs(init_state_info, graph, world_state_hash, is_goal = lambda s: True, **extras):\n",
        "  the_plan = []\n",
        "  visited_states = []\n",
        "  ### YOUR CODE BELOW HERE ###\n",
        "  visited_states = set()\n",
        "  queue = deque([(init_state_info['id'], [], init_state_info)])\n",
        "\n",
        "  visited_states.add(init_state_info['id'])\n",
        "\n",
        "  while queue:\n",
        "    #if this one is in visited, then dont do anything, otherwise add it to isited\n",
        "    current_state_id, path_to_current, current_state_info = queue.popleft()\n",
        "\n",
        "    if current_state_id not in visited_states:\n",
        "      visited_states.add(current_state_id)\n",
        "\n",
        "    if is_goal(current_state_id):\n",
        "      the_plan = path_to_current\n",
        "      return the_plan, list(visited_states)\n",
        "\n",
        "\n",
        "\n",
        "\n",
        "\n",
        "    for next_state, action in get_successors(current_state_id):\n",
        "      if next_state not in visited_states:\n",
        "        #visited_states.add(next_state)\n",
        "        new_path = path_to_current + [action]\n",
        "        next_state_info = world_state_hash[next_state]\n",
        "        queue.append((next_state, new_path, next_state_info))\n",
        "\n",
        "  visited_states = list(visited_states)\n",
        "  ### YOUR CODE ABOVE HERE ###\n",
        "  return the_plan, visited_states"
      ]
    },
    {
      "cell_type": "markdown",
      "metadata": {
        "id": "X5OpxZhhK1ci"
      },
      "source": [
        "Initialize the environment."
      ]
    },
    {
      "cell_type": "code",
      "execution_count": 30,
      "metadata": {
        "colab": {
          "base_uri": "https://localhost:8080/"
        },
        "id": "8nhqL7zvK9el",
        "outputId": "bd4f0480-ae63-42d6-869a-a867c4c2999d",
        "tags": [
          "active-ipynb"
        ]
      },
      "outputs": [
        {
          "name": "stdout",
          "output_type": "stream",
          "text": [
            "location: kitchen\n",
            "inventory: empty\n",
            "rooms: \n",
            " backyard: \n",
            "  things: \n",
            "   - ['a garden', 'has nothing on it']\n",
            "   - ['a workbench', 'has nothing on it']\n",
            "   - barbeque\n",
            "   - ['clothes line', 'has nothing on it']\n",
            "   - ['patio chair', 'has nothing on it']\n",
            "   - ['patio table', 'has nothing on it']\n",
            " bedroom: \n",
            "  things: \n",
            "   - ['a desk chair', 'has nothing on it']\n",
            "   - ['a night stand', 'has nothing on it']\n",
            "   - ['bed', 'has nothing on it']\n",
            "   - ['chest of drawers', 'is closed']\n",
            "   - ['desk', 'has nothing on it']\n",
            "   - ['dressing table', 'has nothing on it']\n",
            "   - ['wardrobe', 'is closed']\n",
            " corridor: \n",
            "  things: \n",
            "   - a coin\n",
            "   - ['a shoe cabinet', 'is closed']\n",
            "   - ['coat hanger', 'has nothing on it']\n",
            "   - ['hat rack', 'has nothing on it']\n",
            "   - ['key holder', 'has nothing on it']\n",
            "   - ['umbrella stand', 'has nothing on it']\n",
            " kitchen: \n",
            "  things: \n",
            "   - ['a cutlery drawer', 'is closed']\n",
            "   - an oven\n",
            "   - ['counter', 'has nothing on it']\n",
            "   - ['dining chair', 'has nothing on it']\n",
            "   - ['dishwasher', 'is closed']\n",
            "   - ['fridge', 'is closed']\n",
            "   - ['kitchen cupboard', 'is closed']\n",
            "   - stove\n",
            "   - ['trash can', 'is closed']\n",
            " pantry: \n",
            "  things: \n",
            "   - ['a shelf', 'has nothing on it']\n",
            "   - ['folding chair', 'has nothing on it']\n",
            "doors: \n",
            " frosted-glass door (kitchen) west: closed\n",
            " frosted-glass door (pantry) east: closed\n",
            " screen door (backyard) east: closed\n",
            " screen door (corridor) west: closed\n",
            " sliding patio door (backyard) north: closed\n",
            " sliding patio door (kitchen) south: closed\n",
            " wood door (bedroom) south: closed\n",
            " wood door (corridor) north: closed\n"
          ]
        }
      ],
      "source": [
        "init_state_info = reset_state_search(ENV, WORLD_MAP_OBSERVATIONS)\n",
        "print(world_state_to_string(init_state_info['state']))"
      ]
    },
    {
      "cell_type": "markdown",
      "metadata": {
        "id": "dBmSiXy6PfHq"
      },
      "source": [
        "Test BFS using the game environment loaded in earlier in the notebook"
      ]
    },
    {
      "cell_type": "code",
      "execution_count": 31,
      "metadata": {
        "colab": {
          "base_uri": "https://localhost:8080/"
        },
        "id": "Rkc9NTkJPgiz",
        "outputId": "85130f7c-9da0-4024-bab8-8dc6beaae561",
        "tags": [
          "active-ipynb"
        ]
      },
      "outputs": [
        {
          "name": "stdout",
          "output_type": "stream",
          "text": [
            "The plan: ['open door to south', 'move south', 'open door to east', 'move east', 'take coin']\n",
            "Number of visited states: 30\n"
          ]
        }
      ],
      "source": [
        "plan, visited = bfs(init_state_info, GRAPH, WORLD_STATE_HASH, is_goal = is_goal_coin)\n",
        "print('The plan:', plan)\n",
        "print('Number of visited states:', len(visited))"
      ]
    },
    {
      "cell_type": "markdown",
      "metadata": {
        "id": "O3KtehrwXVOP"
      },
      "source": [
        "# Depth-First Search (DFS)"
      ]
    },
    {
      "cell_type": "markdown",
      "metadata": {
        "id": "MWgp_riYYf3j"
      },
      "source": [
        "**Step 4.** Implement DFS. The function takes the following parameters:\n",
        "\n",
        "- init_state_info: the structure given by `reset_state_search()` containing state id, state dictionary, initial observation, initial inventory, and valid actions.\n",
        "- graph: a list of state transitions (i.e., `GRAPH`)\n",
        "- world_state_hash: a dictionary that maps world state ids to state dictionaries (i.e., `WORLD_STATE_HASH`)\n",
        "- is_goal: a function that takes a state and returns True or False whether that state is a goal state (i.e., `is_goal_coin` or `is_goal_mapreader`).\n",
        "- extras: not used\n",
        "\n",
        "The function should return two values:\n",
        "- The plan: a list of actions, e.g. `[action_string_1, action_string_2, ..., action_string_n]`\n",
        "- A list of all states visited during the search, e.g., `[state_1, state_2, ..., state_n]`. The states should be represented as state ids.\n",
        "\n",
        "**Note:** When implementing DFS, please visit neighbors in the ***reverse*** order of the neighbors as they are presented in `GRAPH`. For example, if the neighbors of a vertex in `GRAPH` were `['A', 'B', 'C']`, please visit them as `C` -> `B` -> `A`. If you are using a ***stack***, adding the neighbors in the given order to the stack will naturally have you visit them in reverse order (_this is a good exercise to think about_)."
      ]
    },
    {
      "cell_type": "code",
      "execution_count": 32,
      "metadata": {
        "id": "Hj9olqJHVnfn"
      },
      "outputs": [],
      "source": [
        "def dfs(init_state_info, graph, world_state_hash,\n",
        "        is_goal = lambda s: True, **extras):\n",
        "  the_plan = []\n",
        "  visited_states = []\n",
        "  ### YOUR CODE BELOW HERE ###\n",
        "  visited_states = set()\n",
        "  queue = deque([(init_state_info['id'], [], init_state_info)])\n",
        "\n",
        "  visited_states.add(init_state_info['id'])\n",
        "\n",
        "  while queue:\n",
        "    #if this one is in visited, then dont do anything, otherwise add it to isited\n",
        "    current_state_id, path_to_current, current_state_info = queue.pop()\n",
        "\n",
        "    if current_state_id not in visited_states:\n",
        "      visited_states.add(current_state_id)\n",
        "\n",
        "    if is_goal(current_state_id):\n",
        "      the_plan = path_to_current\n",
        "      return the_plan, list(visited_states)\n",
        "\n",
        "\n",
        "\n",
        "\n",
        "\n",
        "    for next_state, action in get_successors(current_state_id):\n",
        "      if next_state not in visited_states:\n",
        "        #visited_states.add(next_state)\n",
        "        new_path = path_to_current + [action]\n",
        "        next_state_info = world_state_hash[next_state]\n",
        "        queue.append((next_state, new_path, next_state_info))\n",
        "\n",
        "  ### YOUR CODE ABOVE HERE ###\n",
        "  return the_plan, visited_states"
      ]
    },
    {
      "cell_type": "markdown",
      "metadata": {
        "id": "ItppDiyDZrEE"
      },
      "source": [
        "Initialize the environment"
      ]
    },
    {
      "cell_type": "code",
      "execution_count": 33,
      "metadata": {
        "colab": {
          "base_uri": "https://localhost:8080/"
        },
        "id": "5SbUE6yiZsmN",
        "outputId": "a3b67d76-9026-45f6-fe74-fc3038c4e49a",
        "tags": [
          "active-ipynb"
        ]
      },
      "outputs": [
        {
          "name": "stdout",
          "output_type": "stream",
          "text": [
            "location: kitchen\n",
            "inventory: empty\n",
            "rooms: \n",
            " backyard: \n",
            "  things: \n",
            "   - ['a garden', 'has nothing on it']\n",
            "   - ['a workbench', 'has nothing on it']\n",
            "   - barbeque\n",
            "   - ['clothes line', 'has nothing on it']\n",
            "   - ['patio chair', 'has nothing on it']\n",
            "   - ['patio table', 'has nothing on it']\n",
            " bedroom: \n",
            "  things: \n",
            "   - ['a desk chair', 'has nothing on it']\n",
            "   - ['a night stand', 'has nothing on it']\n",
            "   - ['bed', 'has nothing on it']\n",
            "   - ['chest of drawers', 'is closed']\n",
            "   - ['desk', 'has nothing on it']\n",
            "   - ['dressing table', 'has nothing on it']\n",
            "   - ['wardrobe', 'is closed']\n",
            " corridor: \n",
            "  things: \n",
            "   - a coin\n",
            "   - ['a shoe cabinet', 'is closed']\n",
            "   - ['coat hanger', 'has nothing on it']\n",
            "   - ['hat rack', 'has nothing on it']\n",
            "   - ['key holder', 'has nothing on it']\n",
            "   - ['umbrella stand', 'has nothing on it']\n",
            " kitchen: \n",
            "  things: \n",
            "   - ['a cutlery drawer', 'is closed']\n",
            "   - an oven\n",
            "   - ['counter', 'has nothing on it']\n",
            "   - ['dining chair', 'has nothing on it']\n",
            "   - ['dishwasher', 'is closed']\n",
            "   - ['fridge', 'is closed']\n",
            "   - ['kitchen cupboard', 'is closed']\n",
            "   - stove\n",
            "   - ['trash can', 'is closed']\n",
            " pantry: \n",
            "  things: \n",
            "   - ['a shelf', 'has nothing on it']\n",
            "   - ['folding chair', 'has nothing on it']\n",
            "doors: \n",
            " frosted-glass door (kitchen) west: closed\n",
            " frosted-glass door (pantry) east: closed\n",
            " screen door (backyard) east: closed\n",
            " screen door (corridor) west: closed\n",
            " sliding patio door (backyard) north: closed\n",
            " sliding patio door (kitchen) south: closed\n",
            " wood door (bedroom) south: closed\n",
            " wood door (corridor) north: closed\n"
          ]
        }
      ],
      "source": [
        "init_state_info = reset_state_search(ENV, WORLD_MAP_OBSERVATIONS)\n",
        "print(world_state_to_string(init_state_info['state']))"
      ]
    },
    {
      "cell_type": "markdown",
      "metadata": {
        "id": "q0Gfh7cjYpVA"
      },
      "source": [
        "Test dFS using the game environment loaded in earlier in the notebook"
      ]
    },
    {
      "cell_type": "code",
      "execution_count": 34,
      "metadata": {
        "colab": {
          "base_uri": "https://localhost:8080/"
        },
        "id": "g28s7mV3YzuE",
        "outputId": "38eaf50c-add1-43de-ba54-b189ad16c368",
        "tags": [
          "active-ipynb"
        ]
      },
      "outputs": [
        {
          "name": "stdout",
          "output_type": "stream",
          "text": [
            "The plan: ['open door to west', 'open door to south', 'close door to west', 'move south', 'open door to east', 'move north', 'open door to west', 'move south', 'close door to north', 'move east', 'take coin']\n",
            "Number of visited states: 12\n"
          ]
        }
      ],
      "source": [
        "plan, visited = dfs(init_state_info, GRAPH, WORLD_STATE_HASH, is_goal = is_goal_coin)\n",
        "print('The plan:', plan)\n",
        "print('Number of visited states:', len(visited))"
      ]
    },
    {
      "cell_type": "markdown",
      "metadata": {
        "id": "NgpVJSIJM9Fh"
      },
      "source": [
        "# Heuristic Functions"
      ]
    },
    {
      "cell_type": "markdown",
      "metadata": {
        "id": "afqBI3ofM_gj"
      },
      "source": [
        "**Step 5.** Implement heuristic functions for Coin Game and Map Reader.\n",
        "\n",
        "Heuristic functions takes a state as input (represented as a state ID), and returns a floating point value, which is the estimated distance to the goal."
      ]
    },
    {
      "cell_type": "code",
      "execution_count": 35,
      "metadata": {
        "id": "E0O2E3JmNHth"
      },
      "outputs": [],
      "source": [
        "### SOLUTION\n",
        "def h_coin(state):\n",
        "  h_value = 0.0\n",
        "  ### YOUR CODE BELOW HERE ###\n",
        "  start_room = WORLD_STATE_HASH[state][\"location\"]\n",
        "  if is_goal_coin(state):\n",
        "    h_value = 0.0\n",
        "  else:\n",
        "    coin_r = None\n",
        "    for room in WORLD_STATE_HASH[state][\"rooms\"]:\n",
        "      for things in WORLD_STATE_HASH[state][\"rooms\"][room][\"things\"]:\n",
        "        if 'coin' in things:\n",
        "          coin_r = room\n",
        "          break\n",
        "    if coin_r is not None:\n",
        "      h_value = abs(COORDINATES[start_room][0] - COORDINATES[coin_r][0]) + abs(COORDINATES[start_room][1] - COORDINATES[coin_r][1])\n",
        "    else:\n",
        "      h_value = 1\n",
        "\n",
        "  ### YOUR CODE ABOVE HERE ###\n",
        "  return h_value"
      ]
    },
    {
      "cell_type": "code",
      "execution_count": 49,
      "metadata": {
        "id": "Brh8FsMINcdP"
      },
      "outputs": [],
      "source": [
        "def h_mapreader(state):\n",
        "  h_value = 0.0\n",
        "  ### YOUR CODE BELOW HERE ###\n",
        "\n",
        "  if is_goal_mapreader(state):\n",
        "    return 0\n",
        "  info = WORLD_STATE_HASH[state]\n",
        "  curr_coordinates = COORDINATES[info['location']]\n",
        "\n",
        "  if 'coin' not in info['inventory']:\n",
        "    coin_r = 0\n",
        "    for room in info['rooms']:\n",
        "      if 'coin' in str(info['rooms'][room]['things']):\n",
        "        coin_r = room\n",
        "        break\n",
        "\n",
        "    box_room = 0\n",
        "    for room in info['rooms']:\n",
        "      if 'box' in str(info['rooms'][room]['things']):\n",
        "        box_room = room\n",
        "        break\n",
        "\n",
        "    box_coords = COORDINATES[box_room]\n",
        "    coin_coords = COORDINATES[coin_r]\n",
        "    h_value = math.dist(curr_coordinates, coin_coords) + math.dist(coin_coords, box_coords)\n",
        "\n",
        "    # if you have the coin, h value is coin to box\n",
        "    #if you dont have the coin, you to coin > coin to box\n",
        "  else:\n",
        "    #coin_r = 0\n",
        "    #for room in info['rooms']:\n",
        "      #if 'coin' in str(info['rooms'][room]['things']):\n",
        "        #coin_r = room\n",
        "        #break\n",
        "\n",
        "    box_room = 0\n",
        "    for room in info['rooms']:\n",
        "      if 'box' in str(info['rooms'][room]['things']):\n",
        "        box_room = room\n",
        "        break\n",
        "\n",
        "    #coin_coords = COORDINATES[coin_r]\n",
        "    box_coords = COORDINATES[box_room]\n",
        "    h_value = math.dist(curr_coordinates, box_coords)\n",
        "\n",
        "  ### YOUR CODE ABOVE HERE ###\n",
        "  return h_value"
      ]
    },
    {
      "cell_type": "markdown",
      "metadata": {
        "id": "10sPnXYbM3At"
      },
      "source": [
        "# A*"
      ]
    },
    {
      "cell_type": "markdown",
      "metadata": {
        "id": "9779kDIiM4tm"
      },
      "source": [
        "**Step 6.** Implement A*. The function takes the following parameters:\n",
        "\n",
        "- init_state_info: the structure given by `reset_state_search()` containing state id, state dictionary, initial observation, initial inventory, and valid actions.\n",
        "- graph: a list of state transitions (i.e., `GRAPH`)\n",
        "- world_state_hash: a dictionary that maps world state ids to state dictionaries (i.e., `WORLD_STATE_HASH`)\n",
        "- is_goal: a function that takes a state and returns True or False whether that state is a goal state (i.e., `is_goal_coin` or `is_goal_mapreader`).\n",
        "- h_func: the heuristic function, takes a state and returns the estimated distance to the goal state (i.e., `h_coin` or `h_mapreader`).\n",
        "\n",
        "The function should return two values:\n",
        "- The plan: a list of actions, e.g. `[action_string_1, action_string_2, ..., action_string_n]`\n",
        "- A list of all states visited during the search, e.g., `[state_1, state_2, ..., state_n]`. The states should be represented as state ids.\n",
        "\n",
        "**NOTE**: Please break ties in the priority queue by going with **lower** state IDs first. So if you have two state IDs `1`, `2` with the same cost, please choose `1` first since its state id is lower. Since these state IDs are strings, please compare them as strings, not as integers. ***Do not use any other method for breaking ties.***"
      ]
    },
    {
      "cell_type": "code",
      "execution_count": 37,
      "metadata": {
        "id": "tiascYj8OA5b"
      },
      "outputs": [],
      "source": [
        "def a_star(init_state_info, graph, world_state_hash,\n",
        "           is_goal = lambda state: True,\n",
        "           h_func = lambda state: 0.0):\n",
        "  the_plan = []\n",
        "  visited_states = []\n",
        "  ### YOUR CODE BELOW HERE ###\n",
        "\n",
        "  #add a state hash\n",
        "\n",
        "  s_hash = init_state_info['id']\n",
        "\n",
        "  listToAdd = []\n",
        "  heapq.heappush(listToAdd, (0, s_hash, [], 0))\n",
        "\n",
        "\n",
        "  visited_states = set()\n",
        "  while listToAdd:\n",
        "    f_val, s_hash, path, cost = heapq.heappop(listToAdd)\n",
        "\n",
        "    #pop visited>>?\n",
        "    #visited_states.add(state_hash)\n",
        "\n",
        "    if is_goal(s_hash):\n",
        "      the_plan = path\n",
        "      return the_plan, list(visited_states)\n",
        "\n",
        "    #if this one is in visited, then dont do anything, otherwise add it to isited\n",
        "    if s_hash not in visited_states:\n",
        "      visited_states.add(s_hash)\n",
        "\n",
        "      for successor_hash, successor_action in get_successors(s_hash):\n",
        "\n",
        "        nextPath = path + [successor_action]\n",
        "        nextCost = cost + 1\n",
        "\n",
        "        f_val = h_func(successor_hash) + nextCost\n",
        "\n",
        "        heapq.heappush(listToAdd, (f_val, successor_hash, nextPath, nextCost))\n",
        "\n",
        "  visited_states = list(visited_states)\n",
        "\n",
        "  ### YOUR CODE ABOVE HERE ###\n",
        "  return the_plan, visited_states"
      ]
    },
    {
      "cell_type": "markdown",
      "metadata": {
        "id": "YEjqi2VkOxip"
      },
      "source": [
        "Initialize the environment"
      ]
    },
    {
      "cell_type": "code",
      "execution_count": 38,
      "metadata": {
        "colab": {
          "base_uri": "https://localhost:8080/"
        },
        "id": "kxSePMNGOw61",
        "outputId": "07144511-801b-4bf5-ccd4-cd06285432e0",
        "tags": [
          "active-ipynb"
        ]
      },
      "outputs": [
        {
          "name": "stdout",
          "output_type": "stream",
          "text": [
            "location: kitchen\n",
            "inventory: empty\n",
            "rooms: \n",
            " backyard: \n",
            "  things: \n",
            "   - ['a garden', 'has nothing on it']\n",
            "   - ['a workbench', 'has nothing on it']\n",
            "   - barbeque\n",
            "   - ['clothes line', 'has nothing on it']\n",
            "   - ['patio chair', 'has nothing on it']\n",
            "   - ['patio table', 'has nothing on it']\n",
            " bedroom: \n",
            "  things: \n",
            "   - ['a desk chair', 'has nothing on it']\n",
            "   - ['a night stand', 'has nothing on it']\n",
            "   - ['bed', 'has nothing on it']\n",
            "   - ['chest of drawers', 'is closed']\n",
            "   - ['desk', 'has nothing on it']\n",
            "   - ['dressing table', 'has nothing on it']\n",
            "   - ['wardrobe', 'is closed']\n",
            " corridor: \n",
            "  things: \n",
            "   - a coin\n",
            "   - ['a shoe cabinet', 'is closed']\n",
            "   - ['coat hanger', 'has nothing on it']\n",
            "   - ['hat rack', 'has nothing on it']\n",
            "   - ['key holder', 'has nothing on it']\n",
            "   - ['umbrella stand', 'has nothing on it']\n",
            " kitchen: \n",
            "  things: \n",
            "   - ['a cutlery drawer', 'is closed']\n",
            "   - an oven\n",
            "   - ['counter', 'has nothing on it']\n",
            "   - ['dining chair', 'has nothing on it']\n",
            "   - ['dishwasher', 'is closed']\n",
            "   - ['fridge', 'is closed']\n",
            "   - ['kitchen cupboard', 'is closed']\n",
            "   - stove\n",
            "   - ['trash can', 'is closed']\n",
            " pantry: \n",
            "  things: \n",
            "   - ['a shelf', 'has nothing on it']\n",
            "   - ['folding chair', 'has nothing on it']\n",
            "doors: \n",
            " frosted-glass door (kitchen) west: closed\n",
            " frosted-glass door (pantry) east: closed\n",
            " screen door (backyard) east: closed\n",
            " screen door (corridor) west: closed\n",
            " sliding patio door (backyard) north: closed\n",
            " sliding patio door (kitchen) south: closed\n",
            " wood door (bedroom) south: closed\n",
            " wood door (corridor) north: closed\n"
          ]
        }
      ],
      "source": [
        "init_state_info = reset_state_search(ENV, WORLD_MAP_OBSERVATIONS)\n",
        "print(world_state_to_string(init_state_info['state']))"
      ]
    },
    {
      "cell_type": "markdown",
      "metadata": {
        "id": "we6F6racPv5-"
      },
      "source": [
        "Test A*"
      ]
    },
    {
      "cell_type": "code",
      "execution_count": 39,
      "metadata": {
        "colab": {
          "base_uri": "https://localhost:8080/"
        },
        "id": "oPrBZRFpPxE8",
        "outputId": "dd573e75-f86b-47b7-ebb3-079f9b229039",
        "tags": [
          "active-ipynb"
        ]
      },
      "outputs": [
        {
          "name": "stdout",
          "output_type": "stream",
          "text": [
            "The plan: ['open door to south', 'move south', 'open door to east', 'move east', 'take coin']\n",
            "Number of visited states: 13\n"
          ]
        }
      ],
      "source": [
        "plan, visited = a_star(init_state_info, GRAPH, WORLD_STATE_HASH,\n",
        "                       h_func = h_coin,\n",
        "                       is_goal = is_goal_coin)\n",
        "print('The plan:', plan)\n",
        "print('Number of visited states:', len(visited))"
      ]
    },
    {
      "cell_type": "markdown",
      "metadata": {
        "id": "G7RUu9yKQJ7J"
      },
      "source": [
        "# Testing Suite"
      ]
    },
    {
      "cell_type": "markdown",
      "metadata": {
        "id": "JjbIEzCV8-e7"
      },
      "source": [
        "Run all the environments that are in files in the file system. This produces a dictionary that relates game configuration (game type, game parameters, seed) to a tuple containing the plan and the visited states."
      ]
    },
    {
      "cell_type": "code",
      "execution_count": 40,
      "metadata": {
        "id": "YtY39XsCdS1t",
        "tags": [
          "active-ipynb"
        ]
      },
      "outputs": [],
      "source": [
        "def run_all(algorithm):\n",
        "  global GAME_TYPE, GAME_PARAMS, SEED\n",
        "  global GRAPH, WORLD_STATE_HASH, WORLD_OBSERVATION_HASH, WORLD_MAP, WORLD_MAP_OBSERVATIONS, COORDINATES\n",
        "  files = os.listdir('.')\n",
        "  results = {}\n",
        "  for file in files:\n",
        "    m = re.search(r'([a-z]+)\\+([a-zA-Z0-9,=]+)\\+seed\\=([0-9]+).json', file)\n",
        "    if m is not None and m.lastindex >= 3:\n",
        "      GAME_TYPE = m[1]\n",
        "      GAME_PARAMS = m[2]\n",
        "      SEED = int(m[3])\n",
        "      print(m[1], m[2], m[3])\n",
        "      print('============ type=', GAME_TYPE, 'params=', GAME_PARAMS, 'seed=', SEED, '============')\n",
        "      GRAPH, WORLD_STATE_HASH, WORLD_OBSERVATION_HASH, WORLD_MAP, WORLD_MAP_OBSERVATIONS, COORDINATES = read_environment_file(GAME_TYPE, GAME_PARAMS, SEED)\n",
        "      print(SEED, GAME_TYPE, GAME_PARAMS)\n",
        "      ENV.load(gameName=GAME_TYPE, gameParams=GAME_PARAMS)\n",
        "      init_state_info = reset_state_search(ENV, WORLD_MAP_OBSERVATIONS)\n",
        "      plan, visited = algorithm(init_state_info, GRAPH, WORLD_STATE_HASH,\n",
        "                                is_goal = eval('is_goal_' + GAME_TYPE),\n",
        "                                h_func = eval('h_' + GAME_TYPE))\n",
        "      results[(GAME_TYPE, GAME_PARAMS, SEED)] = (plan, visited)\n",
        "  for setting in results.keys():\n",
        "    plan, visited = results[setting]\n",
        "    if plan is None or visited is None or len(plan) == 0 or len(visited) == 0:\n",
        "      print(\"FAIL\", setting)\n",
        "  return results"
      ]
    },
    {
      "cell_type": "markdown",
      "metadata": {
        "id": "j-1eh2TASPcF"
      },
      "source": [
        "## BFS Testing"
      ]
    },
    {
      "cell_type": "markdown",
      "metadata": {
        "id": "8MZsRVw09CvD"
      },
      "source": [
        "Run BFS on all environments"
      ]
    },
    {
      "cell_type": "code",
      "execution_count": 41,
      "metadata": {
        "colab": {
          "base_uri": "https://localhost:8080/"
        },
        "collapsed": true,
        "id": "swShiLP2dcMl",
        "outputId": "79f144ed-b2a0-4adc-89d7-8e3ec8ebb580",
        "tags": [
          "active-ipynb"
        ]
      },
      "outputs": [
        {
          "name": "stdout",
          "output_type": "stream",
          "text": [
            "mapreader numLocations=11,maxDistanceApart=5,includeDoors=0,maxDistractorItemsPerLocation=0 2\n",
            "============ type= mapreader params= numLocations=11,maxDistanceApart=5,includeDoors=0,maxDistractorItemsPerLocation=0 seed= 2 ============\n",
            "2 mapreader numLocations=11,maxDistanceApart=5,includeDoors=0,maxDistractorItemsPerLocation=0\n",
            "mapreader numLocations=15,maxDistanceApart=8,includeDoors=0,maxDistractorItemsPerLocation=0 4\n",
            "============ type= mapreader params= numLocations=15,maxDistanceApart=8,includeDoors=0,maxDistractorItemsPerLocation=0 seed= 4 ============\n",
            "4 mapreader numLocations=15,maxDistanceApart=8,includeDoors=0,maxDistractorItemsPerLocation=0\n",
            "coin numLocations=7,includeDoors=1,numDistractorItems=0 0\n",
            "============ type= coin params= numLocations=7,includeDoors=1,numDistractorItems=0 seed= 0 ============\n",
            "0 coin numLocations=7,includeDoors=1,numDistractorItems=0\n",
            "mapreader numLocations=5,maxDistanceApart=3,includeDoors=0,maxDistractorItemsPerLocation=0 4\n",
            "============ type= mapreader params= numLocations=5,maxDistanceApart=3,includeDoors=0,maxDistractorItemsPerLocation=0 seed= 4 ============\n",
            "4 mapreader numLocations=5,maxDistanceApart=3,includeDoors=0,maxDistractorItemsPerLocation=0\n",
            "coin numLocations=5,includeDoors=1,numDistractorItems=0 2\n",
            "============ type= coin params= numLocations=5,includeDoors=1,numDistractorItems=0 seed= 2 ============\n",
            "2 coin numLocations=5,includeDoors=1,numDistractorItems=0\n",
            "coin numLocations=10,includeDoors=1,numDistractorItems=0 1\n",
            "============ type= coin params= numLocations=10,includeDoors=1,numDistractorItems=0 seed= 1 ============\n",
            "1 coin numLocations=10,includeDoors=1,numDistractorItems=0\n",
            "coin numLocations=6,includeDoors=1,numDistractorItems=0 3\n",
            "============ type= coin params= numLocations=6,includeDoors=1,numDistractorItems=0 seed= 3 ============\n",
            "3 coin numLocations=6,includeDoors=1,numDistractorItems=0\n",
            "mapreader numLocations=15,maxDistanceApart=8,includeDoors=0,maxDistractorItemsPerLocation=0 3\n",
            "============ type= mapreader params= numLocations=15,maxDistanceApart=8,includeDoors=0,maxDistractorItemsPerLocation=0 seed= 3 ============\n",
            "3 mapreader numLocations=15,maxDistanceApart=8,includeDoors=0,maxDistractorItemsPerLocation=0\n",
            "mapreader numLocations=5,maxDistanceApart=3,includeDoors=0,maxDistractorItemsPerLocation=0 3\n",
            "============ type= mapreader params= numLocations=5,maxDistanceApart=3,includeDoors=0,maxDistractorItemsPerLocation=0 seed= 3 ============\n",
            "3 mapreader numLocations=5,maxDistanceApart=3,includeDoors=0,maxDistractorItemsPerLocation=0\n",
            "coin numLocations=10,includeDoors=1,numDistractorItems=0 3\n",
            "============ type= coin params= numLocations=10,includeDoors=1,numDistractorItems=0 seed= 3 ============\n",
            "3 coin numLocations=10,includeDoors=1,numDistractorItems=0\n",
            "mapreader numLocations=8,maxDistanceApart=4,includeDoors=0,maxDistractorItemsPerLocation=0 4\n",
            "============ type= mapreader params= numLocations=8,maxDistanceApart=4,includeDoors=0,maxDistractorItemsPerLocation=0 seed= 4 ============\n",
            "4 mapreader numLocations=8,maxDistanceApart=4,includeDoors=0,maxDistractorItemsPerLocation=0\n",
            "coin numLocations=7,includeDoors=1,numDistractorItems=0 1\n",
            "============ type= coin params= numLocations=7,includeDoors=1,numDistractorItems=0 seed= 1 ============\n",
            "1 coin numLocations=7,includeDoors=1,numDistractorItems=0\n",
            "mapreader numLocations=11,maxDistanceApart=5,includeDoors=0,maxDistractorItemsPerLocation=0 3\n",
            "============ type= mapreader params= numLocations=11,maxDistanceApart=5,includeDoors=0,maxDistractorItemsPerLocation=0 seed= 3 ============\n",
            "3 mapreader numLocations=11,maxDistanceApart=5,includeDoors=0,maxDistractorItemsPerLocation=0\n",
            "coin numLocations=5,includeDoors=1,numDistractorItems=0 3\n",
            "============ type= coin params= numLocations=5,includeDoors=1,numDistractorItems=0 seed= 3 ============\n",
            "3 coin numLocations=5,includeDoors=1,numDistractorItems=0\n",
            "mapreader numLocations=5,maxDistanceApart=3,includeDoors=0,maxDistractorItemsPerLocation=0 2\n",
            "============ type= mapreader params= numLocations=5,maxDistanceApart=3,includeDoors=0,maxDistractorItemsPerLocation=0 seed= 2 ============\n",
            "2 mapreader numLocations=5,maxDistanceApart=3,includeDoors=0,maxDistractorItemsPerLocation=0\n",
            "coin numLocations=5,includeDoors=1,numDistractorItems=0 4\n",
            "============ type= coin params= numLocations=5,includeDoors=1,numDistractorItems=0 seed= 4 ============\n",
            "4 coin numLocations=5,includeDoors=1,numDistractorItems=0\n",
            "coin numLocations=7,includeDoors=1,numDistractorItems=0 4\n",
            "============ type= coin params= numLocations=7,includeDoors=1,numDistractorItems=0 seed= 4 ============\n",
            "4 coin numLocations=7,includeDoors=1,numDistractorItems=0\n",
            "coin numLocations=6,includeDoors=1,numDistractorItems=0 1\n",
            "============ type= coin params= numLocations=6,includeDoors=1,numDistractorItems=0 seed= 1 ============\n",
            "1 coin numLocations=6,includeDoors=1,numDistractorItems=0\n",
            "mapreader numLocations=8,maxDistanceApart=4,includeDoors=0,maxDistractorItemsPerLocation=0 3\n",
            "============ type= mapreader params= numLocations=8,maxDistanceApart=4,includeDoors=0,maxDistractorItemsPerLocation=0 seed= 3 ============\n",
            "3 mapreader numLocations=8,maxDistanceApart=4,includeDoors=0,maxDistractorItemsPerLocation=0\n",
            "mapreader numLocations=11,maxDistanceApart=5,includeDoors=0,maxDistractorItemsPerLocation=0 4\n",
            "============ type= mapreader params= numLocations=11,maxDistanceApart=5,includeDoors=0,maxDistractorItemsPerLocation=0 seed= 4 ============\n",
            "4 mapreader numLocations=11,maxDistanceApart=5,includeDoors=0,maxDistractorItemsPerLocation=0\n",
            "mapreader numLocations=15,maxDistanceApart=8,includeDoors=0,maxDistractorItemsPerLocation=0 1\n",
            "============ type= mapreader params= numLocations=15,maxDistanceApart=8,includeDoors=0,maxDistractorItemsPerLocation=0 seed= 1 ============\n",
            "1 mapreader numLocations=15,maxDistanceApart=8,includeDoors=0,maxDistractorItemsPerLocation=0\n",
            "coin numLocations=5,includeDoors=1,numDistractorItems=0 0\n",
            "============ type= coin params= numLocations=5,includeDoors=1,numDistractorItems=0 seed= 0 ============\n",
            "0 coin numLocations=5,includeDoors=1,numDistractorItems=0\n",
            "mapreader numLocations=15,maxDistanceApart=8,includeDoors=0,maxDistractorItemsPerLocation=0 2\n",
            "============ type= mapreader params= numLocations=15,maxDistanceApart=8,includeDoors=0,maxDistractorItemsPerLocation=0 seed= 2 ============\n",
            "2 mapreader numLocations=15,maxDistanceApart=8,includeDoors=0,maxDistractorItemsPerLocation=0\n",
            "mapreader numLocations=11,maxDistanceApart=5,includeDoors=0,maxDistractorItemsPerLocation=0 0\n",
            "============ type= mapreader params= numLocations=11,maxDistanceApart=5,includeDoors=0,maxDistractorItemsPerLocation=0 seed= 0 ============\n",
            "0 mapreader numLocations=11,maxDistanceApart=5,includeDoors=0,maxDistractorItemsPerLocation=0\n",
            "coin numLocations=10,includeDoors=1,numDistractorItems=0 4\n",
            "============ type= coin params= numLocations=10,includeDoors=1,numDistractorItems=0 seed= 4 ============\n",
            "4 coin numLocations=10,includeDoors=1,numDistractorItems=0\n",
            "coin numLocations=5,includeDoors=1,numDistractorItems=0 1\n",
            "============ type= coin params= numLocations=5,includeDoors=1,numDistractorItems=0 seed= 1 ============\n",
            "1 coin numLocations=5,includeDoors=1,numDistractorItems=0\n",
            "coin numLocations=10,includeDoors=1,numDistractorItems=0 2\n",
            "============ type= coin params= numLocations=10,includeDoors=1,numDistractorItems=0 seed= 2 ============\n",
            "2 coin numLocations=10,includeDoors=1,numDistractorItems=0\n",
            "coin numLocations=6,includeDoors=1,numDistractorItems=0 2\n",
            "============ type= coin params= numLocations=6,includeDoors=1,numDistractorItems=0 seed= 2 ============\n",
            "2 coin numLocations=6,includeDoors=1,numDistractorItems=0\n",
            "mapreader numLocations=15,maxDistanceApart=8,includeDoors=0,maxDistractorItemsPerLocation=0 0\n",
            "============ type= mapreader params= numLocations=15,maxDistanceApart=8,includeDoors=0,maxDistractorItemsPerLocation=0 seed= 0 ============\n",
            "0 mapreader numLocations=15,maxDistanceApart=8,includeDoors=0,maxDistractorItemsPerLocation=0\n",
            "coin numLocations=7,includeDoors=1,numDistractorItems=0 3\n",
            "============ type= coin params= numLocations=7,includeDoors=1,numDistractorItems=0 seed= 3 ============\n",
            "3 coin numLocations=7,includeDoors=1,numDistractorItems=0\n",
            "mapreader numLocations=11,maxDistanceApart=5,includeDoors=0,maxDistractorItemsPerLocation=0 1\n",
            "============ type= mapreader params= numLocations=11,maxDistanceApart=5,includeDoors=0,maxDistractorItemsPerLocation=0 seed= 1 ============\n",
            "1 mapreader numLocations=11,maxDistanceApart=5,includeDoors=0,maxDistractorItemsPerLocation=0\n",
            "coin numLocations=7,includeDoors=1,numDistractorItems=0 2\n",
            "============ type= coin params= numLocations=7,includeDoors=1,numDistractorItems=0 seed= 2 ============\n",
            "2 coin numLocations=7,includeDoors=1,numDistractorItems=0\n",
            "mapreader numLocations=8,maxDistanceApart=4,includeDoors=0,maxDistractorItemsPerLocation=0 0\n",
            "============ type= mapreader params= numLocations=8,maxDistanceApart=4,includeDoors=0,maxDistractorItemsPerLocation=0 seed= 0 ============\n",
            "0 mapreader numLocations=8,maxDistanceApart=4,includeDoors=0,maxDistractorItemsPerLocation=0\n",
            "mapreader numLocations=8,maxDistanceApart=4,includeDoors=0,maxDistractorItemsPerLocation=0 1\n",
            "============ type= mapreader params= numLocations=8,maxDistanceApart=4,includeDoors=0,maxDistractorItemsPerLocation=0 seed= 1 ============\n",
            "1 mapreader numLocations=8,maxDistanceApart=4,includeDoors=0,maxDistractorItemsPerLocation=0\n",
            "coin numLocations=6,includeDoors=1,numDistractorItems=0 4\n",
            "============ type= coin params= numLocations=6,includeDoors=1,numDistractorItems=0 seed= 4 ============\n",
            "4 coin numLocations=6,includeDoors=1,numDistractorItems=0\n",
            "mapreader numLocations=5,maxDistanceApart=3,includeDoors=0,maxDistractorItemsPerLocation=0 0\n",
            "============ type= mapreader params= numLocations=5,maxDistanceApart=3,includeDoors=0,maxDistractorItemsPerLocation=0 seed= 0 ============\n",
            "0 mapreader numLocations=5,maxDistanceApart=3,includeDoors=0,maxDistractorItemsPerLocation=0\n",
            "mapreader numLocations=5,maxDistanceApart=3,includeDoors=0,maxDistractorItemsPerLocation=0 1\n",
            "============ type= mapreader params= numLocations=5,maxDistanceApart=3,includeDoors=0,maxDistractorItemsPerLocation=0 seed= 1 ============\n",
            "1 mapreader numLocations=5,maxDistanceApart=3,includeDoors=0,maxDistractorItemsPerLocation=0\n",
            "coin numLocations=6,includeDoors=1,numDistractorItems=0 0\n",
            "============ type= coin params= numLocations=6,includeDoors=1,numDistractorItems=0 seed= 0 ============\n",
            "0 coin numLocations=6,includeDoors=1,numDistractorItems=0\n",
            "coin numLocations=10,includeDoors=1,numDistractorItems=0 0\n",
            "============ type= coin params= numLocations=10,includeDoors=1,numDistractorItems=0 seed= 0 ============\n",
            "0 coin numLocations=10,includeDoors=1,numDistractorItems=0\n",
            "mapreader numLocations=8,maxDistanceApart=4,includeDoors=0,maxDistractorItemsPerLocation=0 2\n",
            "============ type= mapreader params= numLocations=8,maxDistanceApart=4,includeDoors=0,maxDistractorItemsPerLocation=0 seed= 2 ============\n",
            "2 mapreader numLocations=8,maxDistanceApart=4,includeDoors=0,maxDistractorItemsPerLocation=0\n",
            "{('mapreader', 'numLocations=11,maxDistanceApart=5,includeDoors=0,maxDistractorItemsPerLocation=0', 2): (['move south', 'move east', 'move south', 'take coin', 'move north', 'move west', 'move north', 'put coin in box'], ['3080162405753612889', '2335459758643825952', '4199945302276327791', '8815698033526728240', '8944276451899154363', '5192406498804226507', '4545176357165620465', '1585865053359356054', '4300105984501397184', '1543506816093435532', '2863398517567496924', '389052852463852503', '4352884037465458480', '3655458847878646683', '8242750742064202884', '1311656654505829891', '6081428046832638433', '9047387626297389087', '397013811736838788', '6736409126139167182', '9023730646970959437', '4248676320339974991', '4974192004597171248', '4470309062148665640', '5246161896569605335', '9213253075563858741', '3468692893596660256', '4289194475478938400', '2521041028269103606', '6803683381006669277', '3834878996531835497', '3781535739787571704', '8061175717392156128', '1872248329517924800', '3695111725825632467', '4057257238439427771', '7810418987331473006', '3442478404124674415', '2666040169438051244', '1293756723492018650']), ('mapreader', 'numLocations=15,maxDistanceApart=8,includeDoors=0,maxDistractorItemsPerLocation=0', 4): (['move east', 'move south', 'move south', 'move east', 'move north', 'take coin', 'move south', 'move west', 'move north', 'move north', 'move west', 'put coin in box'], ['724378826266626036', '5075102621029352121', '6856456369213731256', '7972033225250125593', '7323819885775313674', '7261886855694551382', '4989722234117314404', '466727898263273931', '4163436161962793065', '7441703231789286571', '2909039323116350835', '2654533668341930498', '1148647797638790130', '471876025454286631', '3779348778442429296', '5676606589825466905', '1172242707236816796', '6754847983108028979', '5100588855646476283', '7300224367469049877', '7600540498849005130', '5063058690347100843', '8288766822345817477', '1751260711578635872', '5149984107900725349', '2215441480664390900', '98885246951250226', '3039263945108625973', '2923765910546253144', '3718248393255533594', '3340740045828977535', '461178011940225456', '2585240025716309308', '2851954529596257534', '6461047267236439305', '82324354854951090', '2668857468961209015', '7509221620059763333', '6304452558307241622', '4919467989520119505', '4800538423481141949', '1459559310773271004', '6760843862136544948', '8931309171963853406', '5588786951047506536']), ('coin', 'numLocations=7,includeDoors=1,numDistractorItems=0', 0): (['move west', 'open door to west', 'move west', 'open door to south', 'move south', 'take coin'], ['6777207473925540029', '7547420217926047623', '70233589705332870', '3229907004390065930', '7246569227002105903', '1243005342400999200', '629025555781779870', '482789959150505204', '3376850699047761838', '1246872510737923909', '4444868883437440910', '6001619770454696704', '6596990425493886088', '8380043331928259351', '3448181462653329804', '5945320336694030064', '3303051188394171389', '6211569140695069382', '330966204380961443', '5267550565414039395', '4394579693138358866', '7468142323832059187', '172857686487542786', '6954387277718147543', '8404356667536121442', '461418084325942944', '8976250326483086395', '8922484984833781962', '2421874304732595420', '7718211590304313476', '1126404708173809518', '5465390864204519927', '2996138107899575755', '6033428541046032851', '4910573834045819259', '5671362563462747569', '7181898993808801729', '7072340975525265642', '2394041082637327764', '2216765522261557072', '6627362931961416705', '2175066756037554813', '5531927103571652987', '1472345307307479986', '1915436921240488401', '4556940335498897', '5362869767962359963', '6438719075042046622', '5258806048494884153', '1376314240362856118', '2851380926716753221', '3466658623424241872', '1316860673030683311', '7710491158128592407', '2283249243109680238', '2482055483681868639', '5531123597803369657', '6684354895463553767', '3450436139998797965', '8905229630940863215', '7865453792052211308', '1208607428533695355', '7568202223233013252', '6291352886902480608', '8551881241813364574', '5117366262198207925', '8473797978197113989', '2531883323422428510', '5563624595379927953', '8823654284649083364', '6668060809169415901', '2848451814480339413', '1476058042834572582', '989915339437221990', '1382886907965219260', '8567348354045412010', '4486258458813245746', '792007591889505539', '5361036182986236344', '141825006998335780', '4116731901736000653', '3475482456123241786', '8223097176781013035', '5065204446828323967', '3143345616438783048', '3398938213665242165', '1003090522012218692', '7050895567146900904', '3130055553989292668', '3436582887382178780', '6878093000669531866', '5156930051120484905', '447653647866717221', '5817536625367321141', '281038644434883585', '8467726322576038635', '609302609389955335', '6458285523228742493', '5781912023220786100', '3980874592183052159', '4926295546294240867', '103801395723468924', '1927404609777111731', '5548617882099312779', '9033880203698165298', '4319813687905566786', '3806687996522473126', '507702907673443526', '2191861837226501256', '930305641116760973', '3901937310583021421', '3774831364581040199', '7631701347997328478', '6452493490963593548', '7231960815870146886', '7457121978201322014', '6949900650416039618', '8582711177999498288', '1361861555394444149', '3381846370378866327', '5532041441882267210', '4466903912084896275', '8602907962244206141', '241952094040529317', '5892981943936353920', '5060193202145548918', '3879769033981192445', '7769764937952990012', '2681558563869011121', '40392406731446637', '7644369327548309155', '7006142166532742870', '2478324085405020782', '7593749469372534915', '2469547126558956647', '5418140371504237717', '8823306158201486634', '2639963455411308384', '6419677958571572205', '1273879603472312378', '8746451220720645170', '8112058188723241692', '3398265468056299340', '3112217447538956524', '1023725769513893207', '7770499287965470983', '6360796762691054717', '5048491013196258476', '997404088535876397', '1312753431074203855', '7910848250017462895', '1489524271244479499', '1668947602449464901', '429767776305986950', '4539807090061840733', '1047753113981421310', '5726138626390714328', '6121365612638739512', '9106455474260501763', '109175780760265213', '194836492719967068', '2331009242437155978', '3927072734123608874', '9073073221060313422', '6436371718880574326', '6270782509021789744', '6632462591971288724', '8834415908981213919', '2710555847679985096', '3470833295844402483', '930198896405470156', '4679114747143027627', '3882624967692676670', '8409478455150970851', '2197090228370363675', '4708945411411951433', '3512252056102886546', '6670249140186229150', '333902417294274196', '784471351043991393', '7949276084184512383', '8870790118802755702', '523342772231181309', '5517144133670017425', '5679011472663281126', '3632250949418653536', '5731734738118298807', '4175315162776931694', '1623038329662810919']), ('mapreader', 'numLocations=5,maxDistanceApart=3,includeDoors=0,maxDistractorItemsPerLocation=0', 4): (['move south', 'move east', 'take coin', 'move west', 'move north', 'put coin in box'], ['5534583521146078797', '3401172454744681933', '1253949387433840920', '7393003809811285045', '7394175437046721655', '4941932853623095245', '2965008463764830233', '9038775284765148190', '6182681077981154212', '7116966484602659774', '547014505498516109', '3414087963800175533', '995788656715082651', '3025906588830093420', '7771485746884567721', '3874452917476652184', '4848144088839052674']), ('coin', 'numLocations=5,includeDoors=1,numDistractorItems=0', 2): (['take coin'], ['2260259017518904108', '4905237855422059635', '7725085277310925896']), ('coin', 'numLocations=10,includeDoors=1,numDistractorItems=0', 1): (['open door to west', 'move west', 'move north', 'take coin'], ['518827420968105838', '903377527915802744', '1214611949107278150', '8720676987548609491', '405748958617322608', '1007153649125394757', '4999697483417826871', '8370079001587193786', '5399431111999449080', '6522339039632931295', '839367050114372404', '6498011375204215106', '8064573103539890075', '7166489614367810064', '8658734401061414289', '3138712906461882352', '4311335525420676384', '141661861404033997', '1791223996758606408', '6531604270107550711', '5397440688078991035', '218098926513037630', '5017821166990428280', '1424871225918285550']), ('coin', 'numLocations=6,includeDoors=1,numDistractorItems=0', 3): (['move east', 'open door to north', 'move north', 'open door to north', 'move north', 'take coin'], ['1300837490093793978', '3544978018731913216', '8696549927554984095', '8031195992850261345', '5688651683596103402', '3275810656352189613', '4525002418113857874', '4617348404066411374', '977881774324535658', '7709700675465376526', '8679309400152779216', '6728261988035001232', '5984863476496344951', '3283689920464072285', '4424135198731559968', '5740300263820241345', '4819218470739024949', '385873714475303582', '2195180967247145478', '1798565223791059415', '1380856565296631493', '1300065977660485451', '3926384746074966869', '1976246772018611576', '4659213290788626565', '4597585479829829512', '6920361879095193022', '7610156021412573059', '6201947200249690705', '5524961797667140739', '4808931842320948252', '783756718990902348', '1587003424258898270', '458270323625181853', '6848877985428071739', '2502823067534835164', '568796930413137339', '2183766395731126020', '5730806173443308148', '1100649017238526638', '8955978514745593188', '3660573299542185097', '3748056393045800688', '1625049195562929405', '2138098928000494976', '5144539962663232660', '3728974624121537487', '4525799521706195772', '5642672620252936257', '4286095504653033939', '904995680885621775', '2175199319756681523', '3482861718213968034', '1635411651235231745', '6692468719053253399', '4999273163180031973', '7272170711188548971', '6252283301175964504', '1846907985332795066', '1677511626990732215', '7587655643260331429', '3162646465762778011', '1109930906515140256', '8207153578367348396', '7705618034297966515', '7555881164225949533', '4214721467601551744', '3203381135605982730', '2693482389675421712', '5972984364249129624', '8193647366282130855', '7094925406172288254', '5436964551189290919', '1008435392882367244', '6841193285504081342', '9172928470023337034', '7384267661774094972', '4682715151068415563', '2480772405956743632', '8382300710425764486', '8555858929185972275', '344687261361172697']), ('mapreader', 'numLocations=15,maxDistanceApart=8,includeDoors=0,maxDistractorItemsPerLocation=0', 3): (['move east', 'move east', 'move south', 'move south', 'move east', 'move south', 'move south', 'take coin', 'move north', 'move west', 'move north', 'move north', 'move north', 'move west', 'move west', 'put coin in box'], ['2662357044107510244', '4783772733905471196', '389630356121722202', '5466589447429297371', '5129669070228814738', '3465713432421798564', '2221226458205759385', '7643410266288259059', '2633286692263361029', '8976788300579920272', '898283986327979646', '2280698665407494440', '2621147801560688583', '9203768191395654316', '3040932474966437350', '2184892914021524301', '259835115148217151', '1628243972488163045', '4911421197733660481', '819663206536857864', '3417976630679560860', '1339290168992367712', '138023732270812317', '4873332534215165801', '1451454898128784696', '5147912130525295984', '5552736822423905758', '4557670489068756535', '8438200732882954433', '4988848441135568186', '1628136351284691994', '7898126990015831593', '7867159334532696320', '1791008117051089708', '6754812126898388634', '627039475406023269', '7436410688974358279', '2691208887885975545', '5383424906529327408', '4951751358524721155', '296398524366795574', '7018777917438471643', '3589860539969635775', '5323276696790665815', '6523186786961344658', '5115276561681210697', '8164898490314869421', '876694328742900894', '4565727666854834044', '6064765903207906065', '5620008032820424041', '1146383608818077983', '1012372654637527184', '2576457061943377326', '5792917843263760746', '403131949952693770', '1975592626355762098', '2176647149184150555', '337556194670370094', '4979986384628257966', '6406204146385845377']), ('mapreader', 'numLocations=5,maxDistanceApart=3,includeDoors=0,maxDistractorItemsPerLocation=0', 3): (['move north', 'move west', 'take coin', 'move east', 'move south', 'put coin in box'], ['353704899677997045', '2903304731066909315', '9204102920221071681', '8174360647110884919', '3534804650226580036', '6003548262469528704', '48801935744853897', '1948860466081925177', '29799242559409425', '1969584766237223774', '2859938741037583739', '3035653154158520626', '3420719305768589563', '7724779375227097791', '3452851728980635869', '3942683389636152777', '2515507126382396269', '1851978561628052211', '4672550783414671508']), ('coin', 'numLocations=10,includeDoors=1,numDistractorItems=0', 3): (['move east', 'open door to south', 'move south', 'take coin'], ['982191344287946769', '1232912514431698298', '4003242569384363012', '2550427446138775034', '8892888861355221942', '2323226410584509660', '5935509231660725498', '7260270801363744794', '7650021526131426637', '953857677857259239', '5806388461960987471', '6507865912269934325', '1808179834813014436', '9204747967101782316', '4739719904581230790', '4772330166951347652', '2459118112037329470', '8762287545465049068', '509860493748998602', '5261918221301384026', '6589059415200283215', '5314269116912899075', '2731533018867153217', '2029492058130994078', '7406187520618291737', '6660792296467483642', '7636504229784591977', '3084643214286865128', '3646460704545442535', '5782871701842007291', '6755163192693373355', '4101440613668391206', '7043716814580705638', '4884217167907316680', '9176663435244087690', '4320073733986842452', '760109494005608227', '7568003379945691828', '2475027480677497008', '8985604160466409253', '8716425476099300719', '3667665501204414552', '648708437412454901', '7802254846414603747', '7574496611984119490', '1610818691976098274', '2687518890078408435', '8925781481976834312', '7726778347663006742', '6477062622023992386', '7608690579722090839', '1232055526621420509', '2063741069793301132', '456653669935566018', '5985989278529498702', '6083148320166777160', '7781339306017963061', '1085788413472385252', '3635161002357911160', '4280514432731518843', '6936340096565690981', '7469773269539299992', '585878973876431337', '4126176592109611611', '3309147331261937255', '7791584462669130087', '3544271914623219359', '5628082403579479510', '1597854030961484698', '641299156019773327', '6093513050936150509', '7990524943108239318', '4494259022132194545', '3634874865812236382', '3692626132426084696', '9086377179289970093', '438070362238021588', '9074821776055150725', '5554008231572825717', '8198506457505201199', '7025078698319340526', '5613809214556534855', '3390599016654477318', '1682966632960301800']), ('mapreader', 'numLocations=8,maxDistanceApart=4,includeDoors=0,maxDistractorItemsPerLocation=0', 4): (['move north', 'move north', 'take coin', 'move south', 'move south', 'put coin in box'], ['4014523661817372109', '5160652938835295823', '8755940850001303934', '6858049138363930847', '8688975570213929838', '6220884125696736276', '7251979955985071349', '8379701004595745725', '885309929812044260', '2972247280855044470', '5650315074059384212', '2019290939177581970', '3802542029623454021', '3350017601492821901', '4552572119267923149', '5438387367670309690', '3361930102143876202', '7348220499018599783', '8207940080122520008', '6330437387040063650', '1483336528524158034', '8754062679252758355', '4998651578600577924', '5456278657366317184', '1893975232963349225', '4586351188912673051', '2631070350129869081', '756355717067418116']), ('coin', 'numLocations=7,includeDoors=1,numDistractorItems=0', 1): (['open door to east', 'move east', 'open door to east', 'move east', 'open door to east', 'move east', 'take coin'], ['3282852213910850732', '8644439371567698323', '8307555472005508078', '8048965714125693115', '416791054878648164', '4983745258718456587', '7380721112986688329', '8847911529521972293', '263953014689537009', '2482835105071007160', '577039196406663351', '1371512469103416246', '1977641882126755047', '1623136526965606827', '488665938463791275', '612358322408349898', '8328841753979677910', '8850837696236783949', '6214247759788894765', '11553636600017345', '1001170843885313447', '3737732329228235478', '4835387761338355812', '1374181151980340825', '4119515972077992624', '1615439620588930615', '7984820596405920246', '2893689730728660022', '2885618597998714372', '5386552728938377987', '423049210948331567', '6177853961676084458', '9038682004659509798', '2349421997479804047', '2484034189901653157', '7289044377351955501', '385703690554983425', '1843543129781917827', '6945296565793865669', '6196031239071936809', '2196703554979162470', '1417977141372517611', '3178369338506012241', '6941220856964643145', '6056154253376218559', '7174233499481394003', '8960673915141260348', '5782649300899625545', '3812015101767784971', '4636471082424520757', '3162164773551867349', '6572195063814126546', '498170693491109124', '5531164326511510082', '5298686894722620382', '4567221176679892544', '7828944801451036910', '5651637753066624331', '7225596402180468199', '7073510056373056329', '3281967754148379484', '3882141371796509691', '3846054744638197306', '2820326971620600436', '4539174895083650361', '3007952129226271811', '8651858175573939020', '7445625001611669352', '1589273620790175806', '8143474804051868108', '1341313675270383974', '2386706402513999316', '1690989974469348994', '3302470406393686759', '6111865214367998267', '8868692312374341039', '5328096311560666616', '2793510026020834673', '3393533401196092374', '2658463328162274928', '4927643435684890401', '5171240687961186006', '7157697762918943105', '6663200857387355696', '4440129497743332329', '9128630355819198019', '3890312010186932684', '8223683300422813602', '6445179608949901526', '7273558427119052810', '1878285123064631465', '1068569326809380189', '3563603630001277168', '2880710427969854376', '8481824985427576380', '6323031586311381814', '1291708160423622798', '334523277240548866', '2535106979962506641', '1879875755613786467', '8534598962957089432', '5865728575191039583', '3665559439709510240', '7656931708967476161', '3118677097924318125', '2096589574747305972', '7180578346650497794', '4281824336666906408', '4593073981721033311', '7593710277227348228', '3170212382454994525', '2506695231078661922', '1329123948252730906', '4288347513965073257', '1195105037419345257', '2336219411370922783', '3733856568225415422', '497511733789743505', '7036060855117503202', '5168180615412690263', '306541961262919548', '1531351789468394649', '2554683662938806770', '1512560442954200680', '1764631877119784768', '7439798549449728619', '2578877898433789205', '4373334403939268672', '7364574776085812808', '6134581704168264676', '7668012982921880450', '1648312455447187872', '5616199248753149019', '1929950442737452235', '6435643051921234307', '2784793317692295284', '1042087898216033739', '3602436686803746612', '7274750909004709052', '2086874119868252223', '103165533565091446', '2005805992972303545', '9107978171305925868', '127932165407053159', '875251072638536399', '7550064665642669380', '6736900411113608090', '7284520554309702058', '8017751416841870627', '8063530265109596390', '6562528833641149125', '1035760832393530001', '8480184064795841712', '5881848980864000307', '2047564989673968325', '7733516892034913844', '4206579761007702290', '8255719035635862732', '7928668636676534520', '1377595183581225676', '7426722719861490438', '6739515507374224802', '5204931985086739236', '4998625333427298477', '7431257067576607883', '3631252692563110125', '4368015699456407524', '6743206781627183605', '5422818429721433310', '2460505046904515542', '5714696371707347350', '340831774502923497', '2278665141902385053', '1742449930864330422', '4759108368507682445', '6785645414536635242', '4862548513393730256', '5908250079457111868', '4203203251336667054', '7431555262959668632', '956842221583528772', '9035377230689064519', '5993007075991378256', '7683470067046411142', '6667694980412893022', '387037731281468439', '8690261584834090116', '4491675737997712580', '1491205087795051729', '2821228146546865258', '5514234881988438304', '4815111203890716924', '301931277672257940', '1485088873091919573', '5918276744260918174', '6720114916317139470', '5259164292343573915', '2522008281159437032', '7565177787102483128', '8813239339543446687', '8597981629368490563', '1554220062380503360', '1525455206895247166', '6982544127331253625', '2722551781810014039', '5025878678125724328', '3928535332786150034', '5151496074426364911', '928244381705725831', '2814421725820572930', '2494283602048365213', '3518694040298666898', '8949424784424757818', '7701308308575979682', '8679061052575763038', '3691890553163794623', '6079530759060208227', '4653127996677984339', '1733863454316173248', '5372110332998949042', '853059755031341077', '6308250462295466325', '5685430641893951351', '2570152311401827472', '2587181432994876647', '8752679731760277095', '4848553352317596640', '8427252546990360352', '3002573406438919279', '5888132531288666381', '1793023449509234206', '4111264985383216912', '3250494042767025672', '6274216724053554445', '4793508665273419281', '5650976146172822086', '8384234910512436023', '3463697206865392113', '2119675436721132030', '3930455278829621370', '4306240836847670211', '2759889271335950287', '2452763558251903322', '5338864336174013153', '5589592704952430624', '8721670792383253016', '3761237210367001492', '5076146853925608972', '1941956715917255235', '9159706277333394970', '5375201442390327253', '1813977158818292198', '2128501387761896516', '7859034608529833872', '778615517146547334', '4133481430610888030', '8941357357819404617', '6649065135438206150', '7634716941016772957', '1330422634203280965', '8050033876729948438', '9098016996052908375', '8384614263440508851', '4318583922945589268', '3158440929696352098', '4571200454205625515', '6847359368359592243', '2161173857825653384', '1406304995350189385', '5208586978790531674', '2380469221429172910', '3073586655631318158', '4116162258664350744', '6878805679580397541', '1277685097867183606', '2589937294192195590', '5672452352570410934', '4083870178592384612', '4647677393410415260', '1785453367056452091', '8522324424729390387', '6151979343083559547', '1482833320292568732', '1006271182743251993', '5927830204411921340', '2171195774651211665', '7086067628771385843', '5860032592949778171', '1065894944226012659', '233114913238863849', '5271825442700028003', '2755633062022401749', '8729294044808837163', '6524728096414066371', '9002020459520839747', '2991738734434730653', '4846451993269149693', '2376825666426303523', '9016187419948617830', '5111381774615424300', '1801146843394132799', '4902397365046910896', '1102872459418109686', '6410332586132511307', '5741290769026906422', '6967730544642567226', '2980898044930632859', '3963832901936571344', '1570284429335067053', '3825244261914144964', '137496956935907142', '7178280677029760664', '3452283175311814211', '7893016071481384684', '4389708681371264402', '918894777692946163', '3919056285999997218', '5601342691946405069', '5246326761745642856', '2454421861901599452', '522880090564708372', '1889584625659839453', '2222522624156111213', '6515605081310254092', '4583541748918745694', '982976543459844316', '4579624189672637130', '4239029561264474039', '8522288916876956394', '3701546263116358804', '9150871540445843349', '8449432464020052237', '349367261655406981', '3674619986654703602', '6072087158706873079', '9123443839508072858', '3760407089569438935', '2566634627270958843', '885559730388910296', '5391426242655977732', '5207048598223200405', '5280234538864790861', '5330093542146080817', '4977700323595314895', '5365131291010449962', '2129405538024455143', '8288612304306064141', '5157413292376421243', '4621186408528775993', '3683089200152806087', '4303506792281766672', '8375437332281285180', '1782045129821155748', '5586400855248330393', '7178934964544878417', '4469491745036008419', '6480221309188097820', '231718915967809441', '8619536777540478932', '2023747524283893523', '1092975758674879746', '2538930797536366661', '7344398492438303899', '2783132137102900767', '8472159366619969328', '8874824546567927135', '1495286142372037828', '9075269061476511631', '1745804648126430819', '2460207380703846188', '4185322871820505240', '3616745635059309774', '2577320136595839617', '2862158013404893711', '3438978774009977482', '7346482770888217263', '7951578005655093494', '1506111012173990934', '9157533317973869840', '608546647049201259', '3179790382216068197', '8277624904354668796', '8713674137877275391', '1439837622973043160', '5839517351378008819', '1850524844196231866', '5841970062461937266', '6665449120148913106', '5199206899408824029', '7467259081919299541', '8401228597697843066', '786180501610524912', '1910863756066074002', '8995129410674182547', '210361415499865904', '7913179644511984166', '3900554379723887768', '8843812273918005921', '115120755453020524', '7665693975436580653', '4168031693762426066', '1816762546687345998', '7061108132463265606', '7325011324164988689', '176715025146710419', '503446277438610380', '2282972945088573184', '6671451706406296652', '3513672647772748931', '359342698514911393', '6216695994431316323', '3147928421629847582', '381050666739666712', '1923010794977670161', '813423738350208081', '8536438272788411178', '1519166580878314425', '7714254166710288790', '7312181530175649488', '8820134197289877203', '4600893135045383734', '4018514625166792552', '4667386227034146931']), ('mapreader', 'numLocations=11,maxDistanceApart=5,includeDoors=0,maxDistractorItemsPerLocation=0', 3): (['move west', 'move west', 'take coin', 'move east', 'move east', 'put coin in box'], ['7320367087422023151', '169387173883389945', '7851398252746560776', '3458217771120616688', '763330614606897764', '1762758663205129066', '7316869967057656354', '4573104764851766051', '869798667628221987', '5337096801662248204', '9167853748150538789', '5317312953131909753', '3509527924199187612', '6454591727206129747', '1582903965599590963', '2807704358314194131', '48112497134389501', '8999329116136277398', '6630773305387832450', '739641706348750493', '5100945035763052478', '4106595325283218562', '6742899559353148576', '1078839849409482055', '64392273012557900', '32843386248996301', '5132790381113774419', '283258660380061568', '1870450303387860925', '4385547795299249538', '3759806509484024088', '3285688049336157315', '1228795544223846163', '7873990995007954082', '866618347460149632', '8519110059565048163', '4406280868945430732', '8132287577747493749', '254405368851644263', '6760118879401073222', '5790121170323666336', '2983469410483413346', '3947951627410761762', '3855089996158721807', '937215495643447085']), ('coin', 'numLocations=5,includeDoors=1,numDistractorItems=0', 3): (['open door to south', 'move south', 'open door to east', 'move east', 'take coin'], ['4065543480910611917', '2711000777891574345', '7170804246628967398', '5059793004304373333', '4144218494422858860', '4715396203108194270', '5320977637620551497', '8041407992104003850', '5808350833824999155', '6948565944955367426', '2352922174040480841', '596888877665257512', '5547838923142795104', '2758784565980051553', '6534340852245189423', '313243878345470226', '8310291748091778740', '5138739062493486118', '521821010795851590', '347903560466792327', '5616303299581023191', '3235702998548932833', '1455680123783426836', '6105920337188136448', '857187692693391787', '249453566920198257', '7582360014708480480', '3774536010951891995', '2713701173506749576', '6975853516117242607']), ('mapreader', 'numLocations=5,maxDistanceApart=3,includeDoors=0,maxDistractorItemsPerLocation=0', 2): (['move east', 'move south', 'take coin', 'move north', 'move west', 'put coin in box'], ['546264571176620237', '8167804014757816364', '8794859398154593455', '5665000903192909555', '4493673259475312309', '1018122779180782647', '1331031310421356435', '7102825634114360212', '7381554576754370092', '7042797657340534509', '1738025236558332628', '297781355585197295', '70763346956629673', '6357664941140922543', '3564110435760299339', '2226750544973865832', '1802871359280789253', '6548122274355955329']), ('coin', 'numLocations=5,includeDoors=1,numDistractorItems=0', 4): (['move north', 'open door to west', 'move west', 'take coin'], ['7512399964629160422', '7021784029531834395', '631695658088883718', '1182215608419487962', '5381024931955750427', '907290285102771681', '116994845595236170', '305597268574540295', '2273015182075548132', '644082825169491516', '2467405612477399349', '2215694443087445524', '2555304362369424509', '7366285411764165153', '2340636643337799456', '962069406864335048', '8417124795973646603', '3613458204039819812', '8600120527378475873', '8160696098388705485', '6770356710947880501', '6548065384236172355', '5832608788708322165', '5417982985073605877', '1638397349085682361', '5128999148767337214', '8102675200927611660', '2729656034009382883', '8960642429512928207', '3019360821828718943', '4466543856635620110', '8462927589877285549', '4995704740713739011', '5192577864044725626']), ('coin', 'numLocations=7,includeDoors=1,numDistractorItems=0', 4): (['move west', 'open door to west', 'move west', 'take coin'], ['7827583415387306033', '6261066820004156107', '2701431614680011378', '6565471606499824256', '3267099812267832902', '1228636423567019201', '2761573530366872427', '3347214727998506316', '6004545089447296790', '8930965145363578122', '7208402462989993619', '1865588207962732233', '3813541779326046951', '4243363461901096966', '4857809593326670956', '4519225342481514528', '1678164004245657658', '503773367884516012', '7046142475583137087', '5413971694013111156', '7601262245096706637', '6870307347617157828', '5442734123738009861', '578451030584020353', '988296666535493742', '6024842759586783556', '2862051885225400091', '7344906302064668309', '246736229055053309', '8756851683427499576', '6848022362976201951', '3602499002863093176']), ('coin', 'numLocations=6,includeDoors=1,numDistractorItems=0', 1): (['open door to west', 'move west', 'take coin'], ['7831558281069151707', '1156450267001115673', '3973936630716995008', '5769927385269808943', '2976290950003757756', '7186671517286270124', '7442023454092564895', '8190727880057998525', '4488270507863952860', '8146060266367508465', '1971387785865085283', '7259105301577883245', '1826034585396945753', '3792376998939647166']), ('mapreader', 'numLocations=8,maxDistanceApart=4,includeDoors=0,maxDistractorItemsPerLocation=0', 3): (['move north', 'take coin', 'move south', 'put coin in box'], ['7457909613495750504', '1376047273784744828', '3657721748936283542', '3270294665512223534', '8917727709063275552', '6208734424417356221', '673038525739713290', '5627575060534321456', '2840585449518846690', '5202412340575178355', '9092374138114382173', '4821734240073058129', '5071102070415182699', '4635487828595464894', '267503076704330953', '2300957953108830103', '8096369258616444636', '7974385339077285693', '7762456534228870966', '2900415936105239112', '1956184427077922493', '834732052707351498', '2278313318470398853']), ('mapreader', 'numLocations=11,maxDistanceApart=5,includeDoors=0,maxDistractorItemsPerLocation=0', 4): (['move east', 'move south', 'move south', 'move south', 'move east', 'take coin', 'move north', 'move west', 'move north', 'move north', 'move west', 'put coin in box'], ['2719233484483316656', '3084833071643889290', '8005044229876885329', '1491061355128642261', '6705462352864075113', '8439435076672980817', '7684986089495907371', '3381591282995596934', '450323075260245412', '1585550751401491022', '4561261164594613914', '193687068916193699', '11244925143715833', '1624437210852695917', '6667527464298395836', '9168725432190784404', '5662350710635500702', '5161489413953261453', '5810540838936246512', '7694369149765403622', '212599918589561178', '3900632170047744556', '5053230632212049343', '8676639811497650040', '2772456629043579036', '2140885345155545255', '1077847098369510204', '1615272188488958286', '8133491230195441913', '2620471461396606496', '6688267249530747625', '6489716551914778826', '2382142451081906406', '4904271190368438992', '2375713460706919909', '1431261542010921820', '2576628823632539510', '7377480348671821891', '2325640757823652968', '8598773568789413275', '3984509253017390596', '7865177601121848379', '2121026828060737944']), ('mapreader', 'numLocations=15,maxDistanceApart=8,includeDoors=0,maxDistractorItemsPerLocation=0', 1): (['move east', 'move north', 'take coin', 'move south', 'move west', 'put coin in box'], ['4531889542971284245', '2689719861227511381', '4651695930618394318', '6769737870680245660', '392328492660164889', '3260136875269052257', '1279482158815407438', '6199958224129522607', '5245869361599742016', '6631971008978542677', '8543113562722184279', '7736600214237121562', '3758716785140695785', '1084989808955395410', '8026823959054262553', '2012030204372274026', '5104343787523431525', '2178500146851554632', '1397983096054575393', '1388812868198022109', '227631350928480884', '5211633261363764529', '1644531820697054065', '6630643375647096563', '3406275826053135860', '2975217668544255821', '7374954482965657201', '2161328664160287706', '7343046071855768559', '156442284713071850', '1331321749192377841', '7058326748244673569', '7966272267005491795', '7043130109347166183', '3046057235091270410', '1915937383143490786', '3486441569119572187']), ('coin', 'numLocations=5,includeDoors=1,numDistractorItems=0', 0): (['take coin'], ['6655982133432072625', '2769398708246803122', '545289667275045926']), ('mapreader', 'numLocations=15,maxDistanceApart=8,includeDoors=0,maxDistractorItemsPerLocation=0', 2): (['move west', 'move west', 'move north', 'move north', 'move north', 'take coin', 'move south', 'move south', 'move east', 'move south', 'move east', 'put coin in box'], ['4336818555134761667', '5648268116837891174', '764383971123898751', '3975097966449764188', '2108757182704501619', '4902688818282991222', '4306137285896232287', '2083922395767847378', '3599435492528322901', '2259269294240956114', '55653822220690724', '506251069488926228', '8783747948189739657', '3083779422476788176', '4097019163083972896', '4758408862944528951', '55376750161643867', '8673172123307410235', '7210161322851315558', '3772693459634179403', '56383673268921249', '2009954841543512983', '5039314035607475588', '8470191683047078064', '170731482205687004', '5781954226856138013', '6542928875527416279', '1374641635580237918', '2421166442468839951', '8738679703417837480', '9039744023198510883', '2947131244389951305', '1625098766089363017', '3271177246458484285', '264647459594374040', '3060006969901461211', '8432122457692616202', '8159898460082418166', '5987762949041187184', '967077954657793458', '2497383244371494502', '8905109565102489706', '3181562086360125232', '7602818509613682426', '5340284615370002572', '74412142839715489', '1427799094963335066', '7410895243706692134', '2237682344006532137']), ('mapreader', 'numLocations=11,maxDistanceApart=5,includeDoors=0,maxDistractorItemsPerLocation=0', 0): (['move north', 'move east', 'move north', 'move east', 'take coin', 'move west', 'move south', 'move south', 'move west', 'put coin in box'], ['219835089746634443', '1694519766816182526', '4016200452527123198', '3888654777882044373', '7408392316919194545', '4495860564327045436', '1268379969863351204', '7960374798304838594', '5544703140413893911', '340768920267239449', '6357437744623219462', '5517060085829861882', '7172017158380144961', '2195340934917942193', '5132548040533224453', '8656714633969279235', '8203178727293978273', '8614677683673505960', '2499990341869926102', '8846129839161144991', '4332408267091441723', '4562287485207079269', '6659556477628391932', '4540267311066750128', '779680243360067850', '5586722893650462818', '3419950246580184156', '8209794527915757105', '6448532099631836728', '1438904299906728031', '3432065747522509343', '7188218148991069082', '2035562371112831244', '6821676220897427723', '8192118149537121719', '5109044380783059105', '7478374865448865702', '7154713618403638184', '4420742745605769470']), ('coin', 'numLocations=10,includeDoors=1,numDistractorItems=0', 4): (['take coin'], ['7849996161579834707', '7869750847425208646', '8546236038776759989']), ('coin', 'numLocations=5,includeDoors=1,numDistractorItems=0', 1): (['open door to west', 'move west', 'take coin'], ['6663456584361128097', '3709367735687215328', '604819640815445073', '4217935318454807278', '7140936819516099107', '2091434847216547580', '3447556117120536113', '7938545241281982424', '651309570856817512', '7445298358367609216', '7831790230530624814', '1842277941924157537', '4892531284877061233', '5389839544370146895']), ('coin', 'numLocations=10,includeDoors=1,numDistractorItems=0', 2): (['move north', 'open door to west', 'move west', 'take coin'], ['1877028963344301264', '5242355841489856029', '9173235641607889836', '718602374896348491', '3038590141846199873', '487458225500928597', '267452991977237993', '6266733952133923635', '7822903075366087875', '5518979813860774570', '6882611914043311280', '3517449538019194219', '8775833842263174725', '6220905860443164791', '8199608712654010351', '6030228583801944315', '7862982988791612116', '3861602602890218481', '5801895584567528781', '4646815617125637920', '503827251304163067', '87418661865720004', '6919225616833599678', '513566323931324184', '6818446437395447487', '998255151453932358', '1582789391901054523', '6436779938833922744', '4357946120957470095', '273574749909190684', '6943297085591048352', '8241984233175834132', '3313178522978409000', '3968045064662668605', '5495780315887547041', '1172915215478922361', '4324223770852947421', '4932525605513555389', '9060971905734024966', '7623556101867595380', '5786704982850555238', '6020725654633523940']), ('coin', 'numLocations=6,includeDoors=1,numDistractorItems=0', 2): (['move east', 'open door to south', 'move south', 'take coin'], ['5157288636930264176', '2067579430681003719', '8657776161387303120', '6277738789041595957', '8675722006825911310', '1323992827477452784', '152520544872040923', '4582279808949384915', '3109095658215166547', '1601189108377771012', '2175164078380953713', '8178031179769344560', '2330372675312007866', '8075465150940553355', '1435190397129730664', '8472444270145539580', '5486435567346559826', '7164088525047181058', '7020207181936879237', '3353654181968516322', '7741356493555517856', '8141191511347022394', '6243723453566017385']), ('mapreader', 'numLocations=15,maxDistanceApart=8,includeDoors=0,maxDistractorItemsPerLocation=0', 0): (['move west', 'move north', 'move north', 'move north', 'move east', 'move south', 'take coin', 'move north', 'move west', 'move south', 'move south', 'move south', 'move east', 'put coin in box'], ['5531682685053666772', '6959428464350837320', '7754264786595801844', '9091769264204103872', '4919522715521005576', '6746282317060807488', '2100199345062843126', '969485290116062231', '6635741583688590813', '6026785637580717459', '7484405295625866770', '6366289320075234603', '3384227634304564987', '5940058619557557980', '1637614146236178996', '1626090407658250097', '4880642094611986765', '8818989698493869096', '4872336461641722364', '3768570332332225350', '6407391791826950527', '5163189144959173796', '1405591597718712084', '6484833913706336350', '970918309846500825', '337025515236358605', '8083284236451662702', '5436910705743038010', '338062295102721536', '3585581491515516552', '2548793306261251137', '1650404820680301993', '4628810214493844140', '5932048649560054330', '5350574808542846914', '4233164816747257698', '9004503552217107212', '2873606760455849980', '7572922898631810749', '2406601417721220403', '3769752764058931707', '4049779216197382320', '1903625876902645885', '2029965441757381458', '7867861784900442797', '8019479815555968910', '7664203246607024273', '885141646392504056', '5975810540870513379', '7864680120686473420', '2348189431519113425', '827927684808600648', '3969999098434308214', '6736458962769788158', '2438241596318555984', '3536089400867086470', '7418722778426398373', '3832180405475198695', '1901297052329162566', '911634385752118147']), ('coin', 'numLocations=7,includeDoors=1,numDistractorItems=0', 3): (['open door to east', 'move east', 'take coin'], ['7106552524351651316', '2022838762523145353', '3050334498204599317', '816284066084240559', '8969253101153659873', '8724161856204698394', '1445226758200096324', '8175254086992094860', '5404887995195605648', '5890109784957852659', '389533342959685149']), ('mapreader', 'numLocations=11,maxDistanceApart=5,includeDoors=0,maxDistractorItemsPerLocation=0', 1): (['move east', 'move north', 'take coin', 'move south', 'move west', 'put coin in box'], ['3650943832602972514', '2861977060295191285', '4058707544537729860', '7697423992771556235', '5594035162934782007', '8493982014825182556', '7203864386277642028', '2565035648938771843', '1586979818743914669', '6203804937177222683', '4727373302907562591', '601183035905295775', '4240333693696321702', '6215845793268859286', '2316336188605886581', '8408497124764085484', '80973395005310866', '353695269065136310', '151658521939631722', '6578809239208793413', '3343534018459378406', '5402555025410929055', '5968628803059075242', '240594592337913255', '1201646265740469544', '1799564689050669230', '5749796608237222669', '8802836192546929673', '3005764361332488848', '3298244697333463544', '8006552230434415469', '2489294929732455660', '8515956654747878962', '3682276985952165427']), ('coin', 'numLocations=7,includeDoors=1,numDistractorItems=0', 2): (['move east', 'open door to north', 'move north', 'take coin'], ['2102368285498536156', '7067995223371488982', '8303378810350311228', '6290309872087797619', '71890838208733060', '7278230808217429618', '3551692859573628913', '6960805944623091845', '3881188631169826232', '8079933562178847859', '5716222819261481133', '1804606779407353578', '4884240170767342958', '5059916096075957520', '7539268580540998884', '7762820975668473901', '4746623447904923086', '5237640856615850978', '312042247829826966', '4052191059652869754', '3318830031234739138', '7109495440299390281', '7851593261991835995', '3784386703841113406', '6788737788667914749', '8440497600227561314', '4117549480125792704', '3848290295852639209', '163480414086176693', '4941389198329368328', '7085556704749116452', '2844223101387191873']), ('mapreader', 'numLocations=8,maxDistanceApart=4,includeDoors=0,maxDistractorItemsPerLocation=0', 0): (['move north', 'move north', 'take coin', 'move south', 'move south', 'put coin in box'], ['9018843682833339887', '8755290623312628289', '7380655735631143635', '6287224744216440024', '8846913485116679061', '1385787190637793400', '3266128589576817267', '1981873186192726034', '5409310684643253935', '607007825263988506', '6453091702947995120', '2925441830628233707', '6965628449335386299', '4942593192947523131', '3368546518253677987', '8603829738636046312', '4774940442955690918', '1797414131082699211', '283321435416122077', '5928868508060353013', '3425682204374362691', '5284449386807676498', '2007833411765958213', '7360902161492913835', '3842637338390189039', '2552414146652070305', '6057883004237479288', '9104625842329046643', '2786743022195425285', '2156108473400358399', '1369027890086925956', '7528847056037302349', '3517016094505479272']), ('mapreader', 'numLocations=8,maxDistanceApart=4,includeDoors=0,maxDistractorItemsPerLocation=0', 1): (['move north', 'move north', 'take coin', 'move south', 'move south', 'put coin in box'], ['2464289901443190902', '8469005786665916161', '9110994589277255069', '4492432124027040313', '7856278845321126414', '6718896232779173059', '8562346048110907381', '7955857781098764885', '5670251730925265497', '2818137547002506350', '5265468972362413253', '1436897636203879172', '4289792297317259129', '56380095409037467', '2654479043766249433', '160418373462868965', '3520443083568273438', '3468858287266957069', '4040908562945794762', '5282350450482236448', '2300390463139896192', '436330116226897773', '8180506144040256219', '1203272383915492029', '1748503148065633658', '8100697082357789536', '9035004766647782051']), ('coin', 'numLocations=6,includeDoors=1,numDistractorItems=0', 4): (['move west', 'open door to south', 'move south', 'open door to west', 'move west', 'take coin'], ['2681053319911454169', '128776050522414600', '4804576066994771532', '4794891769545016769', '8468314687648812529', '5076055029651545842', '501544597158980521', '5165884612226195789', '8878082199776349268', '6293510096079377735', '4653405148202643623', '2811750899936065643', '5598137737641270894', '5431765428846113245', '8278409773259695467', '8130968129264684525', '2722175490547317903', '9213333386648112311', '8414657239481645251', '629441264423049188', '5185370215316937691', '8896914943354519125', '3369853188235971013', '7140283018986073047', '5890924025219738075', '2549093054019995191', '7134274361941844301', '5970462329300260098', '5256943742264450051', '5249341552506721856', '6992340339647171643', '3700080675178061037', '1786390974040277498', '3197306717005990748', '1104882513610840128', '6608517354209563784', '6316672376002518989', '6603558457328084647', '4175658921949997580', '8390984137239901124', '4978679658555432236', '4485224083511281942', '1246531995175450600', '4249627454250543069', '9161861633000083502', '591496690203121182', '623912932138827234', '257111150184100666', '2089357815098849448', '7208428236862773858', '7570572881821853774', '7362886737322872924', '6173029464351113031', '7236820012909925623', '2437326007734152922', '8593971765464343125', '8333903550537007312', '2455286158837617889', '7172897285776149034', '6066706871490430232', '5627935852231974183', '3316486142631963946', '4334111391084174884', '8588814965095052850', '2678139628756246832', '2735839540088471856', '8838245992892918793', '3159718884424692154', '7714350827235444571', '186112279686960842', '8292929741384123419', '8763132637194976301', '42524497218610076', '132358992419822804', '5302448107788487615', '995177426741722057', '811964640543117340', '1858110756910106230', '5488473673741166549', '3419909539183037385', '5540335388647806759', '8086174039944223411', '6380834638974763747', '6565705602644552911', '2491713173824278159', '6102960935333575248', '1132855665474483017', '6987508529043892155', '1217960269447741562']), ('mapreader', 'numLocations=5,maxDistanceApart=3,includeDoors=0,maxDistractorItemsPerLocation=0', 0): (['move west', 'move north', 'take coin', 'move south', 'move east', 'put coin in box'], ['8124098398288934599', '8215171918554460944', '5053263717686584828', '6009422220421610623', '7374777413847616632', '7749075478725991294', '3993110345962715057', '4417321839042803632', '604778734950823965', '1446904190557143923', '4878597192573963320', '8768863613096325466', '7019181788849222169', '1626198231316360355', '3424655280557279941', '8498134786215554578', '3617056796340325798', '4704679516445111157', '1481155452609740949']), ('mapreader', 'numLocations=5,maxDistanceApart=3,includeDoors=0,maxDistractorItemsPerLocation=0', 1): (['move west', 'take coin', 'move east', 'put coin in box'], ['2753098209044784996', '4354383365104397559', '6831875721688174626', '7515067575976413309', '2270774025221918178', '4822647157043620344', '130278743639423446', '2346950840465993710', '7814456638747122223', '7301579144284342510', '7311549184039489284', '3923815140881465669', '7474410437331240354', '3263246152073513619', '9081151164032257644', '8981425136003338963', '1661463313635765443', '8811254309857783942', '6861848932333366365', '9119755409564644607']), ('coin', 'numLocations=6,includeDoors=1,numDistractorItems=0', 0): (['move east', 'open door to north', 'move north', 'take coin'], ['3562548382186720938', '9116191371925328105', '1989594934930849599', '7359364946696074719', '1437794958267909866', '1237915592705588074', '5643696992648598910', '8118521804546762070', '8129394309296632502', '4096551943357673858', '2312574598429231932', '1652814773628039998', '5991373871984803677', '890239292847782719', '8183245525925622429', '6767637264565556661', '1756350467653046980', '5691921507186014488', '6802381039441606409', '2804036219695271453', '4375049857362498870', '7184208810117313517', '5240051109130979280', '5604513857116927872', '12613854523496709', '4072493068476149603', '111727931834126643', '1616841850996372032', '6208917159851476222', '68338035706658473', '9212662723674412018', '7428903791177739429', '3720200688236777749', '7326157470637146059', '1353989425094889894', '3407019581612724004', '62138984505855711', '1688828931632313966', '4546075199191381439', '2690373630735905288', '2721453173403460186', '6471087356217263643']), ('coin', 'numLocations=10,includeDoors=1,numDistractorItems=0', 0): (['take coin'], ['8042424871671443745', '511960801990812166', '4271547922315215726']), ('mapreader', 'numLocations=8,maxDistanceApart=4,includeDoors=0,maxDistractorItemsPerLocation=0', 2): (['move east', 'move south', 'take coin', 'move north', 'move west', 'put coin in box'], ['2101525717849924827', '6572675763189597532', '7964666370897455317', '5306646691483687438', '8827690401924576386', '6733973516029760986', '5380323824915413489', '528575330122488617', '2320265917205356562', '6240065752985432301', '7186340297217174516', '6183267299150961539', '6148708150921045319', '8046609293570181544', '677155480681490509', '5871231518184718645', '2080150816640248763', '5053576855114635379', '6879070853676067963', '2293002559795552131', '1358125965252101180', '6996240383553244248', '198021161797556127', '5768372333123251736', '262731433900420506', '6307563651494234484', '3115204180319395792', '1620440061201947695', '5779509980652830157'])}\n"
          ]
        }
      ],
      "source": [
        "results = run_all(bfs)\n",
        "print(results)"
      ]
    },
    {
      "cell_type": "markdown",
      "metadata": {
        "id": "f9ygr0oleIfc"
      },
      "source": [
        "## DFS Testing"
      ]
    },
    {
      "cell_type": "markdown",
      "metadata": {
        "id": "a4JXp-DD9FPO"
      },
      "source": [
        "Run DFS on all environments."
      ]
    },
    {
      "cell_type": "code",
      "execution_count": 43,
      "metadata": {
        "colab": {
          "base_uri": "https://localhost:8080/"
        },
        "collapsed": true,
        "id": "YYSKFsqzeOsN",
        "outputId": "803b9087-f596-414f-8cf1-2d3912544688",
        "tags": [
          "active-ipynb"
        ]
      },
      "outputs": [
        {
          "name": "stdout",
          "output_type": "stream",
          "text": [
            "mapreader numLocations=11,maxDistanceApart=5,includeDoors=0,maxDistractorItemsPerLocation=0 2\n",
            "============ type= mapreader params= numLocations=11,maxDistanceApart=5,includeDoors=0,maxDistractorItemsPerLocation=0 seed= 2 ============\n",
            "2 mapreader numLocations=11,maxDistanceApart=5,includeDoors=0,maxDistractorItemsPerLocation=0\n",
            "mapreader numLocations=15,maxDistanceApart=8,includeDoors=0,maxDistractorItemsPerLocation=0 4\n",
            "============ type= mapreader params= numLocations=15,maxDistanceApart=8,includeDoors=0,maxDistractorItemsPerLocation=0 seed= 4 ============\n",
            "4 mapreader numLocations=15,maxDistanceApart=8,includeDoors=0,maxDistractorItemsPerLocation=0\n",
            "coin numLocations=7,includeDoors=1,numDistractorItems=0 0\n",
            "============ type= coin params= numLocations=7,includeDoors=1,numDistractorItems=0 seed= 0 ============\n",
            "0 coin numLocations=7,includeDoors=1,numDistractorItems=0\n",
            "mapreader numLocations=5,maxDistanceApart=3,includeDoors=0,maxDistractorItemsPerLocation=0 4\n",
            "============ type= mapreader params= numLocations=5,maxDistanceApart=3,includeDoors=0,maxDistractorItemsPerLocation=0 seed= 4 ============\n",
            "4 mapreader numLocations=5,maxDistanceApart=3,includeDoors=0,maxDistractorItemsPerLocation=0\n",
            "coin numLocations=5,includeDoors=1,numDistractorItems=0 2\n",
            "============ type= coin params= numLocations=5,includeDoors=1,numDistractorItems=0 seed= 2 ============\n",
            "2 coin numLocations=5,includeDoors=1,numDistractorItems=0\n",
            "coin numLocations=10,includeDoors=1,numDistractorItems=0 1\n",
            "============ type= coin params= numLocations=10,includeDoors=1,numDistractorItems=0 seed= 1 ============\n",
            "1 coin numLocations=10,includeDoors=1,numDistractorItems=0\n",
            "coin numLocations=6,includeDoors=1,numDistractorItems=0 3\n",
            "============ type= coin params= numLocations=6,includeDoors=1,numDistractorItems=0 seed= 3 ============\n",
            "3 coin numLocations=6,includeDoors=1,numDistractorItems=0\n",
            "mapreader numLocations=15,maxDistanceApart=8,includeDoors=0,maxDistractorItemsPerLocation=0 3\n",
            "============ type= mapreader params= numLocations=15,maxDistanceApart=8,includeDoors=0,maxDistractorItemsPerLocation=0 seed= 3 ============\n",
            "3 mapreader numLocations=15,maxDistanceApart=8,includeDoors=0,maxDistractorItemsPerLocation=0\n",
            "mapreader numLocations=5,maxDistanceApart=3,includeDoors=0,maxDistractorItemsPerLocation=0 3\n",
            "============ type= mapreader params= numLocations=5,maxDistanceApart=3,includeDoors=0,maxDistractorItemsPerLocation=0 seed= 3 ============\n",
            "3 mapreader numLocations=5,maxDistanceApart=3,includeDoors=0,maxDistractorItemsPerLocation=0\n",
            "coin numLocations=10,includeDoors=1,numDistractorItems=0 3\n",
            "============ type= coin params= numLocations=10,includeDoors=1,numDistractorItems=0 seed= 3 ============\n",
            "3 coin numLocations=10,includeDoors=1,numDistractorItems=0\n",
            "mapreader numLocations=8,maxDistanceApart=4,includeDoors=0,maxDistractorItemsPerLocation=0 4\n",
            "============ type= mapreader params= numLocations=8,maxDistanceApart=4,includeDoors=0,maxDistractorItemsPerLocation=0 seed= 4 ============\n",
            "4 mapreader numLocations=8,maxDistanceApart=4,includeDoors=0,maxDistractorItemsPerLocation=0\n",
            "coin numLocations=7,includeDoors=1,numDistractorItems=0 1\n",
            "============ type= coin params= numLocations=7,includeDoors=1,numDistractorItems=0 seed= 1 ============\n",
            "1 coin numLocations=7,includeDoors=1,numDistractorItems=0\n",
            "mapreader numLocations=11,maxDistanceApart=5,includeDoors=0,maxDistractorItemsPerLocation=0 3\n",
            "============ type= mapreader params= numLocations=11,maxDistanceApart=5,includeDoors=0,maxDistractorItemsPerLocation=0 seed= 3 ============\n",
            "3 mapreader numLocations=11,maxDistanceApart=5,includeDoors=0,maxDistractorItemsPerLocation=0\n",
            "coin numLocations=5,includeDoors=1,numDistractorItems=0 3\n",
            "============ type= coin params= numLocations=5,includeDoors=1,numDistractorItems=0 seed= 3 ============\n",
            "3 coin numLocations=5,includeDoors=1,numDistractorItems=0\n",
            "mapreader numLocations=5,maxDistanceApart=3,includeDoors=0,maxDistractorItemsPerLocation=0 2\n",
            "============ type= mapreader params= numLocations=5,maxDistanceApart=3,includeDoors=0,maxDistractorItemsPerLocation=0 seed= 2 ============\n",
            "2 mapreader numLocations=5,maxDistanceApart=3,includeDoors=0,maxDistractorItemsPerLocation=0\n",
            "coin numLocations=5,includeDoors=1,numDistractorItems=0 4\n",
            "============ type= coin params= numLocations=5,includeDoors=1,numDistractorItems=0 seed= 4 ============\n",
            "4 coin numLocations=5,includeDoors=1,numDistractorItems=0\n",
            "coin numLocations=7,includeDoors=1,numDistractorItems=0 4\n",
            "============ type= coin params= numLocations=7,includeDoors=1,numDistractorItems=0 seed= 4 ============\n",
            "4 coin numLocations=7,includeDoors=1,numDistractorItems=0\n",
            "coin numLocations=6,includeDoors=1,numDistractorItems=0 1\n",
            "============ type= coin params= numLocations=6,includeDoors=1,numDistractorItems=0 seed= 1 ============\n",
            "1 coin numLocations=6,includeDoors=1,numDistractorItems=0\n",
            "mapreader numLocations=8,maxDistanceApart=4,includeDoors=0,maxDistractorItemsPerLocation=0 3\n",
            "============ type= mapreader params= numLocations=8,maxDistanceApart=4,includeDoors=0,maxDistractorItemsPerLocation=0 seed= 3 ============\n",
            "3 mapreader numLocations=8,maxDistanceApart=4,includeDoors=0,maxDistractorItemsPerLocation=0\n",
            "mapreader numLocations=11,maxDistanceApart=5,includeDoors=0,maxDistractorItemsPerLocation=0 4\n",
            "============ type= mapreader params= numLocations=11,maxDistanceApart=5,includeDoors=0,maxDistractorItemsPerLocation=0 seed= 4 ============\n",
            "4 mapreader numLocations=11,maxDistanceApart=5,includeDoors=0,maxDistractorItemsPerLocation=0\n",
            "mapreader numLocations=15,maxDistanceApart=8,includeDoors=0,maxDistractorItemsPerLocation=0 1\n",
            "============ type= mapreader params= numLocations=15,maxDistanceApart=8,includeDoors=0,maxDistractorItemsPerLocation=0 seed= 1 ============\n",
            "1 mapreader numLocations=15,maxDistanceApart=8,includeDoors=0,maxDistractorItemsPerLocation=0\n",
            "coin numLocations=5,includeDoors=1,numDistractorItems=0 0\n",
            "============ type= coin params= numLocations=5,includeDoors=1,numDistractorItems=0 seed= 0 ============\n",
            "0 coin numLocations=5,includeDoors=1,numDistractorItems=0\n",
            "mapreader numLocations=15,maxDistanceApart=8,includeDoors=0,maxDistractorItemsPerLocation=0 2\n",
            "============ type= mapreader params= numLocations=15,maxDistanceApart=8,includeDoors=0,maxDistractorItemsPerLocation=0 seed= 2 ============\n",
            "2 mapreader numLocations=15,maxDistanceApart=8,includeDoors=0,maxDistractorItemsPerLocation=0\n",
            "mapreader numLocations=11,maxDistanceApart=5,includeDoors=0,maxDistractorItemsPerLocation=0 0\n",
            "============ type= mapreader params= numLocations=11,maxDistanceApart=5,includeDoors=0,maxDistractorItemsPerLocation=0 seed= 0 ============\n",
            "0 mapreader numLocations=11,maxDistanceApart=5,includeDoors=0,maxDistractorItemsPerLocation=0\n",
            "coin numLocations=10,includeDoors=1,numDistractorItems=0 4\n",
            "============ type= coin params= numLocations=10,includeDoors=1,numDistractorItems=0 seed= 4 ============\n",
            "4 coin numLocations=10,includeDoors=1,numDistractorItems=0\n",
            "coin numLocations=5,includeDoors=1,numDistractorItems=0 1\n",
            "============ type= coin params= numLocations=5,includeDoors=1,numDistractorItems=0 seed= 1 ============\n",
            "1 coin numLocations=5,includeDoors=1,numDistractorItems=0\n",
            "coin numLocations=10,includeDoors=1,numDistractorItems=0 2\n",
            "============ type= coin params= numLocations=10,includeDoors=1,numDistractorItems=0 seed= 2 ============\n",
            "2 coin numLocations=10,includeDoors=1,numDistractorItems=0\n",
            "coin numLocations=6,includeDoors=1,numDistractorItems=0 2\n",
            "============ type= coin params= numLocations=6,includeDoors=1,numDistractorItems=0 seed= 2 ============\n",
            "2 coin numLocations=6,includeDoors=1,numDistractorItems=0\n",
            "mapreader numLocations=15,maxDistanceApart=8,includeDoors=0,maxDistractorItemsPerLocation=0 0\n",
            "============ type= mapreader params= numLocations=15,maxDistanceApart=8,includeDoors=0,maxDistractorItemsPerLocation=0 seed= 0 ============\n",
            "0 mapreader numLocations=15,maxDistanceApart=8,includeDoors=0,maxDistractorItemsPerLocation=0\n",
            "coin numLocations=7,includeDoors=1,numDistractorItems=0 3\n",
            "============ type= coin params= numLocations=7,includeDoors=1,numDistractorItems=0 seed= 3 ============\n",
            "3 coin numLocations=7,includeDoors=1,numDistractorItems=0\n",
            "mapreader numLocations=11,maxDistanceApart=5,includeDoors=0,maxDistractorItemsPerLocation=0 1\n",
            "============ type= mapreader params= numLocations=11,maxDistanceApart=5,includeDoors=0,maxDistractorItemsPerLocation=0 seed= 1 ============\n",
            "1 mapreader numLocations=11,maxDistanceApart=5,includeDoors=0,maxDistractorItemsPerLocation=0\n",
            "coin numLocations=7,includeDoors=1,numDistractorItems=0 2\n",
            "============ type= coin params= numLocations=7,includeDoors=1,numDistractorItems=0 seed= 2 ============\n",
            "2 coin numLocations=7,includeDoors=1,numDistractorItems=0\n",
            "mapreader numLocations=8,maxDistanceApart=4,includeDoors=0,maxDistractorItemsPerLocation=0 0\n",
            "============ type= mapreader params= numLocations=8,maxDistanceApart=4,includeDoors=0,maxDistractorItemsPerLocation=0 seed= 0 ============\n",
            "0 mapreader numLocations=8,maxDistanceApart=4,includeDoors=0,maxDistractorItemsPerLocation=0\n",
            "mapreader numLocations=8,maxDistanceApart=4,includeDoors=0,maxDistractorItemsPerLocation=0 1\n",
            "============ type= mapreader params= numLocations=8,maxDistanceApart=4,includeDoors=0,maxDistractorItemsPerLocation=0 seed= 1 ============\n",
            "1 mapreader numLocations=8,maxDistanceApart=4,includeDoors=0,maxDistractorItemsPerLocation=0\n",
            "coin numLocations=6,includeDoors=1,numDistractorItems=0 4\n",
            "============ type= coin params= numLocations=6,includeDoors=1,numDistractorItems=0 seed= 4 ============\n",
            "4 coin numLocations=6,includeDoors=1,numDistractorItems=0\n",
            "mapreader numLocations=5,maxDistanceApart=3,includeDoors=0,maxDistractorItemsPerLocation=0 0\n",
            "============ type= mapreader params= numLocations=5,maxDistanceApart=3,includeDoors=0,maxDistractorItemsPerLocation=0 seed= 0 ============\n",
            "0 mapreader numLocations=5,maxDistanceApart=3,includeDoors=0,maxDistractorItemsPerLocation=0\n",
            "mapreader numLocations=5,maxDistanceApart=3,includeDoors=0,maxDistractorItemsPerLocation=0 1\n",
            "============ type= mapreader params= numLocations=5,maxDistanceApart=3,includeDoors=0,maxDistractorItemsPerLocation=0 seed= 1 ============\n",
            "1 mapreader numLocations=5,maxDistanceApart=3,includeDoors=0,maxDistractorItemsPerLocation=0\n",
            "coin numLocations=6,includeDoors=1,numDistractorItems=0 0\n",
            "============ type= coin params= numLocations=6,includeDoors=1,numDistractorItems=0 seed= 0 ============\n",
            "0 coin numLocations=6,includeDoors=1,numDistractorItems=0\n",
            "coin numLocations=10,includeDoors=1,numDistractorItems=0 0\n",
            "============ type= coin params= numLocations=10,includeDoors=1,numDistractorItems=0 seed= 0 ============\n",
            "0 coin numLocations=10,includeDoors=1,numDistractorItems=0\n",
            "mapreader numLocations=8,maxDistanceApart=4,includeDoors=0,maxDistractorItemsPerLocation=0 2\n",
            "============ type= mapreader params= numLocations=8,maxDistanceApart=4,includeDoors=0,maxDistractorItemsPerLocation=0 seed= 2 ============\n",
            "2 mapreader numLocations=8,maxDistanceApart=4,includeDoors=0,maxDistractorItemsPerLocation=0\n",
            "{('mapreader', 'numLocations=11,maxDistanceApart=5,includeDoors=0,maxDistractorItemsPerLocation=0', 2): (['put map in box', 'move south', 'move east', 'move south', 'take coin', 'move north', 'move west', 'move north', 'take map', 'put coin in box'], ['2335459758643825952', '8815698033526728240', '6139301777955098305', '5192406498804226507', '2863398517567496924', '4467196495535347962', '4352884037465458480', '3655458847878646683', '8242750742064202884', '5307716266595915990', '6081428046832638433', '9047387626297389087', '6396046590758714342', '7583012051713317291', '4290918192786637176', '7394452822487111686', '5181841329337453213', '3846940293979171120', '5246161896569605335', '3468692893596660256', '5518717345291301750', '3356117848406750026', '3781535739787571704', '3426529649000328567', '363776388810517353', '7810418987331473006', '3442478404124674415', '2666040169438051244']), ('mapreader', 'numLocations=15,maxDistanceApart=8,includeDoors=0,maxDistractorItemsPerLocation=0', 4): (['move east', 'move south', 'move south', 'move east', 'move north', 'take coin', 'move south', 'move west', 'move north', 'move north', 'move west', 'put coin in box'], ['724378826266626036', '5075102621029352121', '7972033225250125593', '7323819885775313674', '8936265007317573764', '5241597179713621807', '7441703231789286571', '1148647797638790130', '1752024422430268350', '7600540498849005130', '5063058690347100843', '1751260711578635872', '3039263945108625973', '2923765910546253144', '2785574854557254782', '7597414773265293011', '3718248393255533594', '4436873599106413165', '6461047267236439305', '4919467989520119505', '36848433578269989', '3169976114395513357']), ('coin', 'numLocations=7,includeDoors=1,numDistractorItems=0', 0): (['move west', 'open door to north', 'move east', 'open door to north', 'move north', 'move south', 'move west', 'close door to north', 'open door to south', 'move south', 'close door to north', 'open door to west', 'move west', 'close door to east', 'take coin'], ['5267550565414039395', '1910766114940014448', '235925421069172809', '6954387277718147543', '3143345616438783048', '3229907004390065930', '1243005342400999200', '4959977945131164623', '6050920123444433495', '1489524271244479499', '8177875046778162627', '6436371718880574326', '4926295546294240867', '2478324085405020782', '5945320336694030064', '2710555847679985096', '5060193202145548918']), ('mapreader', 'numLocations=5,maxDistanceApart=3,includeDoors=0,maxDistractorItemsPerLocation=0', 4): (['put map in box', 'move south', 'move east', 'take coin', 'move west', 'move north', 'take map', 'put coin in box'], ['5534583521146078797', '5599425678773508099', '4673096140906898263', '3238711363733626588', '5747623052329200142', '7394175437046721655', '7378602408844768514', '2965008463764830233', '7776826699934745131', '7116966484602659774', '547014505498516109', '443388691902343506', '3414087963800175533', '995788656715082651', '4848144088839052674']), ('coin', 'numLocations=5,includeDoors=1,numDistractorItems=0', 2): (['open door to east', 'take coin'], ['3663654359325209131', '3327961562966631293', '7725085277310925896']), ('coin', 'numLocations=10,includeDoors=1,numDistractorItems=0', 1): (['open door to west', 'open door to south', 'close door to west', 'move south', 'move north', 'open door to west', 'close door to south', 'move west', 'move north', 'take coin'], ['518827420968105838', '4999697483417826871', '1791223996758606408', '5399431111999449080', '6531604270107550711', '1214611949107278150', '7166489614367810064', '8658734401061414289', '1583812597970962553', '2549496948111323213', '7895736575424698237', '1424871225918285550', '1118547512398834972']), ('coin', 'numLocations=6,includeDoors=1,numDistractorItems=0', 3): (['move east', 'open door to east', 'move west', 'open door to north', 'move east', 'open door to north', 'move north', 'move south', 'move east', 'move west', 'close door to east', 'close door to north', 'open door to east', 'move west', 'move north', 'move south', 'move east', 'open door to north', 'close door to east', 'move north', 'close door to south', 'open door to north', 'move north', 'move south', 'open door to south', 'move south', 'open door to east', 'close door to north', 'close door to east', 'move west', 'close door to north', 'move east', 'open door to north', 'move north', 'move north', 'close door to south', 'take coin'], ['1625049195562929405', '2463782662726148758', '9106179892666257246', '1465666434294690372', '1976246772018611576', '6150827557447342057', '4268907671335163818', '4622706943558863653', '5355846690229117538', '6440302915557168589', '5940286326910762250', '7313225901324027562', '4617348404066411374', '7457987813340997269', '1365189572279625476', '3811656297478584820', '7685789590822101706', '1414423790006192937', '7234959416162955559', '5524961797667140739', '8795349098791847405', '3482861718213968034', '6223784151115386506', '1793328438802722180', '2502823067534835164', '8994210159104526031', '6841193285504081342', '3185911302914619566', '1725439980001069144', '5469634817223348329', '6059091320788921430', '5730806173443308148', '1837926757676912893', '6833970629548838341', '4182950359349511360', '1179970085908428310', '5541237600144691287', '8955978514745593188']), ('mapreader', 'numLocations=15,maxDistanceApart=8,includeDoors=0,maxDistractorItemsPerLocation=0', 3): (['move east', 'move east', 'move south', 'move west', 'move south', 'move east', 'move south', 'move east', 'move south', 'take coin', 'move north', 'move north', 'move west', 'move north', 'move north', 'move west', 'move west', 'put coin in box'], ['4783772733905471196', '5466589447429297371', '5129669070228814738', '3465713432421798564', '7643410266288259059', '898283986327979646', '259835115148217151', '4911421197733660481', '819663206536857864', '3417976630679560860', '1339290168992367712', '138023732270812317', '4873332534215165801', '8438200732882954433', '1628136351284691994', '7898126990015831593', '7867159334532696320', '627039475406023269', '6523186786961344658', '7436410688974358279', '5383424906529327408', '3589860539969635775', '296398524366795574', '5620008032820424041', '1146383608818077983', '1012372654637527184', '403131949952693770', '1975592626355762098', '337556194670370094']), ('mapreader', 'numLocations=5,maxDistanceApart=3,includeDoors=0,maxDistractorItemsPerLocation=0', 3): (['put map in box', 'move north', 'move west', 'take coin', 'move south', 'move east', 'put coin in box'], ['8174360647110884919', '3534804650226580036', '3035653154158520626', '2903304731066909315', '5100622517241679369', '7724779375227097791', '3452851728980635869', '1948860466081925177', '29799242559409425', '3338104652733998464', '5511098983687928705']), ('coin', 'numLocations=10,includeDoors=1,numDistractorItems=0', 3): (['move east', 'open door to south', 'open door to east', 'move west', 'open door to south', 'move south', 'move north', 'open door to north', 'close door to south', 'close door to north', 'move east', 'move south', 'move north', 'open door to north', 'move south', 'close door to north', 'take coin'], ['8985604160466409253', '5497958564140131425', '9184892221812232278', '5882272239261824746', '6023016067470922909', '870701501339790032', '2329768032626456320', '8784566538220186223', '8925781481976834312', '6549867118604393725', '2459118112037329470', '2252408537045682646', '416482807577466713', '8647495801306601875', '5429954174502630883', '8110933157568835360', '760109494005608227', '2029492058130994078']), ('mapreader', 'numLocations=8,maxDistanceApart=4,includeDoors=0,maxDistractorItemsPerLocation=0', 4): (['put map in box', 'move north', 'move north', 'take coin', 'move south', 'move south', 'take map', 'put coin in box'], ['4541856944411231657', '6858049138363930847', '8688975570213929838', '6220884125696736276', '7251979955985071349', '8379701004595745725', '3802542029623454021', '3350017601492821901', '7348220499018599783', '6330437387040063650', '1724877921692603238', '5242428732507264349', '5268686231535909973', '8754062679252758355', '1631723929700197549', '5456278657366317184', '4322566627172638046', '6512812833620736205', '7821536424165457112', '4586351188912673051', '2631070350129869081']), ('coin', 'numLocations=7,includeDoors=1,numDistractorItems=0', 1): (['open door to west', 'open door to east', 'close door to west', 'open door to south', 'close door to east', 'move south', 'move north', 'close door to south', 'open door to east', 'open door to west', 'move east', 'close door to west', 'open door to south', 'open door to east', 'move south', 'move north', 'close door to south', 'close door to east', 'open door to west', 'open door to east', 'move east', 'open door to east', 'move east', 'close door to west', 'take coin'], ['8590060190724822484', '8278259837186697390', '6596219489457385738', '8534598962957089432', '129625895882063694', '2938493385299479932', '3073586655631318158', '105298836271434651', '9082108044614438494', '9150871540445843349', '2336219411370922783', '1135322102056196905', '3303046386492256209', '3466039633467468673', '1878285123064631465', '5603539148943115530', '6720114916317139470', '1813977158818292198', '2655222678313874019', '786180501610524912', '2171195774651211665', '1284087864312881774', '5860032592949778171', '5583581363455555330', '9035377230689064519', '4018514625166792552']), ('mapreader', 'numLocations=11,maxDistanceApart=5,includeDoors=0,maxDistractorItemsPerLocation=0', 3): (['move west', 'move west', 'take coin', 'move east', 'move east', 'put map in box', 'put coin in box'], ['169387173883389945', '3458217771120616688', '763330614606897764', '4573104764851766051', '869798667628221987', '1582903965599590963', '2807704358314194131', '8999329116136277398', '5100945035763052478', '6742899559353148576', '3053829036812436394', '32843386248996301', '5132790381113774419', '283258660380061568', '1870450303387860925', '4385547795299249538', '1228795544223846163', '7873990995007954082', '866618347460149632', '254405368851644263', '6760118879401073222', '5790121170323666336', '2983469410483413346', '3947951627410761762']), ('coin', 'numLocations=5,includeDoors=1,numDistractorItems=0', 3): (['open door to west', 'open door to south', 'close door to west', 'move south', 'open door to east', 'move north', 'open door to west', 'move south', 'close door to north', 'move east', 'take coin'], ['7170804246628967398', '6857823182008056456', '1313380194810578191', '5547838923142795104', '5616303299581023191', '1455680123783426836', '6105920337188136448', '2795430108607075864', '313243878345470226', '249453566920198257', '5409313521016815030', '5808350833824999155']), ('mapreader', 'numLocations=5,maxDistanceApart=3,includeDoors=0,maxDistractorItemsPerLocation=0', 2): (['put map in box', 'move east', 'move south', 'take coin', 'move north', 'move west', 'put coin in box'], ['4493673259475312309', '1018122779180782647', '2897644906301842216', '297781355585197295', '6336061939079685627', '3564110435760299339', '2226750544973865832', '2445564244142130226', '1802871359280789253', '7102825634114360212']), ('coin', 'numLocations=5,includeDoors=1,numDistractorItems=0', 4): (['open door to south', 'move south', 'move north', 'move north', 'open door to west', 'move south', 'open door to east', 'move east', 'move west', 'close door to south', 'move north', 'close door to west', 'move south', 'close door to east', 'move north', 'open door to west', 'move west', 'move east', 'move south', 'open door to south', 'open door to east', 'move north', 'move west', 'take coin'], ['4994494389256418354', '9174934054499018214', '194280886301343644', '8706261015901435095', '5039798701722264744', '3921995689007239241', '9023689419383646776', '4902639128321119489', '7754055666820703871', '1136043971114064616', '399568940460307270', '5477420781767656907', '116994845595236170', '1049644055134007797', '4490880410991607107', '2555304362369424509', '7366285411764165153', '230058015679996522', '4802699482305721492', '3124716611681356265', '5832608788708322165', '5417982985073605877', '6110060829028620017', '399104899099351840', '1518811561358960316', '6696413970588720767', '5120949881178794484', '6708149032752607655']), ('coin', 'numLocations=7,includeDoors=1,numDistractorItems=0', 4): (['open door to south', 'move south', 'move north', 'close door to south', 'move west', 'open door to south', 'move south', 'move north', 'close door to south', 'open door to west', 'move west', 'take coin'], ['9001432330812698284', '3813541779326046951', '1737297123606769248', '1849353895322237135', '4561277639764806664', '6768706903332635741', '7344906302064668309', '2216979487654288925', '5503792842562185651', '7844343652127314701', '8930965145363578122', '889777055918383142', '6430201817267814326', '1796347894806839520', '7046142475583137087', '3169074886787346727']), ('coin', 'numLocations=6,includeDoors=1,numDistractorItems=0', 1): (['open door to west', 'open door to south', 'close door to west', 'move south', 'move north', 'open door to west', 'close door to south', 'move west', 'close door to east', 'open door to north', 'move north', 'close door to south', 'open door to north', 'move north', 'open door to north', 'close door to south', 'move north', 'move south', 'close door to north', 'open door to south', 'open door to north', 'move south', 'close door to north', 'open door to south', 'open door to north', 'move south', 'open door to east', 'move east', 'open door to south', 'move west', 'move north', 'move north', 'close door to south', 'close door to north', 'open door to south', 'move south', 'close door to north', 'move south', 'close door to east', 'take coin'], ['7548813370937121740', '1246820252657910364', '3589737412148520973', '1052603167256360540', '5587323754043825004', '6422309681629215206', '6418952502797906301', '1189779910204724811', '3072109462695825562', '19621031480702257', '8394323270479745571', '6549279956614531258', '2252709603340779232', '1106400209782582528', '2976290950003757756', '8908601797348670342', '8876875571946748956', '7442023454092564895', '8883938033643841733', '4488270507863952860', '490858242600636728', '1044614305724554075', '4028589319965057875', '5753909593051118541', '3973936630716995008', '5885256213050069511', '4208392250415878911', '6579115141981763138', '2509832144066566023', '5688249543011833772', '6785918537784942423', '2047585918690642077', '338350037646635890', '7205493576765789141', '3792376998939647166', '7764670040398185553', '3251594102665588702', '3455895064900109365', '5752449791318972435', '9140596502240973802', '5397223318070596498', '8050568883218633738', '2912338536397805466', '8146060266367508465', '1971387785865085283', '7059087667183509463']), ('mapreader', 'numLocations=8,maxDistanceApart=4,includeDoors=0,maxDistractorItemsPerLocation=0', 3): (['move north', 'take coin', 'move south', 'put coin in box'], ['5012394794012663310', '2840585449518846690', '3657721748936283542', '9092374138114382173', '5291368647383941123', '2900415936105239112', '2278313318470398853', '7974385339077285693', '7762456534228870966', '6208734424417356221', '5627575060534321456']), ('mapreader', 'numLocations=11,maxDistanceApart=5,includeDoors=0,maxDistractorItemsPerLocation=0', 4): (['put map in box', 'move east', 'move south', 'move south', 'move south', 'move east', 'take coin', 'move west', 'move north', 'move east', 'move north', 'move west', 'move north', 'move west', 'take map', 'put coin in box'], ['3084833071643889290', '2052513965771747406', '8005044229876885329', '8439435076672980817', '7684986089495907371', '4296387886684567894', '1585550751401491022', '7187469175381069270', '193687068916193699', '638118506028930253', '1624437210852695917', '9168725432190784404', '6990092294330601791', '290221234183795166', '1406246410634689071', '7694369149765403622', '212599918589561178', '8786186102400128201', '8676639811497650040', '6100546169427956199', '1077847098369510204', '6688267249530747625', '4827522367074608361', '4568095342687402047', '2576628823632539510', '7377480348671821891', '2325640757823652968', '3984509253017390596', '2640183039255651458', '2800410545897903004']), ('mapreader', 'numLocations=15,maxDistanceApart=8,includeDoors=0,maxDistractorItemsPerLocation=0', 1): (['put map in box', 'move south', 'move east', 'move east', 'move east', 'move north', 'move west', 'move north', 'move north', 'move west', 'move south', 'take coin', 'move north', 'move east', 'move south', 'move south', 'move east', 'move south', 'move west', 'move west', 'move west', 'move north', 'put coin in box'], ['813337303240381307', '984550666877189532', '4531889542971284245', '5032618234729585444', '8102669911967814708', '392328492660164889', '3260136875269052257', '1024853022418692492', '2376628918559811838', '1279482158815407438', '6199958224129522607', '8026823959054262553', '7736600214237121562', '1084989808955395410', '2012030204372274026', '697339514615816202', '5627530274520485745', '5104343787523431525', '964188183821244801', '5211633261363764529', '6630643375647096563', '1372133580998842841', '7374954482965657201', '5106533373482565218', '7343046071855768559', '156442284713071850', '1012340304962215441', '3895711067114584026', '5658198186457058250']), ('coin', 'numLocations=5,includeDoors=1,numDistractorItems=0', 0): (['open door to south', 'move west', 'open door to west', 'move east', 'close door to south', 'move west', 'move west', 'move east', 'close door to west', 'move east', 'open door to south', 'open door to north', 'close door to south', 'move north', 'move south', 'close door to north', 'move west', 'open door to west', 'move east', 'open door to south', 'take coin'], ['2516563796218684120', '8133330971896228949', '980570304238816303', '3249236291588214468', '7983908315928633880', '4083270600541282711', '8963077705180948582', '7123656960488073237', '1925798102159466931', '4450224214104333543', '2920429755680644978', '1117871110061422378', '2677137629335140214', '7752380341698033827', '8770046077523733860', '545289667275045926', '6655982133432072625', '8684405367807721330', '1592143919886688756', '8800721083197243480', '8233152276948599743', '6427366040571378623', '485040174777515363', '3816751025289885033', '5552154922870489354', '5095223991365114507']), ('mapreader', 'numLocations=15,maxDistanceApart=8,includeDoors=0,maxDistractorItemsPerLocation=0', 2): (['put map in box', 'move south', 'move west', 'move north', 'move west', 'move north', 'move north', 'move north', 'take coin', 'move south', 'move south', 'move east', 'move south', 'move west', 'move south', 'move east', 'move east', 'move north', 'take map', 'put coin in box'], ['4336818555134761667', '4228019823934409412', '8485360204276360003', '2532604792774809551', '5771145980441147872', '2108757182704501619', '3599435492528322901', '506251069488926228', '3083779422476788176', '1899026321396986243', '4347517483631921496', '7210161322851315558', '3772693459634179403', '747523245906190118', '5873078128060380250', '2376090714798431788', '2009954841543512983', '1953212122125614631', '1922347164326440945', '8470191683047078064', '8433782931553256244', '2421166442468839951', '9039744023198510883', '3600901239272970211', '2167953107863207304', '2947131244389951305', '8432122457692616202', '3187880993262158624', '967077954657793458', '743955393911728902', '6150087212950006764', '3181562086360125232', '1292483568362617060', '5340284615370002572', '74412142839715489', '2237682344006532137', '7138091367188865048']), ('mapreader', 'numLocations=11,maxDistanceApart=5,includeDoors=0,maxDistractorItemsPerLocation=0', 0): (['put map in box', 'move north', 'move east', 'move north', 'move east', 'take coin', 'move west', 'move south', 'move west', 'move south', 'put coin in box'], ['219835089746634443', '5517060085829861882', '1438904299906728031', '2195340934917942193', '9082955272841211563', '8656714633969279235', '8526144863250170231', '8614677683673505960', '6821676220897427723', '9043492700548742541', '4251561956824263826', '8846129839161144991', '340768920267239449', '4332408267091441723', '6659556477628391932']), ('coin', 'numLocations=10,includeDoors=1,numDistractorItems=0', 4): (['open door to east', 'open door to west', 'take coin'], ['7849996161579834707', '4509052392393140066', '1611621057412890540', '3580493117711845351']), ('coin', 'numLocations=5,includeDoors=1,numDistractorItems=0', 1): (['open door to west', 'open door to south', 'close door to west', 'move south', 'move north', 'open door to west', 'close door to south', 'move west', 'close door to east', 'open door to north', 'move north', 'close door to south', 'open door to north', 'move north', 'move south', 'open door to south', 'close door to north', 'move south', 'open door to east', 'move east', 'close door to west', 'open door to south', 'open door to west', 'move west', 'close door to east', 'take coin'], ['6352938106525118035', '8851333981317347691', '164215212231478506', '7938545241281982424', '8157856988320670470', '5389839544370146895', '113880296713578619', '7078283936904364834', '7329236703101074720', '7840366121632848776', '8150076366309729669', '1735475464157150267', '4892531284877061233', '3609671248114085467', '2283814356552308892', '6781125756537994120', '3951321217842606414', '6851496181058174427', '7140936819516099107', '2091434847216547580', '3447556117120536113', '1580649781217725284', '4564327334273947663', '5998394829157766748', '5481645546130699923', '333490221292675060', '6079269682690095184', '1623413999078439006', '4217935318454807278', '3702100157088919089', '3561220887727964373', '6453333275557215365']), ('coin', 'numLocations=10,includeDoors=1,numDistractorItems=0', 2): (['move north', 'open door to west', 'move west', 'take coin'], ['5518979813860774570', '6220905860443164791', '718602374896348491', '4324223770852947421', '4357946120957470095']), ('coin', 'numLocations=6,includeDoors=1,numDistractorItems=0', 2): (['open door to west', 'move south', 'open door to west', 'move west', 'move east', 'open door to east', 'move north', 'close door to west', 'move east', 'open door to south', 'move south', 'take coin'], ['6233306173979075986', '4582279808949384915', '2202969582866211253', '3109095658215166547', '1309847154066831172', '2776827730769445620', '9115984389012320412', '8657776161387303120', '1141684258706979480', '7741356493555517856', '2586455636535920941', '8072661938886206770', '5077128907292290076']), ('mapreader', 'numLocations=15,maxDistanceApart=8,includeDoors=0,maxDistractorItemsPerLocation=0', 0): (['move west', 'move west', 'move north', 'move north', 'move east', 'move north', 'move east', 'move south', 'take coin', 'move north', 'move west', 'move south', 'move west', 'move south', 'move south', 'move east', 'move east', 'put map in box', 'take map', 'put coin in box'], ['5531682685053666772', '6959428464350837320', '6483679311820752077', '7754264786595801844', '969485290116062231', '4919522715521005576', '7663234041388187815', '2100199345062843126', '318445655029253810', '6635741583688590813', '6026785637580717459', '2799473071577967979', '6366289320075234603', '1930847835076031571', '5940058619557557980', '5656866039447331322', '6407391791826950527', '2105110619969695918', '3768570332332225350', '970918309846500825', '3235070950422682685', '2615440711137166363', '8012311200898076027', '5436910705743038010', '5231628339986143682', '5350574808542846914', '9004503552217107212', '8821655897327102970', '8311329349829630052', '3769752764058931707', '4049779216197382320', '7867861784900442797', '5975810540870513379', '7664203246607024273', '885141646392504056', '7864680120686473420', '6303991051341468917', '2348189431519113425', '827927684808600648', '3969999098434308214', '7833968614504281624', '911634385752118147']), ('coin', 'numLocations=7,includeDoors=1,numDistractorItems=0', 3): (['open door to west', 'open door to east', 'close door to west', 'move east', 'take coin'], ['7106552524351651316', '8969253101153659873', '8724161856204698394', '1445226758200096324', '8175254086992094860', '5404887995195605648']), ('mapreader', 'numLocations=11,maxDistanceApart=5,includeDoors=0,maxDistractorItemsPerLocation=0', 1): (['put map in box', 'move south', 'move east', 'move north', 'move north', 'take coin', 'move south', 'move east', 'move south', 'move west', 'move west', 'move north', 'put coin in box'], ['3650943832602972514', '61233055463333064', '2391029394694213995', '5594035162934782007', '7203864386277642028', '6290733456458148785', '4727373302907562591', '6203804937177222683', '8408497124764085484', '80973395005310866', '151658521939631722', '6578809239208793413', '4875378159852775515', '1799564689050669230', '7406911629083464131', '5749796608237222669', '3005764361332488848', '3298244697333463544', '7631480467593353102', '8515956654747878962']), ('coin', 'numLocations=7,includeDoors=1,numDistractorItems=0', 2): (['move south', 'open door to south', 'move south', 'move north', 'close door to south', 'move north', 'open door to west', 'move west', 'move east', 'open door to north', 'move east', 'open door to north', 'move west', 'close door to west', 'move south', 'open door to south', 'move north', 'open door to west', 'close door to north', 'move south', 'close door to south', 'move north', 'close door to west', 'move south', 'open door to south', 'move north', 'move east', 'close door to north', 'move west', 'open door to west', 'move east', 'open door to north', 'move north', 'move south', 'move west', 'close door to west', 'open door to north', 'move north', 'move south', 'open door to west', 'move south', 'close door to south', 'move north', 'close door to north', 'move south', 'open door to south', 'move north', 'close door to west', 'move east', 'move north', 'close door to south', 'take coin'], ['2225678218029153256', '4706150103867130684', '3646638876901803251', '1178063597293407308', '1864030864738092063', '8871284407339101516', '6290309872087797619', '8469190502737947743', '2104342891605555706', '7552683335577817226', '1281203057219804887', '6552946154172906177', '4729914873602846294', '6349809996542284705', '4695736362576693081', '5148926115247894273', '3061457313010419594', '4304364067320167453', '1804606779407353578', '261015573775516632', '4193081405216567977', '9060987022919520536', '4650667561888469133', '7250763521984482302', '1931778497040680147', '4160198408526775860', '1468249233911353772', '2244267321634496614', '5237640856615850978', '9098842592410414986', '424180859513833373', '4052191059652869754', '1709603240125410059', '8173706963906546003', '1973301153249700395', '6863438893373015515', '2905406924929283645', '80102621246374723', '4282620917189744925', '3461095179211231004', '7453281445131853574', '6400787755715367569', '6456570095089941492', '5280388287194113562', '817043003603617161', '2767056256023918230', '7261353200719836785', '3411864036920661450', '1785231981239268519', '6936475360319641305', '6583852293549622546', '6733669068560336719', '8805805840063387371', '123130894241479709', '696021253334687531', '7798525528124833397', '5260373678246014603', '446069708148762319', '3438713713160847129', '5858859917628657093', '7342499314332090149', '7606403000460208266', '8441425137150362202', '8082350174401240677', '1011606662513311045', '2591268864060935996', '5575909298120556642', '4297405376927590763', '8172591172395939037', '7858737259795901795', '6551044093642921748', '240759361051750943', '6823457028047902525', '8751998517819606609', '7002029837022606377', '6233075840628928926']), ('mapreader', 'numLocations=8,maxDistanceApart=4,includeDoors=0,maxDistractorItemsPerLocation=0', 0): (['move north', 'move north', 'take coin', 'move south', 'move south', 'put map in box', 'put coin in box'], ['4774940442955690918', '7360902161492913835', '7200757642248625825', '2925441830628233707', '607007825263988506', '7380655735631143635', '3842637338390189039', '283321435416122077', '6965628449335386299', '9104625842329046643', '1385787190637793400', '1369027890086925956', '3368546518253677987']), ('mapreader', 'numLocations=8,maxDistanceApart=4,includeDoors=0,maxDistractorItemsPerLocation=0', 1): (['move north', 'move north', 'take coin', 'move south', 'move south', 'put coin in box'], ['5895453716093822067', '2300390463139896192', '4575264358263059106', '2654479043766249433', '7955857781098764885', '3520443083568273438', '9035004766647782051', '2818137547002506350', '8562346048110907381', '5265468972362413253', '698743883379138719']), ('coin', 'numLocations=6,includeDoors=1,numDistractorItems=0', 4): (['move west', 'open door to west', 'move west', 'move east', 'close door to west', 'move east', 'open door to east', 'move east', 'move west', 'move west', 'open door to west', 'move east', 'close door to east', 'move west', 'move west', 'close door to east', 'open door to south', 'move south', 'close door to north', 'take coin'], ['4873396383995197142', '5437145438912035131', '8468314687648812529', '2549093054019995191', '7712193849983072524', '2536211288397437433', '5076055029651545842', '8636986141711860035', '5147122155218275093', '7473396727159484386', '5488473673741166549', '5598137737641270894', '5978650820519244428', '4036266099212364484', '3520048278819225928', '1563162364574651636', '7906336961559608891', '7916247461916876749', '5874380499501738740', '4249627454250543069', '7903648252010085583', '7839932803816291190', '5694225012063473717']), ('mapreader', 'numLocations=5,maxDistanceApart=3,includeDoors=0,maxDistractorItemsPerLocation=0', 0): (['move west', 'move north', 'take coin', 'move south', 'move east', 'put map in box', 'take map', 'put coin in box'], ['8124098398288934599', '6760946725013381291', '6192086958075453998', '296483452017820127', '1446904190557143923', '4878597192573963320', '3993110345962715057', '5053263717686584828', '1626198231316360355', '1481155452609740949', '7817289426439414607', '6009422220421610623']), ('mapreader', 'numLocations=5,maxDistanceApart=3,includeDoors=0,maxDistractorItemsPerLocation=0', 1): (['move west', 'take coin', 'move east', 'put coin in box'], ['7311549184039489284', '3263246152073513619', '9081151164032257644', '4354383365104397559', '6831875721688174626', '3923815140881465669', '7301579144284342510', '4822647157043620344']), ('coin', 'numLocations=6,includeDoors=1,numDistractorItems=0', 0): (['move east', 'open door to north', 'move west', 'open door to north', 'open door to south', 'close door to north', 'move east', 'move north', 'close door to south', 'take coin'], ['8183245525925622429', '9116191371925328105', '1353989425094889894', '1756350467653046980', '5643696992648598910', '6802381039441606409', '111727931834126643', '325534045349418603', '2721453173403460186', '905334268114710452', '4375049857362498870', '9035151974182196646']), ('coin', 'numLocations=10,includeDoors=1,numDistractorItems=0', 0): (['move west', 'open door to north', 'open door to south', 'move west', 'move south', 'move east', 'close door to north', 'open door to south', 'move west', 'move north', 'move east', 'open door to south', 'close door to north', 'move west', 'move south', 'move east', 'close door to south', 'move west', 'move north', 'move east', 'move east', 'open door to east', 'move west', 'move west', 'move south', 'move east', 'close door to north', 'open door to south', 'move south', 'move north', 'open door to north', 'close door to south', 'move north', 'open door to north', 'move south', 'open door to south', 'move west', 'move north', 'move east', 'close door to north', 'move east', 'open door to south', 'open door to north', 'move south', 'move north', 'take coin'], ['785045710384757583', '7712087536214456823', '6092124505324886442', '6263190423250017490', '5978044322030367439', '1969758558225960273', '6244240672755698632', '2283843944142084080', '1490241038856015290', '3693261163811765677', '6045919246084729838', '1621292188293735266', '5933940870466734728', '2305504411882846342', '3046087473139674950', '2498499538812713118', '5893739511498573798', '4817750607598858309', '5395057983280249888', '1635659287889753050', '9083159465653739037', '2037357510495421520', '2350703028989746815', '1082691003525562720', '1152129290756415298', '3284287353786838917', '511960801990812166', '2656729171208310713', '3230160302693774390', '6985294647433597880', '1106519854345675342', '9175529880104194803', '1614889008638389111', '1084190197813747668', '8466519792790899487', '1835180144533045522', '3171868463102838326', '7729955504249534643', '1267206957067630606', '5015571777591371646', '1912481410190660858', '463551194526520600', '5715000472285749191', '2453396561896784495', '3187284276759086880', '5281018142511391981', '6574084258230316531', '4684552898754137771', '7338601201169509742', '4628859658858392712']), ('mapreader', 'numLocations=8,maxDistanceApart=4,includeDoors=0,maxDistractorItemsPerLocation=0', 2): (['put map in box', 'move east', 'move south', 'take coin', 'move north', 'move west', 'take map', 'put coin in box'], ['2101525717849924827', '7964666370897455317', '8827690401924576386', '4396312024607681016', '778232761718093071', '7186340297217174516', '5334436551702741891', '8714082983580577165', '5779509980652830157', '7753943538018178002', '5053576855114635379', '198021161797556127', '2293002559795552131', '1358125965252101180', '5768372333123251736', '262731433900420506', '6307563651494234484', '7004001674575406030', '3115204180319395792', '3462550955789114633', '3812388707258023870', '5871231518184718645'])}\n"
          ]
        }
      ],
      "source": [
        "results = run_all(dfs)\n",
        "print(results)"
      ]
    },
    {
      "cell_type": "markdown",
      "metadata": {
        "id": "j3pq6JyneRrX"
      },
      "source": [
        "## A* Testing"
      ]
    },
    {
      "cell_type": "markdown",
      "metadata": {
        "id": "AIopmgQx9Gw-"
      },
      "source": [
        "Run A* on all environments."
      ]
    },
    {
      "cell_type": "code",
      "execution_count": 44,
      "metadata": {
        "colab": {
          "base_uri": "https://localhost:8080/"
        },
        "collapsed": true,
        "id": "FdE5BOv8eV5n",
        "outputId": "5e506fd4-8af4-4d63-8766-2d6f3246fdb1",
        "tags": [
          "active-ipynb"
        ]
      },
      "outputs": [
        {
          "name": "stdout",
          "output_type": "stream",
          "text": [
            "mapreader numLocations=11,maxDistanceApart=5,includeDoors=0,maxDistractorItemsPerLocation=0 2\n",
            "============ type= mapreader params= numLocations=11,maxDistanceApart=5,includeDoors=0,maxDistractorItemsPerLocation=0 seed= 2 ============\n",
            "2 mapreader numLocations=11,maxDistanceApart=5,includeDoors=0,maxDistractorItemsPerLocation=0\n",
            "mapreader numLocations=15,maxDistanceApart=8,includeDoors=0,maxDistractorItemsPerLocation=0 4\n",
            "============ type= mapreader params= numLocations=15,maxDistanceApart=8,includeDoors=0,maxDistractorItemsPerLocation=0 seed= 4 ============\n",
            "4 mapreader numLocations=15,maxDistanceApart=8,includeDoors=0,maxDistractorItemsPerLocation=0\n",
            "coin numLocations=7,includeDoors=1,numDistractorItems=0 0\n",
            "============ type= coin params= numLocations=7,includeDoors=1,numDistractorItems=0 seed= 0 ============\n",
            "0 coin numLocations=7,includeDoors=1,numDistractorItems=0\n",
            "mapreader numLocations=5,maxDistanceApart=3,includeDoors=0,maxDistractorItemsPerLocation=0 4\n",
            "============ type= mapreader params= numLocations=5,maxDistanceApart=3,includeDoors=0,maxDistractorItemsPerLocation=0 seed= 4 ============\n",
            "4 mapreader numLocations=5,maxDistanceApart=3,includeDoors=0,maxDistractorItemsPerLocation=0\n",
            "coin numLocations=5,includeDoors=1,numDistractorItems=0 2\n",
            "============ type= coin params= numLocations=5,includeDoors=1,numDistractorItems=0 seed= 2 ============\n",
            "2 coin numLocations=5,includeDoors=1,numDistractorItems=0\n",
            "coin numLocations=10,includeDoors=1,numDistractorItems=0 1\n",
            "============ type= coin params= numLocations=10,includeDoors=1,numDistractorItems=0 seed= 1 ============\n",
            "1 coin numLocations=10,includeDoors=1,numDistractorItems=0\n",
            "coin numLocations=6,includeDoors=1,numDistractorItems=0 3\n",
            "============ type= coin params= numLocations=6,includeDoors=1,numDistractorItems=0 seed= 3 ============\n",
            "3 coin numLocations=6,includeDoors=1,numDistractorItems=0\n",
            "mapreader numLocations=15,maxDistanceApart=8,includeDoors=0,maxDistractorItemsPerLocation=0 3\n",
            "============ type= mapreader params= numLocations=15,maxDistanceApart=8,includeDoors=0,maxDistractorItemsPerLocation=0 seed= 3 ============\n",
            "3 mapreader numLocations=15,maxDistanceApart=8,includeDoors=0,maxDistractorItemsPerLocation=0\n",
            "mapreader numLocations=5,maxDistanceApart=3,includeDoors=0,maxDistractorItemsPerLocation=0 3\n",
            "============ type= mapreader params= numLocations=5,maxDistanceApart=3,includeDoors=0,maxDistractorItemsPerLocation=0 seed= 3 ============\n",
            "3 mapreader numLocations=5,maxDistanceApart=3,includeDoors=0,maxDistractorItemsPerLocation=0\n",
            "coin numLocations=10,includeDoors=1,numDistractorItems=0 3\n",
            "============ type= coin params= numLocations=10,includeDoors=1,numDistractorItems=0 seed= 3 ============\n",
            "3 coin numLocations=10,includeDoors=1,numDistractorItems=0\n",
            "mapreader numLocations=8,maxDistanceApart=4,includeDoors=0,maxDistractorItemsPerLocation=0 4\n",
            "============ type= mapreader params= numLocations=8,maxDistanceApart=4,includeDoors=0,maxDistractorItemsPerLocation=0 seed= 4 ============\n",
            "4 mapreader numLocations=8,maxDistanceApart=4,includeDoors=0,maxDistractorItemsPerLocation=0\n",
            "coin numLocations=7,includeDoors=1,numDistractorItems=0 1\n",
            "============ type= coin params= numLocations=7,includeDoors=1,numDistractorItems=0 seed= 1 ============\n",
            "1 coin numLocations=7,includeDoors=1,numDistractorItems=0\n",
            "mapreader numLocations=11,maxDistanceApart=5,includeDoors=0,maxDistractorItemsPerLocation=0 3\n",
            "============ type= mapreader params= numLocations=11,maxDistanceApart=5,includeDoors=0,maxDistractorItemsPerLocation=0 seed= 3 ============\n",
            "3 mapreader numLocations=11,maxDistanceApart=5,includeDoors=0,maxDistractorItemsPerLocation=0\n",
            "coin numLocations=5,includeDoors=1,numDistractorItems=0 3\n",
            "============ type= coin params= numLocations=5,includeDoors=1,numDistractorItems=0 seed= 3 ============\n",
            "3 coin numLocations=5,includeDoors=1,numDistractorItems=0\n",
            "mapreader numLocations=5,maxDistanceApart=3,includeDoors=0,maxDistractorItemsPerLocation=0 2\n",
            "============ type= mapreader params= numLocations=5,maxDistanceApart=3,includeDoors=0,maxDistractorItemsPerLocation=0 seed= 2 ============\n",
            "2 mapreader numLocations=5,maxDistanceApart=3,includeDoors=0,maxDistractorItemsPerLocation=0\n",
            "coin numLocations=5,includeDoors=1,numDistractorItems=0 4\n",
            "============ type= coin params= numLocations=5,includeDoors=1,numDistractorItems=0 seed= 4 ============\n",
            "4 coin numLocations=5,includeDoors=1,numDistractorItems=0\n",
            "coin numLocations=7,includeDoors=1,numDistractorItems=0 4\n",
            "============ type= coin params= numLocations=7,includeDoors=1,numDistractorItems=0 seed= 4 ============\n",
            "4 coin numLocations=7,includeDoors=1,numDistractorItems=0\n",
            "coin numLocations=6,includeDoors=1,numDistractorItems=0 1\n",
            "============ type= coin params= numLocations=6,includeDoors=1,numDistractorItems=0 seed= 1 ============\n",
            "1 coin numLocations=6,includeDoors=1,numDistractorItems=0\n",
            "mapreader numLocations=8,maxDistanceApart=4,includeDoors=0,maxDistractorItemsPerLocation=0 3\n",
            "============ type= mapreader params= numLocations=8,maxDistanceApart=4,includeDoors=0,maxDistractorItemsPerLocation=0 seed= 3 ============\n",
            "3 mapreader numLocations=8,maxDistanceApart=4,includeDoors=0,maxDistractorItemsPerLocation=0\n",
            "mapreader numLocations=11,maxDistanceApart=5,includeDoors=0,maxDistractorItemsPerLocation=0 4\n",
            "============ type= mapreader params= numLocations=11,maxDistanceApart=5,includeDoors=0,maxDistractorItemsPerLocation=0 seed= 4 ============\n",
            "4 mapreader numLocations=11,maxDistanceApart=5,includeDoors=0,maxDistractorItemsPerLocation=0\n",
            "mapreader numLocations=15,maxDistanceApart=8,includeDoors=0,maxDistractorItemsPerLocation=0 1\n",
            "============ type= mapreader params= numLocations=15,maxDistanceApart=8,includeDoors=0,maxDistractorItemsPerLocation=0 seed= 1 ============\n",
            "1 mapreader numLocations=15,maxDistanceApart=8,includeDoors=0,maxDistractorItemsPerLocation=0\n",
            "coin numLocations=5,includeDoors=1,numDistractorItems=0 0\n",
            "============ type= coin params= numLocations=5,includeDoors=1,numDistractorItems=0 seed= 0 ============\n",
            "0 coin numLocations=5,includeDoors=1,numDistractorItems=0\n",
            "mapreader numLocations=15,maxDistanceApart=8,includeDoors=0,maxDistractorItemsPerLocation=0 2\n",
            "============ type= mapreader params= numLocations=15,maxDistanceApart=8,includeDoors=0,maxDistractorItemsPerLocation=0 seed= 2 ============\n",
            "2 mapreader numLocations=15,maxDistanceApart=8,includeDoors=0,maxDistractorItemsPerLocation=0\n",
            "mapreader numLocations=11,maxDistanceApart=5,includeDoors=0,maxDistractorItemsPerLocation=0 0\n",
            "============ type= mapreader params= numLocations=11,maxDistanceApart=5,includeDoors=0,maxDistractorItemsPerLocation=0 seed= 0 ============\n",
            "0 mapreader numLocations=11,maxDistanceApart=5,includeDoors=0,maxDistractorItemsPerLocation=0\n",
            "coin numLocations=10,includeDoors=1,numDistractorItems=0 4\n",
            "============ type= coin params= numLocations=10,includeDoors=1,numDistractorItems=0 seed= 4 ============\n",
            "4 coin numLocations=10,includeDoors=1,numDistractorItems=0\n",
            "coin numLocations=5,includeDoors=1,numDistractorItems=0 1\n",
            "============ type= coin params= numLocations=5,includeDoors=1,numDistractorItems=0 seed= 1 ============\n",
            "1 coin numLocations=5,includeDoors=1,numDistractorItems=0\n",
            "coin numLocations=10,includeDoors=1,numDistractorItems=0 2\n",
            "============ type= coin params= numLocations=10,includeDoors=1,numDistractorItems=0 seed= 2 ============\n",
            "2 coin numLocations=10,includeDoors=1,numDistractorItems=0\n",
            "coin numLocations=6,includeDoors=1,numDistractorItems=0 2\n",
            "============ type= coin params= numLocations=6,includeDoors=1,numDistractorItems=0 seed= 2 ============\n",
            "2 coin numLocations=6,includeDoors=1,numDistractorItems=0\n",
            "mapreader numLocations=15,maxDistanceApart=8,includeDoors=0,maxDistractorItemsPerLocation=0 0\n",
            "============ type= mapreader params= numLocations=15,maxDistanceApart=8,includeDoors=0,maxDistractorItemsPerLocation=0 seed= 0 ============\n",
            "0 mapreader numLocations=15,maxDistanceApart=8,includeDoors=0,maxDistractorItemsPerLocation=0\n",
            "coin numLocations=7,includeDoors=1,numDistractorItems=0 3\n",
            "============ type= coin params= numLocations=7,includeDoors=1,numDistractorItems=0 seed= 3 ============\n",
            "3 coin numLocations=7,includeDoors=1,numDistractorItems=0\n",
            "mapreader numLocations=11,maxDistanceApart=5,includeDoors=0,maxDistractorItemsPerLocation=0 1\n",
            "============ type= mapreader params= numLocations=11,maxDistanceApart=5,includeDoors=0,maxDistractorItemsPerLocation=0 seed= 1 ============\n",
            "1 mapreader numLocations=11,maxDistanceApart=5,includeDoors=0,maxDistractorItemsPerLocation=0\n",
            "coin numLocations=7,includeDoors=1,numDistractorItems=0 2\n",
            "============ type= coin params= numLocations=7,includeDoors=1,numDistractorItems=0 seed= 2 ============\n",
            "2 coin numLocations=7,includeDoors=1,numDistractorItems=0\n",
            "mapreader numLocations=8,maxDistanceApart=4,includeDoors=0,maxDistractorItemsPerLocation=0 0\n",
            "============ type= mapreader params= numLocations=8,maxDistanceApart=4,includeDoors=0,maxDistractorItemsPerLocation=0 seed= 0 ============\n",
            "0 mapreader numLocations=8,maxDistanceApart=4,includeDoors=0,maxDistractorItemsPerLocation=0\n",
            "mapreader numLocations=8,maxDistanceApart=4,includeDoors=0,maxDistractorItemsPerLocation=0 1\n",
            "============ type= mapreader params= numLocations=8,maxDistanceApart=4,includeDoors=0,maxDistractorItemsPerLocation=0 seed= 1 ============\n",
            "1 mapreader numLocations=8,maxDistanceApart=4,includeDoors=0,maxDistractorItemsPerLocation=0\n",
            "coin numLocations=6,includeDoors=1,numDistractorItems=0 4\n",
            "============ type= coin params= numLocations=6,includeDoors=1,numDistractorItems=0 seed= 4 ============\n",
            "4 coin numLocations=6,includeDoors=1,numDistractorItems=0\n",
            "mapreader numLocations=5,maxDistanceApart=3,includeDoors=0,maxDistractorItemsPerLocation=0 0\n",
            "============ type= mapreader params= numLocations=5,maxDistanceApart=3,includeDoors=0,maxDistractorItemsPerLocation=0 seed= 0 ============\n",
            "0 mapreader numLocations=5,maxDistanceApart=3,includeDoors=0,maxDistractorItemsPerLocation=0\n",
            "mapreader numLocations=5,maxDistanceApart=3,includeDoors=0,maxDistractorItemsPerLocation=0 1\n",
            "============ type= mapreader params= numLocations=5,maxDistanceApart=3,includeDoors=0,maxDistractorItemsPerLocation=0 seed= 1 ============\n",
            "1 mapreader numLocations=5,maxDistanceApart=3,includeDoors=0,maxDistractorItemsPerLocation=0\n",
            "coin numLocations=6,includeDoors=1,numDistractorItems=0 0\n",
            "============ type= coin params= numLocations=6,includeDoors=1,numDistractorItems=0 seed= 0 ============\n",
            "0 coin numLocations=6,includeDoors=1,numDistractorItems=0\n",
            "coin numLocations=10,includeDoors=1,numDistractorItems=0 0\n",
            "============ type= coin params= numLocations=10,includeDoors=1,numDistractorItems=0 seed= 0 ============\n",
            "0 coin numLocations=10,includeDoors=1,numDistractorItems=0\n",
            "mapreader numLocations=8,maxDistanceApart=4,includeDoors=0,maxDistractorItemsPerLocation=0 2\n",
            "============ type= mapreader params= numLocations=8,maxDistanceApart=4,includeDoors=0,maxDistractorItemsPerLocation=0 seed= 2 ============\n",
            "2 mapreader numLocations=8,maxDistanceApart=4,includeDoors=0,maxDistractorItemsPerLocation=0\n",
            "{('mapreader', 'numLocations=11,maxDistanceApart=5,includeDoors=0,maxDistractorItemsPerLocation=0', 2): (['move east', 'move south', 'move south', 'take coin', 'move north', 'move west', 'move north', 'put coin in box'], ['3080162405753612889', '4199945302276327791', '8815698033526728240', '8944276451899154363', '4545176357165620465', '4300105984501397184', '389052852463852503', '4352884037465458480', '1311656654505829891', '6081428046832638433', '9047387626297389087', '397013811736838788', '6736409126139167182', '4248676320339974991', '4974192004597171248', '5246161896569605335', '9213253075563858741', '3468692893596660256', '6803683381006669277', '3834878996531835497', '3781535739787571704', '7810418987331473006', '3442478404124674415']), ('mapreader', 'numLocations=15,maxDistanceApart=8,includeDoors=0,maxDistractorItemsPerLocation=0', 4): (['move east', 'move south', 'move south', 'move east', 'move north', 'take coin', 'move south', 'move west', 'move north', 'move north', 'move west', 'put coin in box'], ['724378826266626036', '6856456369213731256', '7972033225250125593', '7323819885775313674', '7261886855694551382', '4989722234117314404', '466727898263273931', '7441703231789286571', '4163436161962793065', '2654533668341930498', '1148647797638790130', '471876025454286631', '3779348778442429296', '5676606589825466905', '1172242707236816796', '6754847983108028979', '5100588855646476283', '7300224367469049877', '5063058690347100843', '8288766822345817477', '1751260711578635872', '2215441480664390900', '5149984107900725349', '3039263945108625973', '98885246951250226', '2923765910546253144', '3718248393255533594', '461178011940225456', '3340740045828977535', '2585240025716309308', '2851954529596257534', '6461047267236439305', '82324354854951090', '2668857468961209015', '7509221620059763333', '6304452558307241622', '4919467989520119505', '4800538423481141949', '1459559310773271004', '6760843862136544948', '5588786951047506536']), ('coin', 'numLocations=7,includeDoors=1,numDistractorItems=0', 0): (['move west', 'open door to south', 'move south', 'open door to west', 'move west', 'take coin'], ['3112217447538956524', '3774831364581040199', '6001619770454696704', '6121365612638739512', '9106455474260501763', '1361861555394444149', '461418084325942944', '8567348354045412010', '3927072734123608874', '1126404708173809518', '8602907962244206141', '6436371718880574326', '141825006998335780', '241952094040529317', '4116731901736000653', '5892981943936353920', '2710555847679985096', '5060193202145548918', '3879769033981192445', '7181898993808801729', '2681558563869011121', '2394041082637327764', '2175066756037554813', '3398938213665242165', '1003090522012218692', '3130055553989292668', '4708945411411951433', '2478324085405020782', '2469547126558956647', '447653647866717221', '2851380926716753221', '5731734738118298807', '2639963455411308384', '7710491158128592407', '3980874592183052159', '2482055483681868639', '103801395723468924']), ('mapreader', 'numLocations=5,maxDistanceApart=3,includeDoors=0,maxDistractorItemsPerLocation=0', 4): (['move south', 'move east', 'take coin', 'move west', 'move north', 'put coin in box'], ['5534583521146078797', '3401172454744681933', '5599425678773508099', '1253949387433840920', '7393003809811285045', '7394175437046721655', '4941932853623095245', '2965008463764830233', '9038775284765148190', '6182681077981154212', '547014505498516109', '3414087963800175533', '995788656715082651', '3025906588830093420', '3874452917476652184', '4848144088839052674']), ('coin', 'numLocations=5,includeDoors=1,numDistractorItems=0', 2): (['take coin'], ['2260259017518904108', '3663654359325209131', '7725085277310925896']), ('coin', 'numLocations=10,includeDoors=1,numDistractorItems=0', 1): (['open door to west', 'move west', 'move north', 'take coin'], ['3138712906461882352', '4999697483417826871', '141661861404033997', '8658734401061414289', '1424871225918285550']), ('coin', 'numLocations=6,includeDoors=1,numDistractorItems=0', 3): (['move east', 'open door to north', 'move north', 'open door to north', 'move north', 'take coin'], ['1300837490093793978', '5144539962663232660', '1976246772018611576', '3203381135605982730', '4525002418113857874', '4617348404066411374', '7709700675465376526', '4659213290788626565', '5524961797667140739', '1008435392882367244', '2502823067534835164', '8679309400152779216', '6841193285504081342', '4682715151068415563', '5730806173443308148', '4424135198731559968', '7272170711188548971', '6252283301175964504', '1846907985332795066', '8555858929185972275', '1798565223791059415']), ('mapreader', 'numLocations=15,maxDistanceApart=8,includeDoors=0,maxDistractorItemsPerLocation=0', 3): (['move east', 'move east', 'move south', 'move south', 'move south', 'move east', 'move south', 'take coin', 'move north', 'move north', 'move west', 'move north', 'move north', 'move west', 'move west', 'put coin in box'], ['4783772733905471196', '5466589447429297371', '5129669070228814738', '2221226458205759385', '3465713432421798564', '7643410266288259059', '2633286692263361029', '8976788300579920272', '898283986327979646', '2280698665407494440', '9203768191395654316', '3040932474966437350', '2184892914021524301', '259835115148217151', '1628243972488163045', '4911421197733660481', '819663206536857864', '3417976630679560860', '138023732270812317', '4873332534215165801', '1451454898128784696', '5147912130525295984', '4557670489068756535', '8438200732882954433', '4988848441135568186', '7898126990015831593', '7867159334532696320', '1791008117051089708', '6754812126898388634', '627039475406023269', '7436410688974358279', '5383424906529327408', '2691208887885975545', '4951751358524721155', '296398524366795574', '7018777917438471643', '6523186786961344658', '5115276561681210697', '8164898490314869421', '876694328742900894', '4565727666854834044', '6064765903207906065', '5620008032820424041', '1146383608818077983', '1012372654637527184', '5792917843263760746', '403131949952693770', '1975592626355762098', '337556194670370094', '2176647149184150555', '6406204146385845377']), ('mapreader', 'numLocations=5,maxDistanceApart=3,includeDoors=0,maxDistractorItemsPerLocation=0', 3): (['move north', 'move west', 'take coin', 'move east', 'move south', 'put coin in box'], ['3534804650226580036', '2859938741037583739', '6003548262469528704', '3035653154158520626', '353704899677997045', '2903304731066909315', '3942683389636152777', '9204102920221071681', '7724779375227097791', '48801935744853897', '1948860466081925177', '29799242559409425', '1969584766237223774', '4672550783414671508']), ('coin', 'numLocations=10,includeDoors=1,numDistractorItems=0', 3): (['move east', 'open door to south', 'move south', 'take coin'], ['1232912514431698298', '5985989278529498702', '5782871701842007291', '8925781481976834312', '6589059415200283215', '5314269116912899075', '760109494005608227', '509860493748998602', '2029492058130994078', '1610818691976098274', '4101440613668391206']), ('mapreader', 'numLocations=8,maxDistanceApart=4,includeDoors=0,maxDistractorItemsPerLocation=0', 4): (['move north', 'move north', 'take coin', 'move south', 'move south', 'put coin in box'], ['2631070350129869081', '5650315074059384212', '6330437387040063650', '1893975232963349225', '1483336528524158034', '4014523661817372109', '5160652938835295823', '6858049138363930847', '4552572119267923149', '3802542029623454021', '5438387367670309690', '4586351188912673051', '5456278657366317184', '3361930102143876202', '7251979955985071349']), ('coin', 'numLocations=7,includeDoors=1,numDistractorItems=0', 1): (['open door to east', 'move east', 'open door to east', 'move east', 'open door to east', 'move east', 'take coin'], ['3928535332786150034', '3438978774009977482', '5601342691946405069', '5246326761745642856', '4318583922945589268', '9157533317973869840', '2893689730728660022', '8868692312374341039', '2885618597998714372', '115120755453020524', '5616199248753149019', '5782649300899625545', '3518694040298666898', '4206579761007702290', '8534598962957089432', '1816762546687345998', '231718915967809441', '2380469221429172910', '4306240836847670211', '4281824336666906408', '1377595183581225676', '3170212382454994525', '4579624189672637130', '3701546263116358804', '1850524844196231866', '1329123948252730906', '3761237210367001492', '9150871540445843349', '3631252692563110125', '4368015699456407524', '503446277438610380', '2336219411370922783', '6743206781627183605', '7225596402180468199', '5422818429721433310', '1941956715917255235', '340831774502923497', '5375201442390327253', '8850837696236783949', '306541961262919548', '6216695994431316323', '6720114916317139470', '5199206899408824029', '2570152311401827472', '1813977158818292198', '381050666739666712', '1923010794977670161', '786180501610524912', '1495286142372037828', '1519166580878314425', '2880710427969854376', '11553636600017345', '1001170843885313447', '8813239339543446687', '5207048598223200405', '1570284429335067053', '4835387761338355812', '4185322871820505240', '3178369338506012241', '2129405538024455143', '1525455206895247166', '7312181530175649488', '3452283175311814211', '9035377230689064519', '4018514625166792552', '6941220856964643145', '2862158013404893711', '2386706402513999316']), ('mapreader', 'numLocations=11,maxDistanceApart=5,includeDoors=0,maxDistractorItemsPerLocation=0', 3): (['move west', 'move west', 'take coin', 'move east', 'move east', 'put coin in box'], ['4406280868945430732', '32843386248996301', '6760118879401073222', '2807704358314194131', '3458217771120616688', '283258660380061568', '1870450303387860925', '3947951627410761762', '937215495643447085', '5337096801662248204']), ('coin', 'numLocations=5,includeDoors=1,numDistractorItems=0', 3): (['open door to south', 'move south', 'open door to east', 'move east', 'take coin'], ['7170804246628967398', '596888877665257512', '5059793004304373333', '5547838923142795104', '5616303299581023191', '1455680123783426836', '3235702998548932833', '2758784565980051553', '4144218494422858860', '6105920337188136448', '249453566920198257', '3774536010951891995', '5808350833824999155']), ('mapreader', 'numLocations=5,maxDistanceApart=3,includeDoors=0,maxDistractorItemsPerLocation=0', 2): (['move east', 'move south', 'take coin', 'move north', 'move west', 'put coin in box'], ['8167804014757816364', '546264571176620237', '5665000903192909555', '4493673259475312309', '1018122779180782647', '7102825634114360212', '1331031310421356435', '1738025236558332628', '297781355585197295', '2897644906301842216', '6357664941140922543', '7381554576754370092', '2226750544973865832', '1802871359280789253', '6548122274355955329']), ('coin', 'numLocations=5,includeDoors=1,numDistractorItems=0', 4): (['move north', 'open door to west', 'move west', 'take coin'], ['2555304362369424509', '5381024931955750427', '7021784029531834395', '8102675200927611660', '4995704740713739011', '2729656034009382883', '7512399964629160422', '7718222202088541360', '1182215608419487962', '8600120527378475873', '2273015182075548132', '6770356710947880501', '644082825169491516', '5417982985073605877']), ('coin', 'numLocations=7,includeDoors=1,numDistractorItems=0', 4): (['move west', 'open door to west', 'move west', 'take coin'], ['7827583415387306033', '3813541779326046951', '1678164004245657658', '578451030584020353', '3347214727998506316', '503773367884516012', '3602499002863093176', '7046142475583137087', '5413971694013111156']), ('coin', 'numLocations=6,includeDoors=1,numDistractorItems=0', 1): (['open door to west', 'move west', 'take coin'], ['5769927385269808943', '2976290950003757756', '7186671517286270124', '7442023454092564895', '8190727880057998525', '4488270507863952860', '3792376998939647166']), ('mapreader', 'numLocations=8,maxDistanceApart=4,includeDoors=0,maxDistractorItemsPerLocation=0', 3): (['move north', 'take coin', 'move south', 'put coin in box'], ['267503076704330953', '7457909613495750504', '2840585449518846690', '2278313318470398853', '7974385339077285693', '7762456534228870966', '6208734424417356221']), ('mapreader', 'numLocations=11,maxDistanceApart=5,includeDoors=0,maxDistractorItemsPerLocation=0', 4): (['move east', 'move south', 'move east', 'move south', 'move south', 'take coin', 'move north', 'move north', 'move west', 'move north', 'move west', 'put coin in box'], ['2719233484483316656', '3084833071643889290', '2052513965771747406', '8005044229876885329', '1491061355128642261', '6705462352864075113', '8439435076672980817', '7684986089495907371', '3381591282995596934', '450323075260245412', '1585550751401491022', '4561261164594613914', '193687068916193699', '11244925143715833', '1624437210852695917', '6667527464298395836', '5662350710635500702', '5161489413953261453', '7694369149765403622', '3900632170047744556', '5053230632212049343', '8676639811497650040', '2772456629043579036', '2140885345155545255', '1077847098369510204', '1615272188488958286', '2620471461396606496', '6688267249530747625', '6489716551914778826', '4904271190368438992', '1431261542010921820', '2576628823632539510', '2325640757823652968', '8598773568789413275', '3984509253017390596', '7865177601121848379', '2121026828060737944']), ('mapreader', 'numLocations=15,maxDistanceApart=8,includeDoors=0,maxDistractorItemsPerLocation=0', 1): (['move east', 'move north', 'take coin', 'move south', 'move west', 'put coin in box'], ['1388812868198022109', '227631350928480884', '5211633261363764529', '7374954482965657201', '4531889542971284245', '1331321749192377841', '3406275826053135860', '6630643375647096563', '7058326748244673569', '156442284713071850', '6631971008978542677', '7736600214237121562', '7043130109347166183', '1084989808955395410', '3046057235091270410']), ('coin', 'numLocations=5,includeDoors=1,numDistractorItems=0', 0): (['take coin'], ['545289667275045926']), ('mapreader', 'numLocations=15,maxDistanceApart=8,includeDoors=0,maxDistractorItemsPerLocation=0', 2): (['move west', 'move north', 'move west', 'move north', 'move north', 'take coin', 'move south', 'move south', 'move east', 'move south', 'move east', 'put coin in box'], ['4336818555134761667', '5648268116837891174', '2108757182704501619', '2083922395767847378', '4306137285896232287', '4902688818282991222', '3599435492528322901', '506251069488926228', '8783747948189739657', '55653822220690724', '3083779422476788176', '4097019163083972896', '4758408862944528951', '55376750161643867', '8673172123307410235', '3772693459634179403', '56383673268921249', '5039314035607475588', '8470191683047078064', '170731482205687004', '5781954226856138013', '6542928875527416279', '1374641635580237918', '2421166442468839951', '9039744023198510883', '2947131244389951305', '1625098766089363017', '3271177246458484285', '8432122457692616202', '8159898460082418166', '2497383244371494502', '8905109565102489706', '3181562086360125232', '7602818509613682426', '74412142839715489', '1427799094963335066', '2237682344006532137']), ('mapreader', 'numLocations=11,maxDistanceApart=5,includeDoors=0,maxDistractorItemsPerLocation=0', 0): (['move east', 'move north', 'move north', 'move east', 'take coin', 'move west', 'move south', 'move south', 'move west', 'put coin in box'], ['219835089746634443', '1694519766816182526', '4016200452527123198', '3888654777882044373', '4495860564327045436', '1268379969863351204', '7960374798304838594', '340768920267239449', '6357437744623219462', '5517060085829861882', '7172017158380144961', '2195340934917942193', '5132548040533224453', '8203178727293978273', '8614677683673505960', '2499990341869926102', '8846129839161144991', '4332408267091441723', '4562287485207079269', '6659556477628391932', '4540267311066750128', '779680243360067850', '5586722893650462818', '8209794527915757105', '1438904299906728031', '3432065747522509343', '6448532099631836728', '7188218148991069082', '6821676220897427723', '8192118149537121719', '5109044380783059105', '7478374865448865702', '4420742745605769470']), ('coin', 'numLocations=10,includeDoors=1,numDistractorItems=0', 4): (['take coin'], ['7849996161579834707', '7869750847425208646', '1611621057412890540', '2421733031457111612']), ('coin', 'numLocations=5,includeDoors=1,numDistractorItems=0', 1): (['open door to west', 'move west', 'take coin'], ['2091434847216547580', '6663456584361128097', '4217935318454807278', '3447556117120536113']), ('coin', 'numLocations=10,includeDoors=1,numDistractorItems=0', 2): (['move north', 'open door to west', 'move west', 'take coin'], ['503827251304163067', '8775833842263174725', '3968045064662668605', '6220905860443164791', '8199608712654010351', '513566323931324184', '718602374896348491', '4324223770852947421', '4357946120957470095', '273574749909190684']), ('coin', 'numLocations=6,includeDoors=1,numDistractorItems=0', 2): (['move east', 'open door to south', 'move south', 'take coin'], ['4582279808949384915', '5157288636930264176', '1601189108377771012', '8075465150940553355', '1435190397129730664', '8178031179769344560', '8657776161387303120', '7741356493555517856', '7164088525047181058', '1323992827477452784', '7020207181936879237']), ('mapreader', 'numLocations=15,maxDistanceApart=8,includeDoors=0,maxDistractorItemsPerLocation=0', 0): (['move west', 'move north', 'move north', 'move north', 'move east', 'move south', 'take coin', 'move north', 'move west', 'move south', 'move south', 'move south', 'move east', 'put coin in box'], ['5531682685053666772', '6959428464350837320', '9091769264204103872', '4919522715521005576', '6746282317060807488', '2100199345062843126', '969485290116062231', '6635741583688590813', '6026785637580717459', '5940058619557557980', '3384227634304564987', '8818989698493869096', '4880642094611986765', '4872336461641722364', '3768570332332225350', '6407391791826950527', '5163189144959173796', '1405591597718712084', '6484833913706336350', '970918309846500825', '5436910705743038010', '8083284236451662702', '338062295102721536', '3585581491515516552', '2548793306261251137', '1650404820680301993', '4628810214493844140', '5932048649560054330', '5350574808542846914', '4233164816747257698', '9004503552217107212', '2873606760455849980', '7572922898631810749', '3769752764058931707', '1903625876902645885', '2029965441757381458', '7867861784900442797', '8019479815555968910', '7664203246607024273', '885141646392504056', '7864680120686473420', '2348189431519113425', '3969999098434308214', '6736458962769788158', '2438241596318555984', '3536089400867086470', '7418722778426398373', '3832180405475198695', '911634385752118147']), ('coin', 'numLocations=7,includeDoors=1,numDistractorItems=0', 3): (['open door to east', 'move east', 'take coin'], ['2022838762523145353', '3050334498204599317', '8724161856204698394', '1445226758200096324', '8175254086992094860', '5404887995195605648']), ('mapreader', 'numLocations=11,maxDistanceApart=5,includeDoors=0,maxDistractorItemsPerLocation=0', 1): (['move east', 'move north', 'take coin', 'move south', 'move west', 'put coin in box'], ['2861977060295191285', '4058707544537729860', '7203864386277642028', '4727373302907562591', '6203804937177222683', '2316336188605886581', '8408497124764085484', '80973395005310866', '353695269065136310', '240594592337913255', '1201646265740469544', '5968628803059075242', '1799564689050669230', '5749796608237222669', '3005764361332488848', '8802836192546929673', '3298244697333463544', '8006552230434415469', '8515956654747878962', '3682276985952165427']), ('coin', 'numLocations=7,includeDoors=1,numDistractorItems=0', 2): (['move east', 'open door to north', 'move north', 'take coin'], ['5716222819261481133', '1804606779407353578', '5059916096075957520', '4052191059652869754', '8303378810350311228', '163480414086176693', '71890838208733060', '7278230808217429618', '3551692859573628913', '4746623447904923086', '3914578884654144765', '2178311219473899943', '4117549480125792704', '7085556704749116452', '2844223101387191873']), ('mapreader', 'numLocations=8,maxDistanceApart=4,includeDoors=0,maxDistractorItemsPerLocation=0', 0): (['move north', 'move north', 'take coin', 'move south', 'move south', 'put coin in box'], ['4774940442955690918', '7360902161492913835', '607007825263988506', '1797414131082699211', '283321435416122077', '9104625842329046643', '1369027890086925956', '3368546518253677987', '8603829738636046312', '2007833411765958213']), ('mapreader', 'numLocations=8,maxDistanceApart=4,includeDoors=0,maxDistractorItemsPerLocation=0', 1): (['move north', 'move north', 'take coin', 'move south', 'move south', 'put coin in box'], ['2464289901443190902', '1436897636203879172', '2300390463139896192', '9110994589277255069', '2654479043766249433', '8180506144040256219', '1748503148065633658', '7955857781098764885', '5670251730925265497', '3520443083568273438', '9035004766647782051', '8562346048110907381']), ('coin', 'numLocations=6,includeDoors=1,numDistractorItems=0', 4): (['move west', 'open door to west', 'move west', 'open door to south', 'move south', 'take coin'], ['186112279686960842', '5890924025219738075', '4804576066994771532', '4071081947727354209', '8468314687648812529', '2194144512592957192', '2549093054019995191', '5970462329300260098', '3700080675178061037', '5488473673741166549', '4653405148202643623', '1786390974040277498', '6173029464351113031', '5598137737641270894', '2437326007734152922', '6603558457328084647', '6380834638974763747', '8593971765464343125', '8278409773259695467', '2455286158837617889', '2491713173824278159', '8130968129264684525', '7172897285776149034', '6987508529043892155', '6066706871490430232', '4334111391084174884', '3621603020794358191', '4249627454250543069', '8588814965095052850', '3159718884424692154', '7714350827235444571', '257111150184100666']), ('mapreader', 'numLocations=5,maxDistanceApart=3,includeDoors=0,maxDistractorItemsPerLocation=0', 0): (['move west', 'move north', 'take coin', 'move south', 'move east', 'put coin in box'], ['8124098398288934599', '4417321839042803632', '7374777413847616632', '8215171918554460944', '8498134786215554578', '604778734950823965', '4878597192573963320', '3993110345962715057', '3617056796340325798', '7019181788849222169', '4704679516445111157', '1626198231316360355', '1481155452609740949', '6009422220421610623']), ('mapreader', 'numLocations=5,maxDistanceApart=3,includeDoors=0,maxDistractorItemsPerLocation=0', 1): (['move west', 'take coin', 'move east', 'put coin in box'], ['7311549184039489284', '3263246152073513619', '9081151164032257644', '8981425136003338963', '6831875721688174626', '3923815140881465669', '7515067575976413309']), ('coin', 'numLocations=6,includeDoors=1,numDistractorItems=0', 0): (['move east', 'open door to north', 'move north', 'take coin'], ['7326157470637146059', '1353989425094889894', '1989594934930849599', '6767637264565556661', '1756350467653046980', '4375049857362498870', '1437794958267909866', '1688828931632313966', '111727931834126643', '68338035706658473', '9212662723674412018', '2804036219695271453']), ('coin', 'numLocations=10,includeDoors=1,numDistractorItems=0', 0): (['take coin'], ['3471293822146554141', '511960801990812166']), ('mapreader', 'numLocations=8,maxDistanceApart=4,includeDoors=0,maxDistractorItemsPerLocation=0', 2): (['move east', 'move south', 'take coin', 'move north', 'move west', 'put coin in box'], ['6148708150921045319', '5768372333123251736', '5380323824915413489', '198021161797556127', '1620440061201947695', '2320265917205356562', '677155480681490509', '6572675763189597532', '7186340297217174516', '6240065752985432301', '6183267299150961539', '5306646691483687438', '6879070853676067963', '7964666370897455317', '5053576855114635379', '2293002559795552131', '1358125965252101180', '5779509980652830157'])}\n"
          ]
        }
      ],
      "source": [
        "results = run_all(a_star)\n",
        "print(results)"
      ]
    },
    {
      "cell_type": "markdown",
      "metadata": {
        "id": "JwvC07GOV3b-"
      },
      "source": [
        "## Heuristic Admissibility Check"
      ]
    },
    {
      "cell_type": "markdown",
      "metadata": {
        "id": "Mi7kBmAeWLkQ"
      },
      "source": [
        "The following function evaluates whether your heuristic function is admissible. To do this, you will pass in your heuristic function:\n",
        "```\n",
        "heuristic_admissibility_check(h_func=h_coin, is_goal=is_goal_coin)\n",
        "```\n",
        "\n",
        "The function assumes that your heuristic function takes in a state as an id string (e.g., `'1223459154801407873'`). If this is not the case then use the `key=` parameter to provide a function that maps an id string to your state representation. For example, if you use the state dictionary as your state representation, you would use `key=lambda state: WORLD_STATE_HASH[state]`.\n",
        "\n"
      ]
    },
    {
      "cell_type": "code",
      "execution_count": 45,
      "metadata": {
        "id": "sN8LsfbaPnCf",
        "tags": [
          "active-ipynb"
        ]
      },
      "outputs": [],
      "source": [
        "def heuristic_admissibility_check(h_func, is_goal, key = lambda state: state):\n",
        "  # Get all the goals\n",
        "  goals = list(filter(lambda id: is_goal(key(id)), WORLD_STATE_HASH.keys()))\n",
        "  # Convert the environment state graph to an nx graph\n",
        "  G = nx.DiGraph()\n",
        "  for edge in GRAPH:\n",
        "    G.add_edge(edge[0], edge[1], weight=1)\n",
        "  # Compute distances between all states\n",
        "  dists = nx.floyd_warshall(G, weight=\"weight\")\n",
        "  # Check the heuristic on each state\n",
        "  for id in WORLD_STATE_HASH.keys():\n",
        "    # Get the h value for the state\n",
        "    h_value = h_func(key(id))\n",
        "    # Get the actual distance to the nearest goal\n",
        "    h_star = min(map(lambda g: dists[g][id], goals))\n",
        "    # If the heuristic value is greater than the actual distance, then inadmissible\n",
        "    if h_value > h_star:\n",
        "      print(\"inadmissible\")\n",
        "      print(key(id))\n",
        "      print(h_value, \">\", h_star)\n",
        "      return False\n",
        "  # Passed all tests\n",
        "  print(\"admissible\")\n",
        "  return True"
      ]
    },
    {
      "cell_type": "code",
      "execution_count": 46,
      "metadata": {
        "colab": {
          "base_uri": "https://localhost:8080/"
        },
        "id": "GBJOiziiTJ-s",
        "outputId": "cf588b5c-ab7c-4f45-f796-0fad6f822b63",
        "tags": [
          "active-ipynb"
        ]
      },
      "outputs": [
        {
          "name": "stdout",
          "output_type": "stream",
          "text": [
            "admissible\n"
          ]
        },
        {
          "data": {
            "text/plain": [
              "True"
            ]
          },
          "execution_count": 46,
          "metadata": {},
          "output_type": "execute_result"
        }
      ],
      "source": [
        "heuristic_admissibility_check(h_mapreader, is_goal_mapreader)"
      ]
    },
    {
      "cell_type": "markdown",
      "metadata": {
        "id": "vRtuVAKjs1wR"
      },
      "source": [
        "# Heuristic Consistency Check"
      ]
    },
    {
      "cell_type": "markdown",
      "metadata": {
        "id": "FONQrYdLLtgf"
      },
      "source": [
        "The following function evaluates whether your heuristic function is consistent. To do this, you will pass in your heuristic function:\n",
        "```\n",
        "heuristic_consistency_check(h_coin)\n",
        "```\n",
        "\n",
        "The function assumes that your heuristic function takes in a state as an id string (e.g., `'1223459154801407873'`). If this is not the case then use the `key=` parameter to provide a function that maps an id string to your state representation. For example, if you use the state dictionary as your state representation, you would use `key=lambda state: WORLD_STATE_HASH[state]`."
      ]
    },
    {
      "cell_type": "code",
      "execution_count": 47,
      "metadata": {
        "id": "QIsRzvENKe5K",
        "tags": [
          "active-ipynb"
        ]
      },
      "outputs": [],
      "source": [
        "def heuristic_consistency_check(h_func, key = lambda state: state):\n",
        "  # Conver the environment state graph into an nx graph\n",
        "  G = nx.DiGraph()\n",
        "  for edge in GRAPH:\n",
        "    G.add_edge(edge[0], edge[1], weight=1)\n",
        "  # Get distances between all states\n",
        "  dists = nx.floyd_warshall(G, weight=\"weight\")\n",
        "  # Get all pairs of states\n",
        "  combos = combinations(WORLD_STATE_HASH.keys(), 2)\n",
        "  # Check each pair of states\n",
        "  for id1, id2 in combos:\n",
        "    # if the heuristic of a state is greater than the heuristic of any other state\n",
        "    # plus the distance to that state, then inconsistent\n",
        "    h1 = h_func(key(id1))\n",
        "    h2 = h_func(key(id2))\n",
        "    dist = dists[id1][id2]\n",
        "    if h1 > h2 + dist:\n",
        "      print(\"inconsistent\")\n",
        "      print(\"state:\", key(id1))\n",
        "      print(\"state:\", key(id2))\n",
        "      print(\"h of state 1:\", h1, \"h of state 2:\", h2, \"distance between states:\", dist)\n",
        "      return False\n",
        "  print(\"consistent\")\n",
        "  return True"
      ]
    },
    {
      "cell_type": "code",
      "execution_count": 48,
      "metadata": {
        "colab": {
          "base_uri": "https://localhost:8080/"
        },
        "id": "I1PoRGOQJDVB",
        "outputId": "580d1c64-9294-4699-b826-985e99e8f547",
        "tags": [
          "active-ipynb"
        ]
      },
      "outputs": [
        {
          "name": "stdout",
          "output_type": "stream",
          "text": [
            "consistent\n"
          ]
        }
      ],
      "source": [
        "_ = heuristic_consistency_check(h_mapreader)"
      ]
    },
    {
      "cell_type": "markdown",
      "metadata": {
        "id": "z_r4dx6gdNIh"
      },
      "source": [
        "# Grading"
      ]
    },
    {
      "cell_type": "markdown",
      "metadata": {
        "id": "MrFB5KLUdO71"
      },
      "source": [
        "Grading will consist of testing all 40 downloaded game configurations on BFS, DFS, and A*. We will also test your algorithms on 20 hidden configurations of coin game and map reader game.\n",
        "\n",
        "Your heuristic will be tested for admissibility and consistency.\n",
        "\n",
        "**Grading:**\n",
        "- 1 point for each correct plan in public games configurations, per algorithm (120 points)\n",
        "- 1 point for each correct plan in hidden game configuration, per algorithm (60 points)\n",
        "- 5 points for admissible heuristic for each of the two game types (10 points)\n",
        "- 5 points for admissible heuristic for each of the two game types (10 points)\n",
        "- -0.1 point deduction for each 10% difference between the number of visited states and the expected number of visited states\n",
        "\n",
        "Maximum total points: 200\n",
        "\n",
        "Grading will be conducted by visual inspection of cell outputs under the \"Testing Suite\" heading. We will compare your plans and number of visited states to our rubric. We will add cells to your notebook at grading time to load and test our hidden world configuration files.\n",
        "\n",
        "We will visually inspect the entire notebook to check if your algorithm implementations include details that are inconsistent with the assignment (e.g., hard-coding values or actions to pass tests) and to make sure no cells were altered to provide unearned grading results."
      ]
    },
    {
      "cell_type": "markdown",
      "metadata": {
        "id": "rpRa0E6ogYL6"
      },
      "source": [
        "# Submission Instructions"
      ]
    },
    {
      "cell_type": "markdown",
      "metadata": {
        "id": "_JgYFNFdgal8"
      },
      "source": [
        "Upload this notebook with the name `submission.ipynb` file to Gradescope. The autograder will only run successfully if your file is named this way. You must ensure that you have removed all print statements from **your** code, or the autograder may fail to run.\n",
        "\n",
        "We've added appropriate tags to the metadata for certain cells for the autograder to ignore. You do NOT have to do anything (e.g. remove print statements) to cells we have provided - anything related to those have been handled for you. You are responsible for ensuring your own code has no syntax errors or unnecessary print statements. You CANNOT modify the metadata of this notebook, or the autograder will fail to run on your submission.\n",
        "\n",
        "If you identify an issue with the autograder, please feel free to reach out to us on Ed Discussion, or email rsudhakar9@gatech.edu, with a subject line including \"CS 3600\"."
      ]
    }
  ],
  "metadata": {
    "colab": {
      "collapsed_sections": [
        "aG_y6anfARuO",
        "RacIrTTCFmLJ",
        "nz8w9KV0FtMX",
        "j-1eh2TASPcF",
        "f9ygr0oleIfc",
        "j3pq6JyneRrX",
        "JwvC07GOV3b-"
      ],
      "provenance": []
    },
    "kernelspec": {
      "display_name": "Python 3",
      "name": "python3"
    },
    "language_info": {
      "name": "python"
    }
  },
  "nbformat": 4,
  "nbformat_minor": 0
}
