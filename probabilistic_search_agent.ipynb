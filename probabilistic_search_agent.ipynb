{
  "cells": [
    {
      "cell_type": "markdown",
      "metadata": {
        "id": "gKTBPBJy-MIp"
      },
      "source": [
        "# Instructions\n",
        "\n",
        "*Text Adventure Games* are games in which the player interacts with a rich world only through text. Text adventure games predate computers with graphics. However, in many ways they are more complex than conventional video games because they can involve complicated interactions (e.g., \"build a rope bridge\") that require a fair amount of imagination. Indeed, text adventure games are used as [research testbeds](https://arxiv.org/abs/1909.05398) for natural language processing agents.\n",
        "\n",
        "The canonical text adventure game is [Zork](https://en.wikipedia.org/wiki/Zork), in which the player discover an abandoned underworld realm full of treasure. You can find online playable versions.\n",
        "\n",
        "A text game is made up of individual locations--also called \"rooms\", though they need not be indoor enclosed spaces as the term might imply. The agent can move between rooms and interact with objects by typing in short commands like \"move north\" and \"take lamp\".\n",
        "\n",
        "In this assignment, we will use a special package that implements text worlds for testing agents: [TextWorld-Express](https://github.com/cognitiveailab/TextWorldExpress). Textworld-Express simplifies text worlds in a few ways: it uses a reduced set of text commands, and rooms laid out in a grid.\n",
        "TextWorld-Express also implements a few different game objectives, such as cooking, and searching for coins.\n",
        "TextWorld-Express generates world configurations, so we will need to implement algorithms that are able to complete different game objectives in different world configurations.\n",
        "\n",
        "In this assignment, our agents will play two different games:\n",
        "- Coin Game: a  game in which the agent must search for and pick up a single coin.\n",
        "- Map Reader: a game in which the agent must find a key and return it to a box at the starting location.\n",
        "\n",
        "**We will be implementing the tabular Q-learning algorithm** (as opposed to neural Q-learning).\n",
        "\n",
        "You are prohibited from using any pre-existing python package with built-in graph functions such as Djikstra's algorithm, or Prim's algorithm (e.g., networkx and SciPy). You are prohibited from using any python package that does not come default with Python, except textworld-express, graphviz, and pydot, which are loaded as part of this notebook.\n",
        "\n",
        "**Notes:**\n",
        "- If you break execution of a cell running the game engine, you may put TextWorld-Express in an un-recoverable state. If this happens, you will need to reset your kernel/runtime.\n",
        "- In the Map Reader game, you must use a single search loop (you cannot run a search to the coin and then a separate search to the box). You cannot write specialized code for handling the Map Reader game. You cannot memorize the path to the coin and then reverse it.\n",
        "- In the Map Reader game, you cannot use the map information.\n",
        "- You cannot filter any actions. We've already filtered out the actions that we don't want your agent to have to consider. For example, the \"take map\" action is never helpful, but you must explore it.\n",
        "- ***DO NOT REMOVE ANY COMMENTS THAT HAVE `# EXPORT` IN THEM. THE GRADING SCRIPT USES THESE COMMENTS TO EVALUATE YOUR FUNCTIONS. WE WILL NOT AUDIT SUBMISSIONS TO ADD THESE. IF THE AUTOGRADER FAILS TO RUN DUE TO YOUR MODIFICATION OF THESE COMMENTS, YOU WILL NOT RECEIVE CREDIT.***"
      ]
    },
    {
      "cell_type": "markdown",
      "metadata": {
        "id": "NMJadvTO-O7z"
      },
      "source": [
        "# Install"
      ]
    },
    {
      "cell_type": "markdown",
      "metadata": {
        "id": "AdVL2D-B-qYC"
      },
      "source": [
        "Install the TextWorld-Express engine, and graphviz and pydot for visualization."
      ]
    },
    {
      "cell_type": "code",
      "execution_count": 1,
      "metadata": {
        "colab": {
          "base_uri": "https://localhost:8080/"
        },
        "id": "Q_jkFnjg-C7N",
        "outputId": "33c0d462-c868-4860-b8f8-a8fad8f5a605"
      },
      "outputs": [
        {
          "output_type": "stream",
          "name": "stdout",
          "text": [
            "Collecting gymnasium\n",
            "  Downloading gymnasium-0.29.1-py3-none-any.whl.metadata (10 kB)\n",
            "Requirement already satisfied: numpy>=1.21.0 in /usr/local/lib/python3.10/dist-packages (from gymnasium) (1.26.4)\n",
            "Requirement already satisfied: cloudpickle>=1.2.0 in /usr/local/lib/python3.10/dist-packages (from gymnasium) (2.2.1)\n",
            "Requirement already satisfied: typing-extensions>=4.3.0 in /usr/local/lib/python3.10/dist-packages (from gymnasium) (4.12.2)\n",
            "Collecting farama-notifications>=0.0.1 (from gymnasium)\n",
            "  Downloading Farama_Notifications-0.0.4-py3-none-any.whl.metadata (558 bytes)\n",
            "Downloading gymnasium-0.29.1-py3-none-any.whl (953 kB)\n",
            "\u001b[2K   \u001b[90m━━━━━━━━━━━━━━━━━━━━━━━━━━━━━━━━━━━━━━━━\u001b[0m \u001b[32m953.9/953.9 kB\u001b[0m \u001b[31m10.0 MB/s\u001b[0m eta \u001b[36m0:00:00\u001b[0m\n",
            "\u001b[?25hDownloading Farama_Notifications-0.0.4-py3-none-any.whl (2.5 kB)\n",
            "Installing collected packages: farama-notifications, gymnasium\n",
            "Successfully installed farama-notifications-0.0.4 gymnasium-0.29.1\n",
            "Collecting textworld-express\n",
            "  Downloading textworld_express-1.0.4-py3-none-any.whl.metadata (20 kB)\n",
            "Requirement already satisfied: py4j in /usr/local/lib/python3.10/dist-packages (from textworld-express) (0.10.9.7)\n",
            "Collecting orjson (from textworld-express)\n",
            "  Downloading orjson-3.10.7-cp310-cp310-manylinux_2_17_x86_64.manylinux2014_x86_64.whl.metadata (50 kB)\n",
            "\u001b[2K     \u001b[90m━━━━━━━━━━━━━━━━━━━━━━━━━━━━━━━━━━━━━━━━\u001b[0m \u001b[32m50.4/50.4 kB\u001b[0m \u001b[31m380.6 kB/s\u001b[0m eta \u001b[36m0:00:00\u001b[0m\n",
            "\u001b[?25hRequirement already satisfied: prompt-toolkit in /usr/local/lib/python3.10/dist-packages (from textworld-express) (3.0.48)\n",
            "Requirement already satisfied: wcwidth in /usr/local/lib/python3.10/dist-packages (from prompt-toolkit->textworld-express) (0.2.13)\n",
            "Downloading textworld_express-1.0.4-py3-none-any.whl (1.5 MB)\n",
            "\u001b[2K   \u001b[90m━━━━━━━━━━━━━━━━━━━━━━━━━━━━━━━━━━━━━━━━\u001b[0m \u001b[32m1.5/1.5 MB\u001b[0m \u001b[31m19.1 MB/s\u001b[0m eta \u001b[36m0:00:00\u001b[0m\n",
            "\u001b[?25hDownloading orjson-3.10.7-cp310-cp310-manylinux_2_17_x86_64.manylinux2014_x86_64.whl (141 kB)\n",
            "\u001b[2K   \u001b[90m━━━━━━━━━━━━━━━━━━━━━━━━━━━━━━━━━━━━━━━━\u001b[0m \u001b[32m141.9/141.9 kB\u001b[0m \u001b[31m8.0 MB/s\u001b[0m eta \u001b[36m0:00:00\u001b[0m\n",
            "\u001b[?25hInstalling collected packages: orjson, textworld-express\n",
            "Successfully installed orjson-3.10.7 textworld-express-1.0.4\n",
            "Requirement already satisfied: graphviz in /usr/local/lib/python3.10/dist-packages (0.20.3)\n",
            "Requirement already satisfied: pydot in /usr/local/lib/python3.10/dist-packages (3.0.2)\n",
            "Requirement already satisfied: pyparsing>=3.0.9 in /usr/local/lib/python3.10/dist-packages (from pydot) (3.1.4)\n"
          ]
        }
      ],
      "source": [
        "%pip install gymnasium\n",
        "%pip install textworld-express\n",
        "%pip install graphviz\n",
        "%pip install pydot"
      ]
    },
    {
      "cell_type": "markdown",
      "metadata": {
        "id": "f0GaE8xE-T6A"
      },
      "source": [
        "# Imports"
      ]
    },
    {
      "cell_type": "code",
      "execution_count": 2,
      "metadata": {
        "id": "_ScAIKmf-Vmm"
      },
      "outputs": [],
      "source": [
        "# export\n",
        "from textworld_express import TextWorldExpressEnv\n",
        "import gymnasium\n",
        "import graphviz\n",
        "import pydot\n",
        "from IPython.display import Image\n",
        "from IPython.display import display\n",
        "import matplotlib.pyplot as plt\n",
        "from collections import namedtuple\n",
        "import re\n",
        "import os\n",
        "import copy\n",
        "import json\n",
        "import math\n",
        "import random\n",
        "import networkx as nx\n",
        "from itertools import combinations"
      ]
    },
    {
      "cell_type": "markdown",
      "metadata": {
        "id": "7U9ElZek-y5I"
      },
      "source": [
        "# Load a Game"
      ]
    },
    {
      "cell_type": "markdown",
      "metadata": {
        "id": "Rg_yOwlT_ByQ"
      },
      "source": [
        "Set the random seed for repeatablity"
      ]
    },
    {
      "cell_type": "code",
      "execution_count": 3,
      "metadata": {
        "id": "cIGNj42d-93N"
      },
      "outputs": [],
      "source": [
        "SEED = 3"
      ]
    },
    {
      "cell_type": "markdown",
      "metadata": {
        "id": "_8_CqmGx_GOo"
      },
      "source": [
        "Initialize the game environment. `ENV` is a global that encapulates the environment."
      ]
    },
    {
      "cell_type": "code",
      "execution_count": 4,
      "metadata": {
        "id": "CRwKCeqK_JOy"
      },
      "outputs": [],
      "source": [
        "ENV = TextWorldExpressEnv(envStepLimit=100)"
      ]
    },
    {
      "cell_type": "markdown",
      "metadata": {
        "id": "CtJDssBp_Kd_"
      },
      "source": [
        "Set the game generator to generate a particular game (coin game or map reader)"
      ]
    },
    {
      "cell_type": "code",
      "execution_count": 5,
      "metadata": {
        "id": "piAle474_SPG"
      },
      "outputs": [],
      "source": [
        "GAME_TYPE = \"coin\"\n",
        "GAME_PARAMS = \"numLocations=5,includeDoors=1,numDistractorItems=0\"\n",
        "ENV.load(gameName=GAME_TYPE, gameParams=GAME_PARAMS)"
      ]
    },
    {
      "cell_type": "markdown",
      "metadata": {
        "id": "aG_y6anfARuO"
      },
      "source": [
        "# TextWorld API Primer"
      ]
    },
    {
      "cell_type": "markdown",
      "metadata": {
        "id": "aQqFwDKiAVT4"
      },
      "source": [
        "This section gives the basics of the TextWorld API."
      ]
    },
    {
      "cell_type": "markdown",
      "metadata": {
        "id": "Nzxh1WVd_eRs"
      },
      "source": [
        "**Reset the game engine.** `ENV.reset()` provides an observation, the text of the current local world, and a data structure called `infos`, which contains a variety of additional information about the current local world."
      ]
    },
    {
      "cell_type": "code",
      "execution_count": 6,
      "metadata": {
        "colab": {
          "base_uri": "https://localhost:8080/"
        },
        "id": "j9o50bHS_m5h",
        "outputId": "5947d512-ba93-4061-cf44-8d7d3c08035d"
      },
      "outputs": [
        {
          "output_type": "stream",
          "name": "stdout",
          "text": [
            "You are in the kitchen. In one part of the room you see a stove. There is also an oven. You also see a fridge that is closed. In another part of the room you see a counter, that has nothing on it. In one part of the room you see a kitchen cupboard that is closed. There is also a cutlery drawer that is closed. You also see a trash can that is closed. In another part of the room you see a dishwasher that is closed. In one part of the room you see a dining chair, that has nothing on it. \n",
            "To the South you see a closed sliding patio door. To the West you see a closed frosted-glass door. \n",
            "{'observation': 'You are in the kitchen. In one part of the room you see a stove. There is also an oven. You also see a fridge that is closed. In another part of the room you see a counter, that has nothing on it. In one part of the room you see a kitchen cupboard that is closed. There is also a cutlery drawer that is closed. You also see a trash can that is closed. In another part of the room you see a dishwasher that is closed. In one part of the room you see a dining chair, that has nothing on it. \\nTo the South you see a closed sliding patio door. To the West you see a closed frosted-glass door. ', 'look': 'You are in the kitchen. In one part of the room you see a stove. There is also an oven. You also see a fridge that is closed. In another part of the room you see a counter, that has nothing on it. In one part of the room you see a kitchen cupboard that is closed. There is also a cutlery drawer that is closed. You also see a trash can that is closed. In another part of the room you see a dishwasher that is closed. In one part of the room you see a dining chair, that has nothing on it. \\nTo the South you see a closed sliding patio door. To the West you see a closed frosted-glass door. ', 'inventory': 'Inventory (maximum capacity is 2 items): \\n  Your inventory is currently empty.\\n', 'validActions': ['look around', 'close door to west', 'move west', 'open door to south', 'open door to west', 'inventory', 'move south', 'close door to south'], 'scoreRaw': 0.0, 'score': 0.0, 'tasksuccess': False, 'taskfailure': False, 'reward': 0, 'done': False, 'numMoves': 0, 'taskDescription': 'Your task is to search the environment and find the coin.  Once you find the coin, take it.'}\n"
          ]
        }
      ],
      "source": [
        "obs, infos = ENV.reset(seed=SEED, gameFold=\"train\", generateGoldPath=True)\n",
        "print(obs)\n",
        "print(infos)"
      ]
    },
    {
      "cell_type": "markdown",
      "metadata": {
        "id": "TLUOiFkjApoW"
      },
      "source": [
        "**Valid actions.** The actions that an agent can perform are part of the `infos` dictionary."
      ]
    },
    {
      "cell_type": "code",
      "execution_count": 7,
      "metadata": {
        "colab": {
          "base_uri": "https://localhost:8080/"
        },
        "id": "9-6Gvk_EAhtW",
        "outputId": "c22aa50b-cb08-4f11-e0ee-9836b3d7693b"
      },
      "outputs": [
        {
          "output_type": "execute_result",
          "data": {
            "text/plain": [
              "['look around',\n",
              " 'close door to west',\n",
              " 'move west',\n",
              " 'open door to south',\n",
              " 'open door to west',\n",
              " 'inventory',\n",
              " 'move south',\n",
              " 'close door to south']"
            ]
          },
          "metadata": {},
          "execution_count": 7
        }
      ],
      "source": [
        "infos['validActions']"
      ]
    },
    {
      "cell_type": "markdown",
      "metadata": {
        "id": "aCcPnYUcA15B"
      },
      "source": [
        "**Execute an action.** Actions are executed using `ENV.step()`, which returns the new observation for the agent's new state, a reward value, a boolean indicating if the agent has reached the end of the game, and the `infos` for the current state. Here is the code to choose a random valid action and execute it."
      ]
    },
    {
      "cell_type": "code",
      "execution_count": 8,
      "metadata": {
        "colab": {
          "base_uri": "https://localhost:8080/"
        },
        "id": "FdKDNjCnBSkb",
        "outputId": "cfdc794b-0537-48a0-f670-0d6a65075f7d"
      },
      "outputs": [
        {
          "output_type": "stream",
          "name": "stdout",
          "text": [
            "action: open door to west\n",
            "You open the frosted-glass door, revealing the pantry. \n",
            "reward: 0.0\n",
            "done? False\n",
            "infos: {'observation': 'You open the frosted-glass door, revealing the pantry. ', 'look': 'You are in the kitchen. In one part of the room you see a stove. There is also an oven. You also see a fridge that is closed. In another part of the room you see a counter, that has nothing on it. In one part of the room you see a kitchen cupboard that is closed. There is also a cutlery drawer that is closed. You also see a trash can that is closed. In another part of the room you see a dishwasher that is closed. In one part of the room you see a dining chair, that has nothing on it. \\nTo the South you see a closed sliding patio door. Through an open frosted-glass door, to the West you see the pantry. ', 'inventory': 'Inventory (maximum capacity is 2 items): \\n  Your inventory is currently empty.\\n', 'validActions': ['close door to west', 'move west', 'open door to south', 'inventory', 'close door to south', 'move south', 'open door to west', 'look around'], 'scoreRaw': 0.0, 'score': 0.0, 'tasksuccess': False, 'taskfailure': False, 'reward': 0.0, 'done': False, 'numMoves': 1, 'taskDescription': 'Your task is to search the environment and find the coin.  Once you find the coin, take it.', 'lastActionStr': 'open door to west'}\n"
          ]
        }
      ],
      "source": [
        "# Pick a random action\n",
        "random_action = random.choice(infos['validActions'])\n",
        "print(\"action:\", random_action)\n",
        "# Execute the action\n",
        "obs, reward, done, infos = ENV.step(random_action)\n",
        "print(obs)\n",
        "print(\"reward:\", reward)\n",
        "print(\"done?\", done)\n",
        "print(\"infos:\", infos)"
      ]
    },
    {
      "cell_type": "markdown",
      "metadata": {
        "id": "2fYCCeL_Bupb"
      },
      "source": [
        "The environment knows the \"gold path\", which is the solution sequent of actions. This in not guaranteed to be optimal. *You are prohibited from calling this function as part of your code solutions to the homework problems.*"
      ]
    },
    {
      "cell_type": "code",
      "execution_count": 9,
      "metadata": {
        "colab": {
          "base_uri": "https://localhost:8080/"
        },
        "id": "-ZcaZ5frCI1r",
        "outputId": "50785312-d570-4f6a-db75-79f0cb83006d"
      },
      "outputs": [
        {
          "output_type": "execute_result",
          "data": {
            "text/plain": [
              "['look around',\n",
              " 'open door to south',\n",
              " 'open door to west',\n",
              " 'move west',\n",
              " 'move east',\n",
              " 'move south',\n",
              " 'open door to east',\n",
              " 'move east',\n",
              " 'take coin']"
            ]
          },
          "metadata": {},
          "execution_count": 9
        }
      ],
      "source": [
        "ENV.getGoldActionSequence()"
      ]
    },
    {
      "cell_type": "markdown",
      "metadata": {
        "id": "DEUeySWdB_DE"
      },
      "source": [
        "# MDP Helper Functions"
      ]
    },
    {
      "cell_type": "markdown",
      "metadata": {
        "id": "JtR7eZ6xvS59"
      },
      "source": [
        "**Observation Parsing Functions**\n",
        "\n",
        "- `parse_inventory()` attempts to pull the inventory line out of an observation.\n",
        "- `obs_location()` attempts to pull the name of the location of the agent out of the observations.\n",
        "- `hash_state()` converts an observation to a hash code a string of unique numbers.\n",
        "- `parse_things()` attempts to pull out all the objects in an observation.\n",
        "- `parse_doors()` attempts to pull out information about all the doors in an observation. It returns a list of tuples containing `\"name_of_door (direction)\"` and whether it is `'open'` or `'closed'`."
      ]
    },
    {
      "cell_type": "code",
      "execution_count": 10,
      "metadata": {
        "id": "6J9x_gDtzyYQ"
      },
      "outputs": [],
      "source": [
        "# export\n",
        "### Pull the inventory items out of the observation text that includes\n",
        "### the inventory (from obs_with_inventory())\n",
        "def parse_inventory(obs):\n",
        "  m = re.search(r'Inventory[a-zA-Z0-9 \\(\\)]*:\\s*([a-zA-Z0-9 \\.\\n]+)', obs)\n",
        "  if m is not None:\n",
        "    if 'empty' not in m.group(1):\n",
        "      return m.group(1).replace('\\n', '')\n",
        "  return 'empty'\n",
        "\n",
        "### Pull the location out of the observation text.\n",
        "def obs_location(obs):\n",
        "  first_sentence = obs.split('.')[0].split(' ')\n",
        "  start = first_sentence.index('the') + 1\n",
        "  return ' '.join(first_sentence[start:])\n",
        "  # return obs.split('.')[0].split(' ')[-1]\n",
        "\n",
        "def hash_state(state):\n",
        "  return str(abs(hash(json.dumps(state))))\n",
        "\n",
        "def parse_things(obs):\n",
        "  things1 = re.findall(r'[yY]ou \\w*\\s*see [aA]? ([a-zA-Z0-9\\- ]+)\\,? that ([a-zA-Z0-9\\-, ]+).', obs)\n",
        "  things2 = re.findall(r'[tT]here is \\w*\\s*([a-zA-Z0-9\\- ]+)\\,? that ([a-zA-Z0-9\\-, ]+).', obs)\n",
        "  things3 = re.findall(r'[tT]here is \\w*\\s*([a-zA-Z0-9\\- ]+)\\.', obs)\n",
        "  things3 = list(filter(lambda s:'that' not in s, things3))\n",
        "  things4 = re.findall(r'[yY]ou \\w*\\s*see a ([a-zA-Z0-9\\- ]+)\\.', obs)\n",
        "  things4 = list(filter(lambda s:'door' not in s and 'that' not in s, things4))\n",
        "  return list(map(lambda x: list(x) if type(x) is tuple else x,\n",
        "                  things1 + things2 + things3 + things4))\n",
        "\n",
        "def parse_doors(obs):\n",
        "  sentences = obs.split('.')\n",
        "  doors = []\n",
        "  dirs = re.compile('west|east|south|north')\n",
        "  for sentence in sentences:\n",
        "    m_open = re.search(r'open ([a-z\\- ]*door)', sentence)\n",
        "    m_closed = re.search(r'closed ([a-z\\- ]*door)', sentence)\n",
        "    dir = dirs.search(sentence.lower())\n",
        "    if dir is not None:\n",
        "      if m_open is not None:\n",
        "        doors.append((m_open[1] + ' (' + dir[0] + ')', 'open'))\n",
        "      elif m_closed is not None:\n",
        "        doors.append((m_closed[1] + ' (' + dir[0] + ')', 'closed'))\n",
        "  return doors"
      ]
    },
    {
      "cell_type": "markdown",
      "metadata": {
        "id": "ZZWNNrycW83G"
      },
      "source": [
        "**Environment Interaction Functions**\n",
        "\n",
        "These functions allow the agent to interact with the environment in a slightly more friendly way than the default `env.reset()` and `env.step()` functions. They wrap those funtions and do some processing on the data to bundle it in a way that will be easier to work with.\n",
        "\n",
        "`reset_mdp()` takes an environment (e.g., `ENV`) and returns a dictionary containing the observation, inventory, and valid actions. For example:\n",
        "```\n",
        "{'observation': 'You are in the kitchen...',\n",
        " 'inventory': 'Inventory (maximum capacity is 2 items):...',\n",
        " 'valid actions': ['move north', 'move south', 'take coin'...]\n",
        "}\n",
        "```\n",
        "\n",
        "`do_action_mdp()` takes the name of an action and a pointer to the environment. It returns the state that results from executing the action. It returns 4 values:\n",
        "- observation: a string\n",
        "- reward: a floating point number\n",
        "- termination: a boolean indicating whether the episode has ended\n",
        "- infos: a dictionary containing observation, inventory, and valid actions (as above).\n",
        "\n",
        "**Use these functions instead of `env.reset()` and `env.step()`.**"
      ]
    },
    {
      "cell_type": "code",
      "execution_count": 11,
      "metadata": {
        "id": "Tux5anN-B7ib"
      },
      "outputs": [],
      "source": [
        "# export\n",
        "def reset_mdp(env):\n",
        "  obs, infos = env.reset(seed=SEED, gameFold=\"train\", generateGoldPath=True)\n",
        "  valids = infos['validActions']\n",
        "  valids.remove('inventory')\n",
        "  valids.remove('look around')\n",
        "  inv = infos['inventory']\n",
        "  modified_obs = obs_with_inventory(infos['look'], inv)\n",
        "  # return make_state_mdp(infos['look'], parse_inventory(infos['inventory'])), valids\n",
        "  return {'observation': infos['look'],\n",
        "          'inventory': infos['inventory'],\n",
        "          'valid actions': valids}\n",
        "\n",
        "\n",
        "def do_action_mdp(action, env):\n",
        "  obs, reward, done, infos = env.step(action)\n",
        "  #obs_look, reward_look, done_look, infos_look = env.step('look around')\n",
        "  valid_actions = infos['validActions']\n",
        "  valid_actions.remove('inventory')\n",
        "  valid_actions.remove('look around')\n",
        "  # return make_state_mdp(infos['look'], parse_inventory(infos['inventory'])), reward, done, valid_actions\n",
        "  return infos['look'], reward, done, {'observation': infos['look'],\n",
        "                                       'inventory': infos['inventory'],\n",
        "                                       'valid actions': valid_actions}"
      ]
    },
    {
      "cell_type": "markdown",
      "metadata": {
        "id": "nJzznPc_wswe"
      },
      "source": [
        "# Important Notes for this Assignment\n",
        "\n",
        "\n",
        "*   A successful episode from the MDP will give a reward of 1.0\n",
        "*   A partially successful episode from an MDP environment will give a reward of 0.5\n",
        "*   If you increase NUM_EPISODES too high, it will take too long in the autograder.\n",
        "*   We will be checking for hard coded values / outputs, so please don't take any shortcuts.\n",
        "\n"
      ]
    },
    {
      "cell_type": "markdown",
      "metadata": {
        "id": "xVKlX5m4CKxc"
      },
      "source": [
        "# Implement Q-Learning"
      ]
    },
    {
      "cell_type": "markdown",
      "metadata": {
        "id": "u8gOs8DSrTa4"
      },
      "source": [
        "**Step 1.** Implement the `q_learning()` function. This function takes the following parameters:\n",
        "- env: a pointer to the environment (`ENV`).\n",
        "- num_episodes: the number of episodes to run before termination of the entire algorithm.\n",
        "- threshold: the number of steps in an episode before terminating a single episode.\n",
        "- learning_rate: a number between 0 and 1 controlling how fast the policy is allowed to change.\n",
        "- gamma: the Bellman equation horizon parameter (between 0 and 1).\n",
        "- epsilon: (optional) if epsilon greedy is implemented, this number (0..1) determines the ratio of random to policy-guided actions. A value of 1.0 indicates purely random, and a value of 0.0 indicates purely on-policy.\n",
        "\n",
        "The `q_learning()` algorithm should return a single value: the policy. The policy will be a dictionary-of-dictionaries where the outermost dictionary has a key for each state visited. Each state points to a separate inner dictionary where the keys are actions and the values are q-values. For example:\n",
        "```\n",
        "{state1: {'move north': 0.1,\n",
        "          'move south': 0.0,\n",
        "          'move east': 0.8,\n",
        "          'move west': 0.4},\n",
        " state2: {'move north': 0.01,\n",
        "          'take coin': 1.0,\n",
        "          'move east': 0.05,\n",
        "          'move west': 0.2},\n",
        " ...\n",
        "}\n",
        "```\n",
        "\n",
        "You will interact with the environment through `reset_mdp()` and `do_action_mdp()`. You can choose your own representation for states, though it must be hashable (string, number, tuple, etc.).\n",
        "\n",
        "We recommend you track your algorithm's performance by tracking the total reward of each episode, and the number of step in each episode (fewer is better). If you use purely random action selection, you will see a lot of variance in your total episode reward. If you implement epsilon-greedy, you will see a trend toward more consistent achievement of maximum reward as episode number increases."
      ]
    },
    {
      "cell_type": "code",
      "execution_count": 40,
      "metadata": {
        "id": "oVpU7tLJCXnu"
      },
      "outputs": [],
      "source": [
        "# export\n",
        "# please print out obs and inventory and find a way to combine them together\n",
        "# this is much simpler to implement than it seems (one line of code)\n",
        "def obs_with_inventory(obs, inv):\n",
        "  ### YOUR CODE BELOW HERE\n",
        "  if obs and inv:\n",
        "    return obs + \" \" + inv\n",
        "  #return None\n",
        "  ### YOUR CODE ABOVE HERE\n",
        "\n",
        "def q_learning(env, num_episodes, threshold, learning_rate, gamma, epsilon = 1.0):\n",
        "  # Set up q-table\n",
        "  q_table = {}\n",
        "  ### YOUR CODE BELOW HERE\n",
        "  q_table = {}\n",
        "\n",
        "  for episode in range(num_episodes):\n",
        "    infos = reset_mdp(env)\n",
        "\n",
        "    #infos['valid actions']\n",
        "    #print(validActionsDict)\n",
        "    #print(infos)\n",
        "    #break\n",
        "    inv = infos['inventory']\n",
        "\n",
        "    state = obs_with_inventory(infos['observation'], inv)\n",
        "    done = False\n",
        "    steps = 0\n",
        "\n",
        "    while not done and steps < threshold:\n",
        "      steps += 1\n",
        "\n",
        "      if state not in q_table:\n",
        "        q_table[state] = {action: 0 for action in infos['valid actions']}\n",
        "\n",
        "      if random.random() < epsilon:\n",
        "        #action = random.choice(list(q_table[state].keys()))\n",
        "        action = random.choice(infos['valid actions'])\n",
        "      else:\n",
        "        action = max(q_table[state], key=q_table[state].get)\n",
        "\n",
        "      next_obs, reward, done, infos = do_action_mdp(action,env)\n",
        "\n",
        "      next_inv = infos['inventory']\n",
        "      next_state = obs_with_inventory(next_obs, next_inv)\n",
        "\n",
        "      if next_state not in q_table:\n",
        "        q_table[next_state] = {action: 0 for action in infos['valid actions']}\n",
        "\n",
        "      old_q_value = q_table[state][action]\n",
        "      #print(action)\n",
        "      next_max = max(q_table[next_state], key = q_table[next_state].get)\n",
        "\n",
        "      if not done:\n",
        "        new_q = (1 - learning_rate) * old_q_value + learning_rate * (reward + gamma * q_table[next_state][next_max])\n",
        "      if done:\n",
        "        new_q = (1 - learning_rate) * old_q_value + learning_rate * (reward)\n",
        "\n",
        "      q_table[state][action] = new_q\n",
        "\n",
        "      state = next_state\n",
        "\n",
        "      #print(total_reward)\n",
        "\n",
        "    #epsilon = max(0.1, epsilon * 0.99)\n",
        "  #raise NotImplementedError\n",
        "  ### YOUR CODE ABOVE HERE\n",
        "  return q_table"
      ]
    },
    {
      "cell_type": "markdown",
      "metadata": {
        "id": "js7x9FBAr_0e"
      },
      "source": [
        "**Step 2.** Set the parameters for your q-learning algorithm. You can change these values.\n",
        "\n",
        "**These might need to be changed from the default values. These variables are just for the simple test below. The autograder will use the variables you set in `set_parameters` below.**"
      ]
    },
    {
      "cell_type": "code",
      "execution_count": 13,
      "metadata": {
        "id": "1paMMHQnCV6L"
      },
      "outputs": [],
      "source": [
        "NUM_EPISODES = 100\n",
        "THRESHOLD = 25\n",
        "LEARNING_RATE = 0.5\n",
        "GAMMA = 0.5\n",
        "EPSILON = 1"
      ]
    },
    {
      "cell_type": "markdown",
      "metadata": {
        "id": "Ih1dGqD2Yqyk"
      },
      "source": [
        "Run the q-learning algorithm."
      ]
    },
    {
      "cell_type": "code",
      "execution_count": 14,
      "metadata": {
        "id": "YCdoOwDaGjjf"
      },
      "outputs": [],
      "source": [
        "q_table = q_learning(ENV,\n",
        "                     num_episodes = NUM_EPISODES,\n",
        "                     threshold = THRESHOLD,\n",
        "                     learning_rate = LEARNING_RATE,\n",
        "                     gamma = GAMMA,\n",
        "                     epsilon = EPSILON)"
      ]
    },
    {
      "cell_type": "markdown",
      "metadata": {
        "id": "-z2k4EkrGaMm"
      },
      "source": [
        "# Implement Code to Run a Policy"
      ]
    },
    {
      "cell_type": "markdown",
      "metadata": {
        "id": "_j5OrjrTtxWM"
      },
      "source": [
        "**Step 3.** Implement code to run the policy. This function takes the following parameters:\n",
        "- q_table: your q-table, as specified in step 1.\n",
        "- env: pointer to the environment (e.g., `ENV`).\n",
        "- threshold: the maximum number of steps to take before terminating.\n",
        "\n",
        "Your function should run a single episode from the initial state and return:\n",
        "- A list of actions taken during the episode (e.g., `[act_1, act_2, ... act_n]`).\n",
        "- The total sum reward of all actions taken as a float.\n",
        "\n",
        "Your function will interact with the environment through `reset_mdp()` and `do_action_mdp()`. Be sure to reset the environment before running, and terminate the episode if `do_action_mdp()` indicates the episode has terminated.\n",
        "\n",
        "**IMPORTANT:** It is possible that your agent encounters states in run_policy that it never saw when it was building the Q_table. Please handle this by choosing a random action from the available actions."
      ]
    },
    {
      "cell_type": "code",
      "execution_count": 15,
      "metadata": {
        "id": "7jJCxMBTGdv9"
      },
      "outputs": [],
      "source": [
        "# export\n",
        "def run_policy(q_table, env, threshold = 25):\n",
        "  actions = [] # Store the entire sequence of actions here\n",
        "  total_reward = 0.0 # Store the total sum reward of all actions executed here\n",
        "  ### YOUR CODE BELOW HERE\n",
        "  infos = reset_mdp(env)\n",
        "  inv = infos['inventory']\n",
        "\n",
        "  state = obs_with_inventory(infos['observation'],inv)\n",
        "\n",
        "  done = False\n",
        "  steps = 0\n",
        "\n",
        "  while not done and steps < threshold:\n",
        "\n",
        "\n",
        "    if state in q_table and q_table[state]:\n",
        "      action = max(q_table[state], key = q_table[state].get)\n",
        "    else:\n",
        "      action = random.choice(infos['valid actions'])\n",
        "\n",
        "    next_obs, reward, done, infos = do_action_mdp(action,env)\n",
        "\n",
        "    next_inv = infos['inventory']\n",
        "    next_state = obs_with_inventory(next_obs, next_inv)\n",
        "\n",
        "    actions.append(action)\n",
        "    total_reward += reward\n",
        "\n",
        "    state = next_state\n",
        "\n",
        "    if done:\n",
        "      break\n",
        "    steps += 1\n",
        "\n",
        "  #raise NotImplementedError\n",
        "  ### YOUR CODE ABOVE HERE\n",
        "  return actions, total_reward"
      ]
    },
    {
      "cell_type": "markdown",
      "metadata": {
        "id": "goBOBYvBYzeR"
      },
      "source": [
        "**Step 4.** Set the threshold value for episode length during policy execution (test time threshold)."
      ]
    },
    {
      "cell_type": "code",
      "execution_count": 16,
      "metadata": {
        "id": "KpK_2wuMuZ7d"
      },
      "outputs": [],
      "source": [
        "# export\n",
        "TEST_THRESHOLD = 25"
      ]
    },
    {
      "cell_type": "markdown",
      "metadata": {
        "id": "lWOGP5aWY59n"
      },
      "source": [
        "**Step 5.** Run the policy."
      ]
    },
    {
      "cell_type": "code",
      "execution_count": 17,
      "metadata": {
        "colab": {
          "base_uri": "https://localhost:8080/"
        },
        "id": "vhrGyDGBGrMP",
        "outputId": "8c114259-ce43-48e6-bbec-b6c9fa5bbb91"
      },
      "outputs": [
        {
          "output_type": "stream",
          "name": "stdout",
          "text": [
            "plan: ['open door to south', 'move south', 'open door to east', 'move east', 'take coin']\n",
            "Total reward: 1.0\n"
          ]
        }
      ],
      "source": [
        "plan, total_reward = run_policy(q_table, ENV, threshold = TEST_THRESHOLD)\n",
        "print(\"plan:\", plan)\n",
        "print(\"Total reward:\", total_reward)"
      ]
    },
    {
      "cell_type": "markdown",
      "metadata": {
        "id": "0cBfmUDG1XHk"
      },
      "source": [
        "# New Environment: Stochastic Actions"
      ]
    },
    {
      "cell_type": "markdown",
      "metadata": {
        "id": "pLeYTiUVY9Tj"
      },
      "source": [
        "The following creates a new type of environment called `StochasticTextWorldExpressEnv`. This environment is the same as the previous environment type, except that some percentage of the time, the action that the agent chooses is not executed and a randomly chosen action is executed instead.\n",
        "\n",
        "When the environment is created the percentage of action randomness (between 0 and 1) is set, where 0.0 means no randomness, and 1.0 means that actions are executed purely randomly.\n",
        "\n",
        "Otherwise, this environment works the same as previously.\n",
        "\n",
        "If you set the global variable `ENV_VERBOSE = True` then the environment will print the action that is executed, regardless of whether it is the one selected or a random action. This is for debugging purposes only.\n",
        "\n",
        "**NOTE:** The agent is never able to know whether the action it chose was executed or if a different action was executed.  "
      ]
    },
    {
      "cell_type": "code",
      "execution_count": 18,
      "metadata": {
        "id": "n-hc6VnL793a"
      },
      "outputs": [],
      "source": [
        "NEVER_PICK_ACTIONS = set(['look around', 'inventory'])\n",
        "ENV_VERBOSE = False"
      ]
    },
    {
      "cell_type": "code",
      "execution_count": 19,
      "metadata": {
        "id": "GsQWZj0H1WeS"
      },
      "outputs": [],
      "source": [
        "class StochasticTextWorldExpressEnv(TextWorldExpressEnv):\n",
        "\n",
        "  def __init__(self, serverPath=None, envStepLimit=100, stochasticity = 0.0):\n",
        "    # Call the super constructor\n",
        "    super().__init__(serverPath, envStepLimit)\n",
        "    # Store the valid actions and stochasticity\n",
        "    self.valid_actions = []\n",
        "    self.stochasticity = stochasticity\n",
        "\n",
        "  def reset(self, seed=None, gameFold=None, gameName=None, gameParams=None, generateGoldPath=False):\n",
        "    # Call the super method\n",
        "    observation, infos = super().reset(seed, gameFold, gameName, gameParams, generateGoldPath)\n",
        "    # Update the valid actions\n",
        "    self.valid_actions = infos['validActions']\n",
        "    return observation, infos\n",
        "\n",
        "  def step(self, action:str):\n",
        "    # If a random value is less than the stochasticity target, choose a random action\n",
        "    if random.random() < self.stochasticity:\n",
        "      temp_valids = copy.deepcopy(self.valid_actions)\n",
        "      # Remove inventory and look around from valid actions to choose from\n",
        "      temp_valids = list(set(self.valid_actions).difference(NEVER_PICK_ACTIONS))\n",
        "      # Pick a random action from whatever remains\n",
        "      action = random.choice(temp_valids)\n",
        "    # If debugging flag is on, print the action that will be executed\n",
        "    if ENV_VERBOSE:\n",
        "      print(\"[[action]]:\", action)\n",
        "    # Call the super class with either the action passed in or the randomly chosen one\n",
        "    observation, reward, isCompleted, infos = super().step(action)\n",
        "    # Update the valid actions\n",
        "    self.valid_actions = infos['validActions']\n",
        "    return observation, reward, isCompleted, infos"
      ]
    },
    {
      "cell_type": "markdown",
      "metadata": {
        "id": "lKV4lUC1agso"
      },
      "source": [
        "New environments must be registered through the Gymnasium API."
      ]
    },
    {
      "cell_type": "code",
      "execution_count": 20,
      "metadata": {
        "id": "OFWWPDS35bMn"
      },
      "outputs": [],
      "source": [
        "gymnasium.register(id='TextWorldExpress-StochasticTextWorldExpressEnv-v0',\n",
        "                   entry_point='__main__:StochasticTextWorldExpressEnv')"
      ]
    },
    {
      "cell_type": "markdown",
      "metadata": {
        "id": "rvmTtxrwalKn"
      },
      "source": [
        "Create the new environment type."
      ]
    },
    {
      "cell_type": "code",
      "execution_count": 21,
      "metadata": {
        "id": "7RMiGJoc62eI"
      },
      "outputs": [],
      "source": [
        "SENV = StochasticTextWorldExpressEnv(envStepLimit=100, stochasticity=0.25)"
      ]
    },
    {
      "cell_type": "markdown",
      "metadata": {
        "id": "hbB48O0Eang4"
      },
      "source": [
        "Create a game with this environment type (same as before)"
      ]
    },
    {
      "cell_type": "code",
      "execution_count": 22,
      "metadata": {
        "id": "yOkAnt267ETX"
      },
      "outputs": [],
      "source": [
        "GAME_TYPE = \"coin\"\n",
        "GAME_PARAMS = \"numLocations=5,includeDoors=1,numDistractorItems=0\"\n",
        "SENV.load(gameName=GAME_TYPE, gameParams=GAME_PARAMS)"
      ]
    },
    {
      "cell_type": "markdown",
      "metadata": {
        "id": "CmdycTPAataX"
      },
      "source": [
        "Reset the environment (same as before)."
      ]
    },
    {
      "cell_type": "code",
      "execution_count": 23,
      "metadata": {
        "id": "hwt58q1_7OZ3",
        "colab": {
          "base_uri": "https://localhost:8080/"
        },
        "outputId": "aed4553b-d464-46ab-e12a-e5a442efc0dc"
      },
      "outputs": [
        {
          "output_type": "stream",
          "name": "stdout",
          "text": [
            "You are in the kitchen. In one part of the room you see a stove. There is also an oven. You also see a fridge that is closed. In another part of the room you see a counter, that has nothing on it. In one part of the room you see a kitchen cupboard that is closed. There is also a cutlery drawer that is closed. You also see a trash can that is closed. In another part of the room you see a dishwasher that is closed. In one part of the room you see a dining chair, that has nothing on it. \n",
            "To the South you see a closed sliding patio door. To the West you see a closed frosted-glass door. \n",
            "{'observation': 'You are in the kitchen. In one part of the room you see a stove. There is also an oven. You also see a fridge that is closed. In another part of the room you see a counter, that has nothing on it. In one part of the room you see a kitchen cupboard that is closed. There is also a cutlery drawer that is closed. You also see a trash can that is closed. In another part of the room you see a dishwasher that is closed. In one part of the room you see a dining chair, that has nothing on it. \\nTo the South you see a closed sliding patio door. To the West you see a closed frosted-glass door. ', 'look': 'You are in the kitchen. In one part of the room you see a stove. There is also an oven. You also see a fridge that is closed. In another part of the room you see a counter, that has nothing on it. In one part of the room you see a kitchen cupboard that is closed. There is also a cutlery drawer that is closed. You also see a trash can that is closed. In another part of the room you see a dishwasher that is closed. In one part of the room you see a dining chair, that has nothing on it. \\nTo the South you see a closed sliding patio door. To the West you see a closed frosted-glass door. ', 'inventory': 'Inventory (maximum capacity is 2 items): \\n  Your inventory is currently empty.\\n', 'validActions': ['look around', 'close door to west', 'move west', 'open door to south', 'open door to west', 'inventory', 'move south', 'close door to south'], 'scoreRaw': 0.0, 'score': 0.0, 'tasksuccess': False, 'taskfailure': False, 'reward': 0, 'done': False, 'numMoves': 0, 'taskDescription': 'Your task is to search the environment and find the coin.  Once you find the coin, take it.'}\n"
          ]
        }
      ],
      "source": [
        "obs, infos = SENV.reset(seed=SEED, gameFold=\"train\", generateGoldPath=True)\n",
        "print(obs)\n",
        "print(infos)"
      ]
    },
    {
      "cell_type": "markdown",
      "metadata": {
        "id": "M-4ZrEcXawLI"
      },
      "source": [
        "Execute a step. If `ENV_VERBOSE=True` then the action actually executed will be printed."
      ]
    },
    {
      "cell_type": "code",
      "execution_count": 24,
      "metadata": {
        "id": "bYWtb6tG7coF",
        "colab": {
          "base_uri": "https://localhost:8080/"
        },
        "outputId": "1a2a4a5f-8e1e-418c-a147-0ccf1fba444a"
      },
      "outputs": [
        {
          "output_type": "stream",
          "name": "stdout",
          "text": [
            "You can't move there, the door is closed. \n",
            "0.0\n",
            "False\n",
            "{'observation': \"You can't move there, the door is closed. \", 'look': 'You are in the kitchen. In one part of the room you see a stove. There is also an oven. You also see a fridge that is closed. In another part of the room you see a counter, that has nothing on it. In one part of the room you see a kitchen cupboard that is closed. There is also a cutlery drawer that is closed. You also see a trash can that is closed. In another part of the room you see a dishwasher that is closed. In one part of the room you see a dining chair, that has nothing on it. \\nTo the South you see a closed sliding patio door. To the West you see a closed frosted-glass door. ', 'inventory': 'Inventory (maximum capacity is 2 items): \\n  Your inventory is currently empty.\\n', 'validActions': ['close door to west', 'move west', 'open door to south', 'inventory', 'close door to south', 'move south', 'open door to west', 'look around'], 'scoreRaw': 0.0, 'score': 0.0, 'tasksuccess': False, 'taskfailure': False, 'reward': 0.0, 'done': False, 'numMoves': 1, 'taskDescription': 'Your task is to search the environment and find the coin.  Once you find the coin, take it.', 'lastActionStr': 'move south'}\n"
          ]
        }
      ],
      "source": [
        "obs, reward, done, infos = SENV.step('open door to south')\n",
        "print(obs)\n",
        "print(reward)\n",
        "print(done)\n",
        "print(infos)"
      ]
    },
    {
      "cell_type": "markdown",
      "metadata": {
        "id": "yktsPacua4nu"
      },
      "source": [
        "Train in the stochastic Text World environment."
      ]
    },
    {
      "cell_type": "code",
      "execution_count": 25,
      "metadata": {
        "id": "Y2MoSrPaESpM"
      },
      "outputs": [],
      "source": [
        "q_table = q_learning(SENV,\n",
        "                     num_episodes = NUM_EPISODES,\n",
        "                     threshold = THRESHOLD,\n",
        "                     learning_rate = LEARNING_RATE,\n",
        "                     gamma = GAMMA,\n",
        "                     epsilon = EPSILON)"
      ]
    },
    {
      "cell_type": "markdown",
      "metadata": {
        "id": "zEGhWdYma8D-"
      },
      "source": [
        "Test the policy."
      ]
    },
    {
      "cell_type": "code",
      "execution_count": 26,
      "metadata": {
        "id": "juNfb4q8EXAa",
        "colab": {
          "base_uri": "https://localhost:8080/"
        },
        "outputId": "5d56b59a-de30-4c22-dfd5-6d344e0311b2"
      },
      "outputs": [
        {
          "output_type": "stream",
          "name": "stdout",
          "text": [
            "plan: ['open door to south', 'move south', 'open door to east', 'move east', 'take coin']\n",
            "total reward: 1.0\n"
          ]
        }
      ],
      "source": [
        "plan, total_reward = run_policy(q_table, SENV, threshold = TEST_THRESHOLD)\n",
        "print(\"plan:\", plan)\n",
        "print(\"total reward:\", total_reward)"
      ]
    },
    {
      "cell_type": "markdown",
      "metadata": {
        "id": "T4sT-9IcM7Xs"
      },
      "source": [
        "# New Environment: Negative Reward"
      ]
    },
    {
      "cell_type": "markdown",
      "metadata": {
        "id": "gXe7_ZhkQq9I"
      },
      "source": [
        "The following creates a new type of environment called `PunishmentTextWorldExpressEnv`. This environment is the same as the previous environment type, except that the agent receives negative reward when it performs actions that are illegal or do not change the world state. For example, trying to close a door that is already closed, or move in a direction that is illegal.\n",
        "\n",
        "Otherwise, this environment works the same as previously."
      ]
    },
    {
      "cell_type": "code",
      "execution_count": 27,
      "metadata": {
        "id": "NW6uZ2Z8M-b9"
      },
      "outputs": [],
      "source": [
        "class PunishmentTextWorldExpressEnv(TextWorldExpressEnv):\n",
        "\n",
        "  def __init__(self, serverPath=None, envStepLimit=100, punishment = 0.0):\n",
        "    # Call the super constructor\n",
        "    super().__init__(serverPath, envStepLimit)\n",
        "    # Store the punishment\n",
        "    self.punishment = punishment\n",
        "    # Store the previous observation\n",
        "    self.previous_observation = None\n",
        "\n",
        "  def step(self, action:str):\n",
        "    # Call the super method\n",
        "    observation, reward, isCompleted, infos = super().step(action)\n",
        "    # If the current look is the same as the previous look, then we have performed an illegal action\n",
        "    if infos['look'] == self.previous_observation:\n",
        "      reward = self.punishment\n",
        "    # Store the previous observation\n",
        "    self.previous_observation = infos['look']\n",
        "    return observation, reward, isCompleted, infos"
      ]
    },
    {
      "cell_type": "markdown",
      "metadata": {
        "id": "GKMjQ_cF5_1C"
      },
      "source": [
        "New environments must be registered through the Gymnasium API."
      ]
    },
    {
      "cell_type": "code",
      "execution_count": 28,
      "metadata": {
        "id": "IIyZMwA3Ox4H"
      },
      "outputs": [],
      "source": [
        "gymnasium.register(id='TextWorldExpress-PunishmentTextWorldExpressEnv-v0',\n",
        "                   entry_point='__main__:PunishmentTextWorldExpressEnv')"
      ]
    },
    {
      "cell_type": "markdown",
      "metadata": {
        "id": "QH1p6rTm6NkA"
      },
      "source": [
        "Create the new environment type."
      ]
    },
    {
      "cell_type": "code",
      "execution_count": 29,
      "metadata": {
        "id": "l9elwI9UPKEL"
      },
      "outputs": [],
      "source": [
        "PENV = PunishmentTextWorldExpressEnv(envStepLimit=100, punishment=-1.0)"
      ]
    },
    {
      "cell_type": "markdown",
      "metadata": {
        "id": "S2uUZ9496Rm3"
      },
      "source": [
        "Create a game with this environment type (same as before)."
      ]
    },
    {
      "cell_type": "code",
      "execution_count": 30,
      "metadata": {
        "id": "ZjGRhjzCPZGQ"
      },
      "outputs": [],
      "source": [
        "GAME_TYPE = \"coin\"\n",
        "GAME_PARAMS = \"numLocations=5,includeDoors=1,numDistractorItems=0\"\n",
        "PENV.load(gameName=GAME_TYPE, gameParams=GAME_PARAMS)"
      ]
    },
    {
      "cell_type": "markdown",
      "metadata": {
        "id": "hE9A43186VcL"
      },
      "source": [
        "Reset the environment (same as before)."
      ]
    },
    {
      "cell_type": "code",
      "execution_count": 31,
      "metadata": {
        "id": "9-cKjWIdPcXU",
        "colab": {
          "base_uri": "https://localhost:8080/"
        },
        "outputId": "ceb94896-90f4-4f0e-84ab-8d18c0f72c0a"
      },
      "outputs": [
        {
          "output_type": "stream",
          "name": "stdout",
          "text": [
            "You are in the kitchen. In one part of the room you see a stove. There is also an oven. You also see a fridge that is closed. In another part of the room you see a counter, that has nothing on it. In one part of the room you see a kitchen cupboard that is closed. There is also a cutlery drawer that is closed. You also see a trash can that is closed. In another part of the room you see a dishwasher that is closed. In one part of the room you see a dining chair, that has nothing on it. \n",
            "To the South you see a closed sliding patio door. To the West you see a closed frosted-glass door. \n",
            "{'observation': 'You are in the kitchen. In one part of the room you see a stove. There is also an oven. You also see a fridge that is closed. In another part of the room you see a counter, that has nothing on it. In one part of the room you see a kitchen cupboard that is closed. There is also a cutlery drawer that is closed. You also see a trash can that is closed. In another part of the room you see a dishwasher that is closed. In one part of the room you see a dining chair, that has nothing on it. \\nTo the South you see a closed sliding patio door. To the West you see a closed frosted-glass door. ', 'look': 'You are in the kitchen. In one part of the room you see a stove. There is also an oven. You also see a fridge that is closed. In another part of the room you see a counter, that has nothing on it. In one part of the room you see a kitchen cupboard that is closed. There is also a cutlery drawer that is closed. You also see a trash can that is closed. In another part of the room you see a dishwasher that is closed. In one part of the room you see a dining chair, that has nothing on it. \\nTo the South you see a closed sliding patio door. To the West you see a closed frosted-glass door. ', 'inventory': 'Inventory (maximum capacity is 2 items): \\n  Your inventory is currently empty.\\n', 'validActions': ['look around', 'close door to west', 'move west', 'open door to south', 'open door to west', 'inventory', 'move south', 'close door to south'], 'scoreRaw': 0.0, 'score': 0.0, 'tasksuccess': False, 'taskfailure': False, 'reward': 0, 'done': False, 'numMoves': 0, 'taskDescription': 'Your task is to search the environment and find the coin.  Once you find the coin, take it.'}\n"
          ]
        }
      ],
      "source": [
        "obs, infos = PENV.reset(seed=SEED, gameFold=\"train\", generateGoldPath=True)\n",
        "print(obs)\n",
        "print(infos)"
      ]
    },
    {
      "cell_type": "markdown",
      "metadata": {
        "id": "a_91pXP36ZYh"
      },
      "source": [
        "Execute a step."
      ]
    },
    {
      "cell_type": "code",
      "execution_count": 32,
      "metadata": {
        "id": "tkFUVKHxPeom",
        "colab": {
          "base_uri": "https://localhost:8080/"
        },
        "outputId": "bdee71a3-7ffc-42ea-d9ba-62829597fd67"
      },
      "outputs": [
        {
          "output_type": "stream",
          "name": "stdout",
          "text": [
            "You open the sliding patio door, revealing the backyard. \n",
            "0.0\n",
            "False\n",
            "{'observation': 'You open the sliding patio door, revealing the backyard. ', 'look': 'You are in the kitchen. In one part of the room you see a stove. There is also an oven. You also see a fridge that is closed. In another part of the room you see a counter, that has nothing on it. In one part of the room you see a kitchen cupboard that is closed. There is also a cutlery drawer that is closed. You also see a trash can that is closed. In another part of the room you see a dishwasher that is closed. In one part of the room you see a dining chair, that has nothing on it. \\nThrough an open sliding patio door, to the South you see the backyard. To the West you see a closed frosted-glass door. ', 'inventory': 'Inventory (maximum capacity is 2 items): \\n  Your inventory is currently empty.\\n', 'validActions': ['close door to west', 'move west', 'open door to south', 'inventory', 'close door to south', 'move south', 'open door to west', 'look around'], 'scoreRaw': 0.0, 'score': 0.0, 'tasksuccess': False, 'taskfailure': False, 'reward': 0.0, 'done': False, 'numMoves': 1, 'taskDescription': 'Your task is to search the environment and find the coin.  Once you find the coin, take it.', 'lastActionStr': 'open door to south'}\n"
          ]
        }
      ],
      "source": [
        "obs, reward, done, infos = PENV.step('open door to south')\n",
        "print(obs)\n",
        "print(reward)\n",
        "print(done)\n",
        "print(infos)"
      ]
    },
    {
      "cell_type": "markdown",
      "metadata": {
        "id": "knWwRNQV6IyA"
      },
      "source": [
        "Train in the punishment Text World environment."
      ]
    },
    {
      "cell_type": "code",
      "execution_count": 33,
      "metadata": {
        "id": "0K9GoERC6cmS"
      },
      "outputs": [],
      "source": [
        "q_table = q_learning(PENV,\n",
        "                     num_episodes = NUM_EPISODES,\n",
        "                     threshold = THRESHOLD,\n",
        "                     learning_rate = LEARNING_RATE,\n",
        "                     gamma = GAMMA,\n",
        "                     epsilon = EPSILON)"
      ]
    },
    {
      "cell_type": "markdown",
      "metadata": {
        "id": "IDLjkAz66DNm"
      },
      "source": [
        "Test the policy."
      ]
    },
    {
      "cell_type": "code",
      "execution_count": 34,
      "metadata": {
        "id": "c1oehdR96fsu",
        "colab": {
          "base_uri": "https://localhost:8080/"
        },
        "outputId": "b4130045-fdc6-47ab-ac52-0cd06c5e695e"
      },
      "outputs": [
        {
          "output_type": "stream",
          "name": "stdout",
          "text": [
            "plan: ['open door to south', 'move south', 'open door to east', 'open door to east', 'open door to east', 'move east', 'take coin']\n",
            "total reward: 1.0\n"
          ]
        }
      ],
      "source": [
        "plan, total_reward = run_policy(q_table, SENV, threshold = TEST_THRESHOLD)\n",
        "print(\"plan:\", plan)\n",
        "print(\"total reward:\", total_reward)"
      ]
    },
    {
      "cell_type": "markdown",
      "metadata": {
        "id": "ywMkXNMwQsgZ"
      },
      "source": [
        "# Testing Suite"
      ]
    },
    {
      "cell_type": "markdown",
      "metadata": {
        "id": "gR9ZHmgw8UFa"
      },
      "source": [
        "This function will run all environments, all game types, all game parameters, and all seeds."
      ]
    },
    {
      "cell_type": "code",
      "execution_count": 35,
      "metadata": {
        "id": "OLy0jJ9gRA0L"
      },
      "outputs": [],
      "source": [
        "def run_all(environments, games, seeds):\n",
        "  global ENV, GAME_TYPE, GAME_PARAMS, SEED\n",
        "  # Results will contain a key (env type, game type, game params, seed) and values will be plans and total_rewards\n",
        "  results = {}\n",
        "  # Iterate through all environments given\n",
        "  for env in environments:\n",
        "    # set global environment\n",
        "    ENV = env\n",
        "    # Iterate through all game types, the keys of the games dict\n",
        "    for game_type in games:\n",
        "      # Set the global game type\n",
        "      GAME_TYPE = game_type\n",
        "      # Iterate through all game parameters for the given game type in game dict\n",
        "      for params in games[game_type]:\n",
        "        # set the global game params\n",
        "        GAME_PARAMS = params\n",
        "        # load the environment\n",
        "        ENV.load(gameName=GAME_TYPE, gameParams=GAME_PARAMS)\n",
        "        # Iterate through all seeds\n",
        "        for seed in seeds:\n",
        "          print(f\"TESTING {type(ENV)}, {GAME_TYPE}, {GAME_PARAMS}, {seed}\")\n",
        "          # set the global seed\n",
        "          SEED = seed\n",
        "          # Run the q learner and get the policy\n",
        "          q_table = q_learning(ENV,\n",
        "                               num_episodes = NUM_EPISODES,\n",
        "                               threshold = THRESHOLD,\n",
        "                               learning_rate = LEARNING_RATE,\n",
        "                               gamma = GAMMA,\n",
        "                               epsilon = EPSILON)\n",
        "          # run the policy to get the plan\n",
        "          plan, total_reward = run_policy(q_table, ENV, threshold = TEST_THRESHOLD)\n",
        "          # Store the plan in the results\n",
        "          results[(type(ENV), GAME_TYPE, GAME_PARAMS, SEED)] = (plan, total_reward)\n",
        "  return results"
      ]
    },
    {
      "cell_type": "code",
      "execution_count": 36,
      "metadata": {
        "id": "jeBUqaKWbBQj"
      },
      "outputs": [],
      "source": [
        "seeds = list(range(5))\n",
        "environments = [TextWorldExpressEnv(envStepLimit=100),\n",
        "                StochasticTextWorldExpressEnv(envStepLimit=100, stochasticity=0.25),\n",
        "                PunishmentTextWorldExpressEnv(envStepLimit=100, punishment=-1.0)]\n",
        "games = {'coin':      ['numLocations=5,includeDoors=1,numDistractorItems=0',\n",
        "                       'numLocations=6,includeDoors=1,numDistractorItems=0',\n",
        "                       'numLocations=7,includeDoors=1,numDistractorItems=0',\n",
        "                       'numLocations=10,includeDoors=1,numDistractorItems=0'],\n",
        "         'mapreader': ['numLocations=5,maxDistanceApart=3,includeDoors=0,maxDistractorItemsPerLocation=0',\n",
        "                       'numLocations=8,maxDistanceApart=4,includeDoors=0,maxDistractorItemsPerLocation=0',\n",
        "                       'numLocations=11,maxDistanceApart=5,includeDoors=0,maxDistractorItemsPerLocation=0',\n",
        "                       'numLocations=15,maxDistanceApart=8,includeDoors=0,maxDistractorItemsPerLocation=0']}"
      ]
    },
    {
      "cell_type": "markdown",
      "metadata": {
        "id": "NaZoBv5v8Qa9"
      },
      "source": [
        "Set parameters. Do not alter this cell outside of the changing the numeric values.\n",
        "\n",
        "**You might need to change these parameters to get a good result on the harder environments**\n",
        "\n",
        "Please note that increasing `NUM_EPISODES` will result in an increase in time to run the cell below.\n"
      ]
    },
    {
      "cell_type": "code",
      "execution_count": 37,
      "metadata": {
        "id": "-DaxveUb8PQv"
      },
      "outputs": [],
      "source": [
        "# export\n",
        "def set_parameters():\n",
        "    global NUM_EPISODES, THRESHOLD, LEARNING_RATE, GAMMA, EPSILON, TEST_THRESHOLD\n",
        "    #NUM_EPISODES = 100\n",
        "    NUM_EPISODES = 250\n",
        "    THRESHOLD = 150\n",
        "    LEARNING_RATE = 0.65\n",
        "    GAMMA = 0.6\n",
        "    EPSILON = 0.5\n",
        "    TEST_THRESHOLD = 100"
      ]
    },
    {
      "cell_type": "code",
      "execution_count": 38,
      "metadata": {
        "id": "T9dAzWLerjKI"
      },
      "outputs": [],
      "source": [
        "# export\n",
        "set_parameters()"
      ]
    },
    {
      "cell_type": "markdown",
      "metadata": {
        "id": "PzB7i03p8dij"
      },
      "source": [
        "Run all tests"
      ]
    },
    {
      "cell_type": "code",
      "execution_count": null,
      "metadata": {
        "id": "Xxm2giWM8fcJ",
        "colab": {
          "base_uri": "https://localhost:8080/"
        },
        "outputId": "88eff2df-3eca-47d6-945c-85018e9bcd2d"
      },
      "outputs": [
        {
          "output_type": "stream",
          "name": "stdout",
          "text": [
            "TESTING <class 'textworld_express.textworld_express.TextWorldExpressEnv'>, coin, numLocations=5,includeDoors=1,numDistractorItems=0, 0\n",
            "TESTING <class 'textworld_express.textworld_express.TextWorldExpressEnv'>, coin, numLocations=5,includeDoors=1,numDistractorItems=0, 1\n",
            "TESTING <class 'textworld_express.textworld_express.TextWorldExpressEnv'>, coin, numLocations=5,includeDoors=1,numDistractorItems=0, 2\n",
            "TESTING <class 'textworld_express.textworld_express.TextWorldExpressEnv'>, coin, numLocations=5,includeDoors=1,numDistractorItems=0, 3\n",
            "TESTING <class 'textworld_express.textworld_express.TextWorldExpressEnv'>, coin, numLocations=5,includeDoors=1,numDistractorItems=0, 4\n",
            "TESTING <class 'textworld_express.textworld_express.TextWorldExpressEnv'>, coin, numLocations=6,includeDoors=1,numDistractorItems=0, 0\n",
            "TESTING <class 'textworld_express.textworld_express.TextWorldExpressEnv'>, coin, numLocations=6,includeDoors=1,numDistractorItems=0, 1\n",
            "TESTING <class 'textworld_express.textworld_express.TextWorldExpressEnv'>, coin, numLocations=6,includeDoors=1,numDistractorItems=0, 2\n",
            "TESTING <class 'textworld_express.textworld_express.TextWorldExpressEnv'>, coin, numLocations=6,includeDoors=1,numDistractorItems=0, 3\n",
            "TESTING <class 'textworld_express.textworld_express.TextWorldExpressEnv'>, coin, numLocations=6,includeDoors=1,numDistractorItems=0, 4\n",
            "TESTING <class 'textworld_express.textworld_express.TextWorldExpressEnv'>, coin, numLocations=7,includeDoors=1,numDistractorItems=0, 0\n"
          ]
        }
      ],
      "source": [
        "results = run_all(environments, games, seeds)\n",
        "print(results)"
      ]
    },
    {
      "cell_type": "markdown",
      "metadata": {
        "id": "acQaep88V13E"
      },
      "source": [
        "# Grading"
      ]
    },
    {
      "cell_type": "markdown",
      "metadata": {
        "id": "kDcg7IENXtj1"
      },
      "source": [
        "Grading will consist of testing all three environments (regular, stochastic, punishment), two games per environment (coin, mapreader), four sets of parameters per game, and five seeds. There will be a total of 120 tests.\n",
        "There will also be five additional hidden seeds.\n",
        "\n",
        "**Grading:**\n",
        "- 1 point for each correct plan in public games configurations, per algorithm (120 points)\n",
        "- 1 point for each correct plan in hidden game configuration, per algorithm (120 points)\n",
        "\n",
        "Please note that since these environments can be stochastic, and we can only run for so many policy iterations, we will give some leeway with the results for plans and reward values. We will have a benchmark average score across many seeds for an environment, and compare your outputs to our benchmark.\n",
        "\n",
        "Maximum total points: 240\n",
        "\n",
        "# Grading will be conducted by visual inspection (and/or the use of a private autograder) of cell outputs under the \"Testing Suite\" heading. We will compare your plans and reward to our rubric/reference implementations. We will add cells to your notebook at grading time to load and test our hidden world configuration files.\n",
        "\n",
        "We will visually inspect the entire notebook to check if your algorithm implementations include details that are inconsistent with the assignment (e.g., hard-coding values or actions to pass tests) and to make sure no cells were altered to provide unearned grading results."
      ]
    },
    {
      "cell_type": "markdown",
      "metadata": {
        "id": "sA0XSuitsCP5"
      },
      "source": [
        "# Submission\n",
        "\n",
        "Upload this notebook with the name `submission.ipynb` file to Gradescope. The autograder will only run successfully if your file is named this way. You must ensure that you have removed all print statements from **your** code, or the autograder may fail to run.\n",
        "\n",
        "We've added appropriate comments to the top of certain cells for the autograder to export (`# export`). You do NOT have to do anything (e.g. remove print statements) to cells we have provided - anything related to those have been handled for you. You are responsible for ensuring your own code has no syntax errors or unnecessary print statements. You ***CANNOT*** modify the export comments at the top of the cells, or the autograder will fail to run on your submission.\n",
        "\n",
        "You should ***not*** add any cells to the notebook when submitting. You're welcome to add any code as you need to extra cells when testing, but you must remove them when submitting.\n",
        "\n",
        "If you identify an issue with the autograder, please feel free to reach out to us on Ed Discussion, or email rsudhakar9@gatech.edu, with a subject line including \"CS 3600\"."
      ]
    }
  ],
  "metadata": {
    "colab": {
      "provenance": []
    },
    "kernelspec": {
      "display_name": "Python 3",
      "name": "python3"
    },
    "language_info": {
      "name": "python"
    }
  },
  "nbformat": 4,
  "nbformat_minor": 0
}